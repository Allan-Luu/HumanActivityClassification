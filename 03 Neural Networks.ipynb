{
 "cells": [
  {
   "cell_type": "markdown",
   "id": "dfdf7397-1670-4a8c-849a-f5d2bfdaa3d4",
   "metadata": {},
   "source": [
    "# Neural Networks"
   ]
  },
  {
   "cell_type": "code",
   "execution_count": 1,
   "id": "6c476da3-4c50-4055-b410-32154bfea7a3",
   "metadata": {},
   "outputs": [],
   "source": [
    "# importing basic libraries\n",
    "import pandas as pd\n",
    "import numpy as np\n",
    "import matplotlib.pyplot as plt\n",
    "import seaborn as sns\n",
    "\n",
    "# Specific neural network models & layer types\n",
    "import tensorflow as tf\n",
    "from tensorflow import keras\n",
    "from tensorflow.keras.models import Sequential\n",
    "from tensorflow.keras.layers import Conv2D, MaxPooling2D, Flatten, Dense, Dropout\n",
    "from tensorflow.keras.layers import Embedding, LSTM, GRU, BatchNormalization\n",
    "\n",
    "# Ignore futurewarnings\n",
    "import warnings\n",
    "warnings.filterwarnings('ignore')"
   ]
  },
  {
   "cell_type": "code",
   "execution_count": 2,
   "id": "095ce252-f7e5-4450-9ec4-66a420bca8a2",
   "metadata": {},
   "outputs": [],
   "source": [
    "# reading in the data\n",
    "columns = pd.read_csv('data/features2.txt', header = None)\n",
    "\n",
    "X_train = pd.read_csv('data/Train/X_train.txt', names = columns[0], sep=' ')\n",
    "X_test = pd.read_csv('data/Test/X_test.txt', names = columns[0], sep=' ')\n",
    "\n",
    "y_train = pd.read_csv('data/Train/y_train.txt', sep=' ', header = None)\n",
    "y_test = pd.read_csv('data/Test/y_test.txt', sep=' ', header = None)"
   ]
  },
  {
   "cell_type": "markdown",
   "id": "50ce01e3-6c01-48d5-89df-5b50784f69d7",
   "metadata": {},
   "source": [
    "**PLAN**\n",
    "\n",
    "For neural networks, you can simply try a fully connected NN with a few layers, \n",
    "\n",
    "first ignoring the time component and previous activity\n",
    "\n",
    "then second, you can do RNNs by feeding in say 10 time-steps and predicting the next activity"
   ]
  },
  {
   "cell_type": "markdown",
   "id": "bd699dee-f220-4125-87b7-1d80f0a2ecbe",
   "metadata": {},
   "source": [
    "### Building a Neural Network Using Keras\n",
    "\n",
    "The process of building a network using Keras can generally be broken down into four separate steps:\n",
    "1. **Build the model**: This is the step where we will declare the structure of the network — primarily the types and sizes of the hidden layers.\n",
    "2. **Compile the model**: This step allows us to customize some of the settings that will be used for training.\n",
    "3. **Train the model**\n",
    "4. **Evaluate the model and generate predictions**"
   ]
  },
  {
   "cell_type": "code",
   "execution_count": null,
   "id": "bd6338fe-0323-4770-ae1f-0f5c2e8e326f",
   "metadata": {},
   "outputs": [],
   "source": []
  }
 ],
 "metadata": {
  "kernelspec": {
   "display_name": "deeplearning",
   "language": "python",
   "name": "deeplearning"
  },
  "language_info": {
   "codemirror_mode": {
    "name": "ipython",
    "version": 3
   },
   "file_extension": ".py",
   "mimetype": "text/x-python",
   "name": "python",
   "nbconvert_exporter": "python",
   "pygments_lexer": "ipython3",
   "version": "3.8.2"
  }
 },
 "nbformat": 4,
 "nbformat_minor": 5
}
