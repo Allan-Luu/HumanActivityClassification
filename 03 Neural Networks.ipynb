{
 "cells": [
  {
   "cell_type": "markdown",
   "id": "dfdf7397-1670-4a8c-849a-f5d2bfdaa3d4",
   "metadata": {},
   "source": [
    "# Neural Networks"
   ]
  },
  {
   "cell_type": "markdown",
   "id": "f2743a5e-bd1f-414e-8d99-0afccb0d9b32",
   "metadata": {},
   "source": [
    "### Introduction "
   ]
  },
  {
   "cell_type": "markdown",
   "id": "98c602f3-8ce1-467f-84a9-cb1beea74b28",
   "metadata": {},
   "source": [
    "This notebook contains our neural network analyses that were performed on the data downloaded from [UCI machine learning repository](http://archive.ics.uci.edu/ml/datasets/Smartphone-Based+Recognition+of+Human+Activities+and+Postural+Transitions)\n",
    "\n",
    "We will be using the train/test data provided in order to use neural network models to identify which activity is being performed based off of phone sensor data."
   ]
  },
  {
   "cell_type": "markdown",
   "id": "e421b300-3934-4a2f-bdb8-b8e88b5fe7a1",
   "metadata": {},
   "source": [
    "First, we'll start off by importing our required libraries for this analysis"
   ]
  },
  {
   "cell_type": "code",
   "execution_count": 39,
   "id": "6c476da3-4c50-4055-b410-32154bfea7a3",
   "metadata": {},
   "outputs": [],
   "source": [
    "# importing basic libraries\n",
    "import pandas as pd\n",
    "import numpy as np\n",
    "import matplotlib.pyplot as plt\n",
    "import seaborn as sns\n",
    "\n",
    "# Specific neural network models & layer types\n",
    "import tensorflow as tf\n",
    "from tensorflow import keras\n",
    "from tensorflow.keras import layers\n",
    "from tensorflow.keras.models import Sequential\n",
    "from tensorflow.keras.layers import Conv2D, MaxPooling2D, Flatten, Dense, Dropout\n",
    "from tensorflow.keras.layers import Embedding, LSTM, GRU, BatchNormalization, TimeDistributed\n",
    "from keras.layers.convolutional import Conv1D, MaxPooling1D\n",
    "from tensorflow.keras.utils import timeseries_dataset_from_array\n",
    "\n",
    "# Data reformatting\n",
    "from sklearn.model_selection import train_test_split\n",
    "from sklearn.preprocessing import OneHotEncoder\n",
    "\n",
    "# Ignore futurewarnings\n",
    "import warnings\n",
    "warnings.filterwarnings('ignore')"
   ]
  },
  {
   "cell_type": "markdown",
   "id": "d6c9e02b-e045-4080-9c83-3547c9d999b0",
   "metadata": {},
   "source": [
    "The way this data is read is explained in `01 Basic_EDA.ipynb` "
   ]
  },
  {
   "cell_type": "code",
   "execution_count": 40,
   "id": "095ce252-f7e5-4450-9ec4-66a420bca8a2",
   "metadata": {},
   "outputs": [],
   "source": [
    "# reading in the data\n",
    "columns = pd.read_csv('data/features2.txt', header = None)\n",
    "\n",
    "X_train_orig = pd.read_csv('data/Train/X_train.txt', names = columns[0], sep=' ')\n",
    "X_test_orig = pd.read_csv('data/Test/X_test.txt', names = columns[0], sep=' ')\n",
    "\n",
    "y_train_orig = pd.read_csv('data/Train/y_train.txt', sep=' ', header = None)\n",
    "y_test_orig = pd.read_csv('data/Test/y_test.txt', sep=' ', header = None)"
   ]
  },
  {
   "cell_type": "markdown",
   "id": "37b94a28-0614-4be4-ad16-64ddf021b806",
   "metadata": {},
   "source": [
    "For our recurrent neural network model, we'll need to reformat our data into arrays in order to create the input window with the `.timeseries_dataset_from_array` method. We do this by using the pandas `.values` function."
   ]
  },
  {
   "cell_type": "code",
   "execution_count": 41,
   "id": "5a120a5f-0d58-467e-8f10-b293aaa3291f",
   "metadata": {},
   "outputs": [],
   "source": [
    "X_train = X_train_orig.values\n",
    "X_test = X_test_orig.values"
   ]
  },
  {
   "cell_type": "markdown",
   "id": "c6b28e10-d360-47cf-bfb5-6227a7d5a1d3",
   "metadata": {},
   "source": [
    "We will also one hot encode our target data because we have a total of 12 targets."
   ]
  },
  {
   "cell_type": "code",
   "execution_count": 42,
   "id": "a2294165-2657-4dd0-84a6-72279c2d0f5e",
   "metadata": {},
   "outputs": [],
   "source": [
    "# One hot encoding target data\n",
    "ohe = OneHotEncoder()\n",
    "y_train = ohe.fit_transform(y_train_orig).toarray()\n",
    "y_test = ohe.fit_transform(y_test_orig).toarray()"
   ]
  },
  {
   "cell_type": "markdown",
   "id": "94ab6d53-b7d8-4f7c-9820-bce835c1f929",
   "metadata": {},
   "source": [
    "Now, we'll also prepare some train and validation sets, with the validation sets being 10% of the total train data. This is to refine our models."
   ]
  },
  {
   "cell_type": "code",
   "execution_count": 43,
   "id": "9cb664f7-2199-45f8-bfbf-1d750fb86cac",
   "metadata": {},
   "outputs": [],
   "source": [
    "# split train and validation set for OHE data\n",
    "X_train2, X_validation, y_train2, y_validation = train_test_split(X_train, y_train, test_size=0.1)"
   ]
  },
  {
   "cell_type": "markdown",
   "id": "50ce01e3-6c01-48d5-89df-5b50784f69d7",
   "metadata": {},
   "source": [
    "### PLAN\n",
    "\n",
    "For neural networks, our goal is to first try a simple fully connected NN with a few layers, first ignoring the time component and previous activity. \n",
    "\n",
    "Then second, we will create a recurrent neural network by feeding in 20 time-steps and perform some sequential classification, predicting the current/next movement."
   ]
  },
  {
   "cell_type": "markdown",
   "id": "bd699dee-f220-4125-87b7-1d80f0a2ecbe",
   "metadata": {},
   "source": [
    "### Building a Neural Network Using Keras\n",
    "\n",
    "The process of building a network using Keras can generally be broken down into four separate steps:\n",
    "1. **Build the model**: This is the step where we will declare the structure of the network — primarily the types and sizes of the hidden layers.\n",
    "2. **Compile the model**: This step allows us to customize some of the settings that will be used for training.\n",
    "3. **Train the model**\n",
    "4. **Evaluate the model and generate predictions**"
   ]
  },
  {
   "cell_type": "markdown",
   "id": "85e65fbf-376f-49ba-9ea5-9b9794937a82",
   "metadata": {
    "jp-MarkdownHeadingCollapsed": true,
    "tags": []
   },
   "source": [
    "### Fully Connected Neural Network"
   ]
  },
  {
   "cell_type": "markdown",
   "id": "7666378e-63a7-4bba-8fed-57043088ae1a",
   "metadata": {},
   "source": [
    "For our fully connect neural networks, we'll be using the following parameters:\n",
    "\n",
    "- softmax output layer: ensures all probabilities add up to 1\n",
    "- adam optimizer: best adaptive optimizer and is good with datasets with large number of features\n",
    "- sparse categorical crossentropy loss function: obtains cross entropy between labels and predictions\n",
    "- sparse categorical accuracy metric: for multivariate classification"
   ]
  },
  {
   "cell_type": "markdown",
   "id": "7f6a0ed5-95a1-46e5-a401-61aad9400cdb",
   "metadata": {
    "tags": []
   },
   "source": [
    "#### 3 Layer NN"
   ]
  },
  {
   "cell_type": "markdown",
   "id": "ab28d023-f963-4c1f-ba48-d71fbb93bb86",
   "metadata": {},
   "source": [
    "We will start building our model by instantiating the sequential mode, adding layers, then compiling the model."
   ]
  },
  {
   "cell_type": "code",
   "execution_count": 46,
   "id": "7ed19462-64aa-4d56-a18b-8b93b4fec305",
   "metadata": {},
   "outputs": [],
   "source": [
    "# Create a new sequential model\n",
    "model = keras.Sequential()\n",
    "\n",
    "# Declare the hidden layers\n",
    "# We'll be using the RELU activation function for our layers for the unbound benefit\n",
    "# Dense layers will be used to create a fully connected neural network model\n",
    "\n",
    "model.add(layers.Dense(40, activation=\"relu\"))\n",
    "model.add(layers.Dense(40, activation=\"relu\"))\n",
    "model.add(layers.Dense(40, activation=\"relu\"))\n",
    "\n",
    "\n",
    "# Declare the output layer\n",
    "# Our output layer has 12 units for the 12 different activities to be classified\n",
    "# There are 6 main actions, and 6 transition actions\n",
    "# Transition actions are when the participant transitions to the next position\n",
    "model.add(layers.Dense(13, activation=\"softmax\"))\n",
    "\n",
    "# Compile the model\n",
    "model.compile(\n",
    "    # Optimizer\n",
    "    optimizer=keras.optimizers.Adam(),  \n",
    "    # Loss function to minimize\n",
    "    loss=keras.losses.SparseCategoricalCrossentropy(),\n",
    "    # Metric used to evaluate model\n",
    "    metrics=[keras.metrics.SparseCategoricalAccuracy()]\n",
    ")"
   ]
  },
  {
   "cell_type": "markdown",
   "id": "1664444b-1c42-473f-b507-40cb81cb1d11",
   "metadata": {},
   "source": [
    "Now we'll fit our model with the train data"
   ]
  },
  {
   "cell_type": "code",
   "execution_count": 47,
   "id": "f6a2f020-f94b-46d5-913f-69c5c60bb297",
   "metadata": {
    "scrolled": true,
    "tags": []
   },
   "outputs": [],
   "source": [
    "# Fit the model\n",
    "history = model.fit(X_train_orig, y_train_orig, epochs=100, verbose=0)"
   ]
  },
  {
   "cell_type": "markdown",
   "id": "cf6539ea-ef0d-41a7-bb97-71b7afa51943",
   "metadata": {},
   "source": [
    "Then we will test the accuracy of our model and compare it to the train accuracy."
   ]
  },
  {
   "cell_type": "code",
   "execution_count": 48,
   "id": "75c9f6a9-8b00-402a-bcc4-f81d201a532d",
   "metadata": {
    "tags": []
   },
   "outputs": [
    {
     "name": "stdout",
     "output_type": "stream",
     "text": [
      "Train Accuracy: 0.9946\n",
      "Test Accuracy: 0.9194\n"
     ]
    }
   ],
   "source": [
    "# Evaluate the model using the test data and generate predictions\n",
    "train_accuracy = history.history[\"sparse_categorical_accuracy\"][-1]\n",
    "result = model.evaluate(X_test_orig, y_test_orig, verbose=0)\n",
    "\n",
    "print(f\"Train Accuracy: {train_accuracy:.4f}\")\n",
    "print(f\"Test Accuracy: {result[1]:.4f}\")\n",
    "\n",
    "predictions = model.predict(X_test_orig)"
   ]
  },
  {
   "cell_type": "markdown",
   "id": "12d24536-3512-4e26-aa5b-f8ea6df2a240",
   "metadata": {},
   "source": [
    "With a train accuracy of 99.46% and a test accuracy of 91.94%, this is a very good start. The high train accuracy scores along with the test accuracy not being too far behind indicate that the model isn't overfit and is performing very well.\n",
    "\n",
    "Let's try taking a look at a neural network model with 5 layers."
   ]
  },
  {
   "cell_type": "markdown",
   "id": "ad147883-aa5f-4598-8b79-63eb17ab44d8",
   "metadata": {
    "tags": []
   },
   "source": [
    "#### 5 Layer NN "
   ]
  },
  {
   "cell_type": "markdown",
   "id": "7a763bcc-2afe-4a23-a21c-c8443e4b64c3",
   "metadata": {},
   "source": [
    "We will follow the same steps as above to build, compile and train the neural network model."
   ]
  },
  {
   "cell_type": "code",
   "execution_count": 61,
   "id": "d8dfd0cf-dcd2-41de-be29-39a71bde3597",
   "metadata": {},
   "outputs": [],
   "source": [
    "# Create a new sequential model\n",
    "model = keras.Sequential()\n",
    "\n",
    "# Declare the hidden layers\n",
    "# We'll be using the RELU activation function for our layers for the unbound benefit\n",
    "# Dense layers will be used to create a fully connected neural network model\n",
    "\n",
    "model.add(layers.Dense(40, activation=\"relu\"))\n",
    "model.add(layers.Dense(40, activation=\"relu\"))\n",
    "model.add(layers.Dense(40, activation=\"relu\"))\n",
    "model.add(layers.Dense(40, activation=\"relu\"))\n",
    "model.add(layers.Dense(40, activation=\"relu\"))\n",
    "\n",
    "# Declare the output layer\n",
    "# Our output layer has 12 units for the 12 different activities to be classified\n",
    "# There are 6 main actions, and 6 transition actions\n",
    "# Transition actions are when the participant transitions to the next position\n",
    "model.add(layers.Dense(13, activation=\"softmax\"))\n",
    "\n",
    "# Compile the model\n",
    "model.compile(\n",
    "    # Optimizer\n",
    "    optimizer=keras.optimizers.Adam(),  \n",
    "    # Loss function to minimize\n",
    "    loss=keras.losses.SparseCategoricalCrossentropy(),\n",
    "    # Metric used to evaluate model\n",
    "    metrics=[keras.metrics.SparseCategoricalAccuracy()]\n",
    ")"
   ]
  },
  {
   "cell_type": "markdown",
   "id": "89f480bb-c8ed-44f7-9b3a-59f6b4acc942",
   "metadata": {},
   "source": [
    "Now we will fit the model on our train data, with the same number of epochs as our 3-layer model."
   ]
  },
  {
   "cell_type": "code",
   "execution_count": 62,
   "id": "49f09df9-d4a6-4590-bbbc-da260c24aebc",
   "metadata": {
    "scrolled": true,
    "tags": []
   },
   "outputs": [
    {
     "name": "stdout",
     "output_type": "stream",
     "text": [
      "Epoch 1/100\n",
      "243/243 [==============================] - 1s 1ms/step - loss: 0.8520 - sparse_categorical_accuracy: 0.6710\n",
      "Epoch 2/100\n",
      "243/243 [==============================] - 0s 1ms/step - loss: 0.2736 - sparse_categorical_accuracy: 0.8926\n",
      "Epoch 3/100\n",
      "243/243 [==============================] - 0s 1ms/step - loss: 0.1765 - sparse_categorical_accuracy: 0.9279\n",
      "Epoch 4/100\n",
      "243/243 [==============================] - 0s 1ms/step - loss: 0.1439 - sparse_categorical_accuracy: 0.9426\n",
      "Epoch 5/100\n",
      "243/243 [==============================] - 0s 1ms/step - loss: 0.1358 - sparse_categorical_accuracy: 0.9441\n",
      "Epoch 6/100\n",
      "243/243 [==============================] - 0s 1ms/step - loss: 0.1118 - sparse_categorical_accuracy: 0.9552\n",
      "Epoch 7/100\n",
      "243/243 [==============================] - 0s 1ms/step - loss: 0.1084 - sparse_categorical_accuracy: 0.9571\n",
      "Epoch 8/100\n",
      "243/243 [==============================] - 0s 1ms/step - loss: 0.1115 - sparse_categorical_accuracy: 0.9548\n",
      "Epoch 9/100\n",
      "243/243 [==============================] - 0s 1ms/step - loss: 0.1087 - sparse_categorical_accuracy: 0.9556\n",
      "Epoch 10/100\n",
      "243/243 [==============================] - 0s 1ms/step - loss: 0.1041 - sparse_categorical_accuracy: 0.9598\n",
      "Epoch 11/100\n",
      "243/243 [==============================] - 0s 1ms/step - loss: 0.1021 - sparse_categorical_accuracy: 0.9579\n",
      "Epoch 12/100\n",
      "243/243 [==============================] - 0s 1ms/step - loss: 0.0875 - sparse_categorical_accuracy: 0.9634\n",
      "Epoch 13/100\n",
      "243/243 [==============================] - 0s 1ms/step - loss: 0.0756 - sparse_categorical_accuracy: 0.9695\n",
      "Epoch 14/100\n",
      "243/243 [==============================] - 0s 1ms/step - loss: 0.0809 - sparse_categorical_accuracy: 0.9679\n",
      "Epoch 15/100\n",
      "243/243 [==============================] - 0s 1ms/step - loss: 0.0816 - sparse_categorical_accuracy: 0.9661\n",
      "Epoch 16/100\n",
      "243/243 [==============================] - 0s 1ms/step - loss: 0.0853 - sparse_categorical_accuracy: 0.9652\n",
      "Epoch 17/100\n",
      "243/243 [==============================] - 0s 1ms/step - loss: 0.0687 - sparse_categorical_accuracy: 0.9706\n",
      "Epoch 18/100\n",
      "243/243 [==============================] - 0s 1ms/step - loss: 0.0984 - sparse_categorical_accuracy: 0.9607\n",
      "Epoch 19/100\n",
      "243/243 [==============================] - 0s 1ms/step - loss: 0.0608 - sparse_categorical_accuracy: 0.9736\n",
      "Epoch 20/100\n",
      "243/243 [==============================] - 0s 1ms/step - loss: 0.0818 - sparse_categorical_accuracy: 0.9670\n",
      "Epoch 21/100\n",
      "243/243 [==============================] - 0s 1ms/step - loss: 0.0696 - sparse_categorical_accuracy: 0.9714\n",
      "Epoch 22/100\n",
      "243/243 [==============================] - 0s 1ms/step - loss: 0.0704 - sparse_categorical_accuracy: 0.9735\n",
      "Epoch 23/100\n",
      "243/243 [==============================] - 0s 1ms/step - loss: 0.0672 - sparse_categorical_accuracy: 0.9741\n",
      "Epoch 24/100\n",
      "243/243 [==============================] - 0s 1ms/step - loss: 0.0698 - sparse_categorical_accuracy: 0.9721\n",
      "Epoch 25/100\n",
      "243/243 [==============================] - 0s 1ms/step - loss: 0.0682 - sparse_categorical_accuracy: 0.9724\n",
      "Epoch 26/100\n",
      "243/243 [==============================] - 0s 1ms/step - loss: 0.0987 - sparse_categorical_accuracy: 0.9668\n",
      "Epoch 27/100\n",
      "243/243 [==============================] - 0s 2ms/step - loss: 0.0495 - sparse_categorical_accuracy: 0.9802\n",
      "Epoch 28/100\n",
      "243/243 [==============================] - 0s 1ms/step - loss: 0.0538 - sparse_categorical_accuracy: 0.9794\n",
      "Epoch 29/100\n",
      "243/243 [==============================] - 0s 1ms/step - loss: 0.0630 - sparse_categorical_accuracy: 0.9762\n",
      "Epoch 30/100\n",
      "243/243 [==============================] - 0s 1ms/step - loss: 0.0574 - sparse_categorical_accuracy: 0.9772\n",
      "Epoch 31/100\n",
      "243/243 [==============================] - 0s 1ms/step - loss: 0.0601 - sparse_categorical_accuracy: 0.9762\n",
      "Epoch 32/100\n",
      "243/243 [==============================] - 0s 1ms/step - loss: 0.0622 - sparse_categorical_accuracy: 0.9741\n",
      "Epoch 33/100\n",
      "243/243 [==============================] - 0s 1ms/step - loss: 0.0439 - sparse_categorical_accuracy: 0.9821\n",
      "Epoch 34/100\n",
      "243/243 [==============================] - 0s 1ms/step - loss: 0.0560 - sparse_categorical_accuracy: 0.9777\n",
      "Epoch 35/100\n",
      "243/243 [==============================] - 0s 1ms/step - loss: 0.0518 - sparse_categorical_accuracy: 0.9786\n",
      "Epoch 36/100\n",
      "243/243 [==============================] - 0s 1ms/step - loss: 0.0459 - sparse_categorical_accuracy: 0.9830\n",
      "Epoch 37/100\n",
      "243/243 [==============================] - 0s 1ms/step - loss: 0.0443 - sparse_categorical_accuracy: 0.9839\n",
      "Epoch 38/100\n",
      "243/243 [==============================] - 0s 1ms/step - loss: 0.0633 - sparse_categorical_accuracy: 0.9761\n",
      "Epoch 39/100\n",
      "243/243 [==============================] - 0s 1ms/step - loss: 0.0476 - sparse_categorical_accuracy: 0.9818\n",
      "Epoch 40/100\n",
      "243/243 [==============================] - 0s 1ms/step - loss: 0.0483 - sparse_categorical_accuracy: 0.9824\n",
      "Epoch 41/100\n",
      "243/243 [==============================] - 0s 1ms/step - loss: 0.0437 - sparse_categorical_accuracy: 0.9824\n",
      "Epoch 42/100\n",
      "243/243 [==============================] - 0s 1ms/step - loss: 0.0499 - sparse_categorical_accuracy: 0.9795\n",
      "Epoch 43/100\n",
      "243/243 [==============================] - 0s 1ms/step - loss: 0.0428 - sparse_categorical_accuracy: 0.9836\n",
      "Epoch 44/100\n",
      "243/243 [==============================] - 0s 1ms/step - loss: 0.0381 - sparse_categorical_accuracy: 0.9835\n",
      "Epoch 45/100\n",
      "243/243 [==============================] - 0s 1ms/step - loss: 0.0511 - sparse_categorical_accuracy: 0.9800\n",
      "Epoch 46/100\n",
      "243/243 [==============================] - 0s 1ms/step - loss: 0.0467 - sparse_categorical_accuracy: 0.9818\n",
      "Epoch 47/100\n",
      "243/243 [==============================] - 0s 1ms/step - loss: 0.0337 - sparse_categorical_accuracy: 0.9873\n",
      "Epoch 48/100\n",
      "243/243 [==============================] - 0s 1ms/step - loss: 0.0516 - sparse_categorical_accuracy: 0.9815\n",
      "Epoch 49/100\n",
      "243/243 [==============================] - 0s 1ms/step - loss: 0.0347 - sparse_categorical_accuracy: 0.9865\n",
      "Epoch 50/100\n",
      "243/243 [==============================] - 0s 1ms/step - loss: 0.0385 - sparse_categorical_accuracy: 0.9845\n",
      "Epoch 51/100\n",
      "243/243 [==============================] - 0s 1ms/step - loss: 0.0518 - sparse_categorical_accuracy: 0.9782\n",
      "Epoch 52/100\n",
      "243/243 [==============================] - 0s 1ms/step - loss: 0.0294 - sparse_categorical_accuracy: 0.9897\n",
      "Epoch 53/100\n",
      "243/243 [==============================] - 0s 1ms/step - loss: 0.0299 - sparse_categorical_accuracy: 0.9880\n",
      "Epoch 54/100\n",
      "243/243 [==============================] - 0s 1ms/step - loss: 0.0559 - sparse_categorical_accuracy: 0.9790\n",
      "Epoch 55/100\n",
      "243/243 [==============================] - 0s 1ms/step - loss: 0.0301 - sparse_categorical_accuracy: 0.9896\n",
      "Epoch 56/100\n",
      "243/243 [==============================] - 0s 1ms/step - loss: 0.0248 - sparse_categorical_accuracy: 0.9897\n",
      "Epoch 57/100\n",
      "243/243 [==============================] - 0s 1ms/step - loss: 0.0284 - sparse_categorical_accuracy: 0.9892\n",
      "Epoch 58/100\n",
      "243/243 [==============================] - 0s 1ms/step - loss: 0.0449 - sparse_categorical_accuracy: 0.9842\n",
      "Epoch 59/100\n",
      "243/243 [==============================] - 0s 1ms/step - loss: 0.0276 - sparse_categorical_accuracy: 0.9905\n",
      "Epoch 60/100\n",
      "243/243 [==============================] - 0s 1ms/step - loss: 0.0409 - sparse_categorical_accuracy: 0.9825\n",
      "Epoch 61/100\n",
      "243/243 [==============================] - 0s 1ms/step - loss: 0.0360 - sparse_categorical_accuracy: 0.9861\n",
      "Epoch 62/100\n",
      "243/243 [==============================] - 0s 1ms/step - loss: 0.0494 - sparse_categorical_accuracy: 0.9808\n",
      "Epoch 63/100\n",
      "243/243 [==============================] - 0s 1ms/step - loss: 0.0303 - sparse_categorical_accuracy: 0.9893\n",
      "Epoch 64/100\n",
      "243/243 [==============================] - 0s 1ms/step - loss: 0.0313 - sparse_categorical_accuracy: 0.9887\n",
      "Epoch 65/100\n",
      "243/243 [==============================] - 0s 1ms/step - loss: 0.0433 - sparse_categorical_accuracy: 0.9848\n",
      "Epoch 66/100\n",
      "243/243 [==============================] - 0s 1ms/step - loss: 0.0292 - sparse_categorical_accuracy: 0.9887\n",
      "Epoch 67/100\n",
      "243/243 [==============================] - 0s 1ms/step - loss: 0.0358 - sparse_categorical_accuracy: 0.9870\n",
      "Epoch 68/100\n",
      "243/243 [==============================] - 0s 1ms/step - loss: 0.0303 - sparse_categorical_accuracy: 0.9885\n",
      "Epoch 69/100\n",
      "243/243 [==============================] - 0s 1ms/step - loss: 0.0306 - sparse_categorical_accuracy: 0.9871\n",
      "Epoch 70/100\n",
      "243/243 [==============================] - 0s 1ms/step - loss: 0.0224 - sparse_categorical_accuracy: 0.9906\n",
      "Epoch 71/100\n",
      "243/243 [==============================] - 0s 2ms/step - loss: 0.0334 - sparse_categorical_accuracy: 0.9884\n",
      "Epoch 72/100\n",
      "243/243 [==============================] - 0s 2ms/step - loss: 0.0269 - sparse_categorical_accuracy: 0.9894\n",
      "Epoch 73/100\n",
      "243/243 [==============================] - 0s 1ms/step - loss: 0.0359 - sparse_categorical_accuracy: 0.9879\n",
      "Epoch 74/100\n",
      "243/243 [==============================] - 0s 2ms/step - loss: 0.0318 - sparse_categorical_accuracy: 0.9884\n",
      "Epoch 75/100\n",
      "243/243 [==============================] - 0s 1ms/step - loss: 0.0192 - sparse_categorical_accuracy: 0.9920\n",
      "Epoch 76/100\n",
      "243/243 [==============================] - 0s 2ms/step - loss: 0.0198 - sparse_categorical_accuracy: 0.9923\n",
      "Epoch 77/100\n",
      "243/243 [==============================] - 0s 2ms/step - loss: 0.0178 - sparse_categorical_accuracy: 0.9929\n",
      "Epoch 78/100\n",
      "243/243 [==============================] - 0s 2ms/step - loss: 0.0521 - sparse_categorical_accuracy: 0.9853\n",
      "Epoch 79/100\n",
      "243/243 [==============================] - 0s 1ms/step - loss: 0.0232 - sparse_categorical_accuracy: 0.9918\n",
      "Epoch 80/100\n",
      "243/243 [==============================] - 0s 1ms/step - loss: 0.0153 - sparse_categorical_accuracy: 0.9948\n",
      "Epoch 81/100\n",
      "243/243 [==============================] - 0s 2ms/step - loss: 0.0244 - sparse_categorical_accuracy: 0.9907\n",
      "Epoch 82/100\n",
      "243/243 [==============================] - 0s 2ms/step - loss: 0.0331 - sparse_categorical_accuracy: 0.9888\n",
      "Epoch 83/100\n",
      "243/243 [==============================] - 0s 2ms/step - loss: 0.0168 - sparse_categorical_accuracy: 0.9934\n",
      "Epoch 84/100\n",
      "243/243 [==============================] - 0s 1ms/step - loss: 0.0193 - sparse_categorical_accuracy: 0.9934\n",
      "Epoch 85/100\n",
      "243/243 [==============================] - 0s 1ms/step - loss: 0.0306 - sparse_categorical_accuracy: 0.9883\n",
      "Epoch 86/100\n",
      "243/243 [==============================] - 0s 1ms/step - loss: 0.0268 - sparse_categorical_accuracy: 0.9909\n",
      "Epoch 87/100\n",
      "243/243 [==============================] - 0s 1ms/step - loss: 0.0187 - sparse_categorical_accuracy: 0.9937\n",
      "Epoch 88/100\n",
      "243/243 [==============================] - 0s 1ms/step - loss: 0.0239 - sparse_categorical_accuracy: 0.9911\n",
      "Epoch 89/100\n",
      "243/243 [==============================] - 0s 1ms/step - loss: 0.0387 - sparse_categorical_accuracy: 0.9861\n",
      "Epoch 90/100\n",
      "243/243 [==============================] - 0s 1ms/step - loss: 0.0131 - sparse_categorical_accuracy: 0.9951\n",
      "Epoch 91/100\n",
      "243/243 [==============================] - 0s 1ms/step - loss: 0.0195 - sparse_categorical_accuracy: 0.9927\n",
      "Epoch 92/100\n",
      "243/243 [==============================] - 0s 1ms/step - loss: 0.0133 - sparse_categorical_accuracy: 0.9954\n",
      "Epoch 93/100\n",
      "243/243 [==============================] - 0s 2ms/step - loss: 0.0210 - sparse_categorical_accuracy: 0.9919\n",
      "Epoch 94/100\n",
      "243/243 [==============================] - 0s 1ms/step - loss: 0.0254 - sparse_categorical_accuracy: 0.9928\n",
      "Epoch 95/100\n",
      "243/243 [==============================] - 0s 1ms/step - loss: 0.0231 - sparse_categorical_accuracy: 0.9914\n",
      "Epoch 96/100\n",
      "243/243 [==============================] - 0s 1ms/step - loss: 0.0088 - sparse_categorical_accuracy: 0.9970\n",
      "Epoch 97/100\n",
      "243/243 [==============================] - 0s 1ms/step - loss: 0.0417 - sparse_categorical_accuracy: 0.9853\n",
      "Epoch 98/100\n",
      "243/243 [==============================] - 0s 1ms/step - loss: 0.0305 - sparse_categorical_accuracy: 0.9883\n",
      "Epoch 99/100\n",
      "243/243 [==============================] - 0s 1ms/step - loss: 0.0169 - sparse_categorical_accuracy: 0.9943\n",
      "Epoch 100/100\n",
      "243/243 [==============================] - 0s 1ms/step - loss: 0.0292 - sparse_categorical_accuracy: 0.9898\n"
     ]
    }
   ],
   "source": [
    "# Fit the model\n",
    "history = model.fit(X_train_orig, y_train_orig, epochs=100, verbose=1)"
   ]
  },
  {
   "cell_type": "markdown",
   "id": "f486fc64-c5ca-4d54-b773-712507507238",
   "metadata": {},
   "source": [
    "Now we can evaluate our model on the test data."
   ]
  },
  {
   "cell_type": "code",
   "execution_count": 65,
   "id": "55a251fb-83dc-4f1a-8f4e-df5d14ff7957",
   "metadata": {
    "tags": []
   },
   "outputs": [
    {
     "name": "stdout",
     "output_type": "stream",
     "text": [
      "Train Accuracy: 0.9898\n",
      "Test Accuracy: 0.9405\n"
     ]
    }
   ],
   "source": [
    "# Evaluate the model using the test data and generate predictions\n",
    "train_accuracy = history.history[\"sparse_categorical_accuracy\"][-1]\n",
    "result = model.evaluate(X_test_orig, y_test_orig, verbose=0)\n",
    "\n",
    "print(f\"Train Accuracy: {train_accuracy:.4f}\")\n",
    "print(f\"Test Accuracy: {result[1]:.4f}\")\n",
    "\n",
    "predictions = model.predict(X_test_orig)"
   ]
  },
  {
   "cell_type": "markdown",
   "id": "c797a1d0-806c-482c-853a-7c53270720f4",
   "metadata": {},
   "source": [
    "Look at that! Although our train accuracy is slightly lower, we have a smaller gap between the train and test accuracys when compared to the 3-layer model."
   ]
  },
  {
   "cell_type": "markdown",
   "id": "20938def-227e-4675-a3a4-a6769a3d0a2a",
   "metadata": {},
   "source": [
    "| Model | Train Accuracy | Test Accuracy |\n",
    "| --- | --- | --- |\n",
    "| 3-Layer | 99.46% | 91.94% |\n",
    "| 5-Layer | 98.98% | 94.05% |"
   ]
  },
  {
   "cell_type": "markdown",
   "id": "b1f14f41-d6d5-427e-93bd-1daf06f02dba",
   "metadata": {},
   "source": [
    "### Recurrent Neural Network"
   ]
  },
  {
   "cell_type": "markdown",
   "id": "47fb3e0a-af05-43fe-a30d-771abaa6da3d",
   "metadata": {},
   "source": [
    "Let's now take a look at how well a recurrent neural network (RNN) does with this data. \n",
    "\n",
    "In this analysis, we'll be building a RNN model that has a window size of 20, and the model will evaluate all activities at once to make a prediction.\n",
    "The window size allows the prediction to be made on the 20 records, performing a one shot prediction.\n",
    "\n",
    "To create these windows, we'll use the `.timeseries_dataset_from_array` function from the tensorflow, keras library. This function requres an array input in order to easily split the data into a format compatible with the RNN.\n",
    "\n",
    "- The sample_length = window size\n",
    "- The stride is the period between successive output sequences\n",
    "- Batch size is set to a number that would include all records of our data for the train and validation sets\n",
    "- Shuffle = False because we don't want to reorganize our timeseries data"
   ]
  },
  {
   "cell_type": "code",
   "execution_count": 66,
   "id": "99248549-d50d-4d9e-b176-d52e28181d36",
   "metadata": {},
   "outputs": [],
   "source": [
    "sample_length = 20\n",
    "stride = 5\n",
    "\n",
    "X_train3 = tf.keras.preprocessing.timeseries_dataset_from_array(\n",
    "  X_train2, None, sequence_length=sample_length, sequence_stride=stride, shuffle=False, batch_size = 540)\n",
    "y_train3 = tf.keras.preprocessing.timeseries_dataset_from_array(\n",
    "  y_train2, None, sequence_length=sample_length, sequence_stride=stride, shuffle=False, batch_size = 540)\n",
    "X_val = tf.keras.preprocessing.timeseries_dataset_from_array(\n",
    "  X_validation, None, sequence_length=sample_length, sequence_stride=stride, shuffle=False, batch_size = 60)\n",
    "y_val = tf.keras.preprocessing.timeseries_dataset_from_array(\n",
    "  y_validation, None, sequence_length=sample_length, sequence_stride=stride, shuffle=False, batch_size = 60)\n",
    "\n",
    "# create datasets for the training RNN input and target\n",
    "for batch in zip(X_train3, y_train3):\n",
    "    inputs, targets = batch\n",
    "    break\n",
    "    \n",
    "# create datasets for the validation RNN input and target\n",
    "for batch in zip(X_val, y_val):\n",
    "    input_val, target_val = batch\n",
    "    break"
   ]
  },
  {
   "cell_type": "code",
   "execution_count": 67,
   "id": "e80def19-19af-41b3-a75c-a8646d9caac1",
   "metadata": {},
   "outputs": [
    {
     "name": "stdout",
     "output_type": "stream",
     "text": [
      "The shape of the X_train data is: (6990, 561)\n",
      "The shape of the y_train data is: (6990, 12)\n",
      "The shape of the X_validation data is: (777, 561)\n",
      "The shape of the y_validation data is: (777, 12)\n"
     ]
    }
   ],
   "source": [
    "print(f\"The shape of the X_train data is: {X_train2.shape}\")\n",
    "print(f\"The shape of the y_train data is: {y_train2.shape}\")\n",
    "print(f\"The shape of the X_validation data is: {X_validation.shape}\")\n",
    "print(f\"The shape of the y_validation data is: {y_validation.shape}\")"
   ]
  },
  {
   "cell_type": "code",
   "execution_count": 68,
   "id": "4331d584-f4d9-433d-9599-8d1d6d41a832",
   "metadata": {},
   "outputs": [
    {
     "name": "stdout",
     "output_type": "stream",
     "text": [
      "The shape of the inputs data is: (540, 20, 561)\n",
      "The shape of the targets data is: (540, 20, 12)\n",
      "The shape of the validation input data is: (60, 20, 561)\n",
      "The shape of the validation targets data is: (60, 20, 12)\n"
     ]
    }
   ],
   "source": [
    "print(f\"The shape of the inputs data is: {inputs.shape}\")\n",
    "print(f\"The shape of the targets data is: {targets.shape}\")\n",
    "print(f\"The shape of the validation input data is: {input_val.shape}\")\n",
    "print(f\"The shape of the validation targets data is: {target_val.shape}\")"
   ]
  },
  {
   "cell_type": "markdown",
   "id": "3ee4b9eb-0f93-490d-9e62-8e6e807cd345",
   "metadata": {},
   "source": [
    "Now that our data is split up properly, we can see that our shapes are looking good. There are the proper number of features and targets, and the window size is also looking good. Let's move on to building the RNN."
   ]
  },
  {
   "cell_type": "markdown",
   "id": "4fdcea1f-a863-4904-a9e8-b665b7604a6a",
   "metadata": {},
   "source": [
    "Here are some of the reasons as to why we built the model the way we did.\n",
    "\n",
    "- GRU is like LSTM, but with less features with a forget gate and performs similar to the LSTM.\n",
    "- Number of Nodes is arbitrary\n",
    "- activation function of `relu` seemed like a safe and very common choice\n",
    "- return_sequences is required for our RNN to obtain a sequence as the output instead of a single vector\n",
    "- softmax output to ensure all output values add up to 1\n",
    "- dropout layers help with overfitting\n",
    "- batch normalization standardizes inputs and accelerates training time"
   ]
  },
  {
   "cell_type": "code",
   "execution_count": 73,
   "id": "ab013a61-668e-46df-b5ea-3dbb05db8060",
   "metadata": {},
   "outputs": [],
   "source": [
    "# instantiate the model\n",
    "RNN = Sequential()\n",
    "RNN.add(GRU(128, activation='relu', return_sequences=True))\n",
    "\n",
    "RNN.add(GRU(64, activation='relu', return_sequences=True))\n",
    "RNN.add(BatchNormalization())\n",
    "RNN.add(Dropout(0.15))\n",
    "\n",
    "RNN.add(GRU(32, activation='relu', return_sequences=True))\n",
    "RNN.add(BatchNormalization())\n",
    "RNN.add(Dropout(0.15))\n",
    "\n",
    "RNN.add(Dense(16, activation='relu'))\n",
    "RNN.add(BatchNormalization())\n",
    "RNN.add(Dropout(0.15))\n",
    "\n",
    "RNN.add(Dense(12, activation='softmax'))"
   ]
  },
  {
   "cell_type": "markdown",
   "id": "2baa0201-ea76-4605-9a8f-25587772109a",
   "metadata": {},
   "source": [
    "Now that the model is built, let's compile our model and fit it on our reformatted data."
   ]
  },
  {
   "cell_type": "code",
   "execution_count": 74,
   "id": "5832a98b-a1fb-41b3-817f-ea117f3ed540",
   "metadata": {
    "colab": {},
    "colab_type": "code",
    "id": "rv_npeAPBKZ9"
   },
   "outputs": [],
   "source": [
    "# Compile model\n",
    "RNN.compile(\n",
    "    loss='categorical_crossentropy',\n",
    "    optimizer=keras.optimizers.Adam(lr=0.001),\n",
    "    metrics=['accuracy']\n",
    ")"
   ]
  },
  {
   "cell_type": "code",
   "execution_count": 75,
   "id": "04ed2525-0bc5-4af3-bf6e-486c4516b843",
   "metadata": {
    "scrolled": true,
    "tags": []
   },
   "outputs": [],
   "source": [
    "history = RNN.fit(inputs, targets,\n",
    "        epochs=20,\n",
    "        validation_data=(input_val, target_val),\n",
    "        verbose = 0)"
   ]
  },
  {
   "cell_type": "markdown",
   "id": "436cbb06-9543-443c-8b82-b6ec4cf4a541",
   "metadata": {},
   "source": [
    "---"
   ]
  },
  {
   "cell_type": "markdown",
   "id": "8ef534fd-f430-4013-8a5b-1fb8fad6390f",
   "metadata": {},
   "source": [
    "#### RNN Model Evaluation"
   ]
  },
  {
   "cell_type": "markdown",
   "id": "86869cda-ab62-408e-ac7f-a75b07252fcc",
   "metadata": {},
   "source": [
    "Everything is now complete, let's take a look at our model performance by plotting our train and validation loss and accuracy."
   ]
  },
  {
   "cell_type": "code",
   "execution_count": 82,
   "id": "3a20607b-e4d4-4683-8387-2af18ffb7e74",
   "metadata": {},
   "outputs": [
    {
     "data": {
      "image/png": "[encoded data removed]",
      "text/plain": [
       "<Figure size 1080x360 with 2 Axes>"
      ]
     },
     "metadata": {
      "needs_background": "light"
     },
     "output_type": "display_data"
    }
   ],
   "source": [
    "epochs = range(1, 21)\n",
    "\n",
    "plt.figure(figsize=(15, 5))\n",
    "plt.subplot(1, 2, 1)\n",
    "plt.plot(epochs, history.history[\"accuracy\"], label=\"training\", marker=\"o\")\n",
    "plt.plot(epochs, history.history[\"val_accuracy\"], label=\"validation\", marker=\"o\")\n",
    "plt.title('Train and Validation Accuracy')\n",
    "plt.xlabel(\"Epochs\")\n",
    "plt.xticks(epochs)\n",
    "plt.ylabel(\"Accuracy\")\n",
    "plt.legend()\n",
    "\n",
    "plt.subplot(1, 2, 2)\n",
    "plt.plot(epochs, history.history[\"loss\"], label=\"training\", marker=\"o\")\n",
    "plt.plot(epochs, history.history[\"val_loss\"], label=\"validation\", marker=\"o\")\n",
    "plt.title('Train and Validation Loss')\n",
    "plt.xlabel(\"Epochs\")\n",
    "plt.xticks(epochs)\n",
    "plt.ylabel(\"Loss\")\n",
    "plt.legend()\n",
    "plt.savefig('score.png', transparent=True)\n",
    "plt.show()"
   ]
  },
  {
   "cell_type": "markdown",
   "id": "92937f2b-7231-4ce4-82f0-661082f857c9",
   "metadata": {},
   "source": [
    "This model is looking really good, performance seems to be doing really well. \n",
    "\n",
    "The trends for the train and validation accuracies are both uptrending, and do not hover around a certain level, which means there's no indication of overfitting.\n",
    "\n",
    "The trends for the train and validation losses both show that they're approaching zero over time, and again, there's no hovering around a constant value, meaning there's no indication of overfitting."
   ]
  },
  {
   "cell_type": "code",
   "execution_count": 77,
   "id": "8ce877b7-afd8-4f6d-acf8-eacf6062ca66",
   "metadata": {
    "colab": {
     "base_uri": "https://localhost:8080/",
     "height": 1000
    },
    "colab_type": "code",
    "id": "EFtVheveBKZ-",
    "outputId": "c0fa989e-b6eb-4292-8e28-34bf91962cbd"
   },
   "outputs": [
    {
     "name": "stdout",
     "output_type": "stream",
     "text": [
      "Model: \"sequential_9\"\n",
      "_________________________________________________________________\n",
      "Layer (type)                 Output Shape              Param #   \n",
      "=================================================================\n",
      "gru_12 (GRU)                 (None, 20, 128)           265344    \n",
      "_________________________________________________________________\n",
      "gru_13 (GRU)                 (None, 20, 64)            37248     \n",
      "_________________________________________________________________\n",
      "batch_normalization_12 (Batc (None, 20, 64)            256       \n",
      "_________________________________________________________________\n",
      "dropout_12 (Dropout)         (None, 20, 64)            0         \n",
      "_________________________________________________________________\n",
      "gru_14 (GRU)                 (None, 20, 32)            9408      \n",
      "_________________________________________________________________\n",
      "batch_normalization_13 (Batc (None, 20, 32)            128       \n",
      "_________________________________________________________________\n",
      "dropout_13 (Dropout)         (None, 20, 32)            0         \n",
      "_________________________________________________________________\n",
      "dense_34 (Dense)             (None, 20, 16)            528       \n",
      "_________________________________________________________________\n",
      "batch_normalization_14 (Batc (None, 20, 16)            64        \n",
      "_________________________________________________________________\n",
      "dropout_14 (Dropout)         (None, 20, 16)            0         \n",
      "_________________________________________________________________\n",
      "dense_35 (Dense)             (None, 20, 12)            204       \n",
      "=================================================================\n",
      "Total params: 313,180\n",
      "Trainable params: 312,956\n",
      "Non-trainable params: 224\n",
      "_________________________________________________________________\n"
     ]
    }
   ],
   "source": [
    "# Display its summary\n",
    "RNN.summary()"
   ]
  },
  {
   "cell_type": "markdown",
   "id": "7d0a338f-cbe9-4348-b0f8-70df1c243852",
   "metadata": {},
   "source": [
    "---"
   ]
  }
 ],
 "metadata": {
  "kernelspec": {
   "display_name": "capstone",
   "language": "python",
   "name": "capstone"
  },
  "language_info": {
   "codemirror_mode": {
    "name": "ipython",
    "version": 3
   },
   "file_extension": ".py",
   "mimetype": "text/x-python",
   "name": "python",
   "nbconvert_exporter": "python",
   "pygments_lexer": "ipython3",
   "version": "3.8.11"
  },
  "toc-autonumbering": false
 },
 "nbformat": 4,
 "nbformat_minor": 5
}
