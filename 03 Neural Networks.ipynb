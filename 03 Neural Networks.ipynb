{
 "cells": [
  {
   "cell_type": "markdown",
   "id": "dfdf7397-1670-4a8c-849a-f5d2bfdaa3d4",
   "metadata": {},
   "source": [
    "# Neural Networks"
   ]
  },
  {
   "cell_type": "code",
   "execution_count": 1,
   "id": "6c476da3-4c50-4055-b410-32154bfea7a3",
   "metadata": {},
   "outputs": [],
   "source": [
    "# importing basic libraries\n",
    "import pandas as pd\n",
    "import numpy as np\n",
    "import matplotlib.pyplot as plt\n",
    "import seaborn as sns\n",
    "\n",
    "# Specific neural network models & layer types\n",
    "import tensorflow as tf\n",
    "from tensorflow import keras\n",
    "from tensorflow.keras import layers\n",
    "from tensorflow.keras.models import Sequential\n",
    "from tensorflow.keras.layers import Conv2D, MaxPooling2D, Flatten, Dense, Dropout\n",
    "from tensorflow.keras.layers import Embedding, LSTM, GRU, BatchNormalization, TimeDistributed\n",
    "from keras.layers.convolutional import Conv1D, MaxPooling1D\n",
    "from tensorflow.keras.utils import timeseries_dataset_from_array\n",
    "\n",
    "from sklearn.model_selection import train_test_split\n",
    "from sklearn.preprocessing import OneHotEncoder\n",
    "\n",
    "# Ignore futurewarnings\n",
    "import warnings\n",
    "warnings.filterwarnings('ignore')"
   ]
  },
  {
   "cell_type": "code",
   "execution_count": 2,
   "id": "095ce252-f7e5-4450-9ec4-66a420bca8a2",
   "metadata": {},
   "outputs": [],
   "source": [
    "# reading in the data\n",
    "columns = pd.read_csv('data/features2.txt', header = None)\n",
    "\n",
    "X_train_orig = pd.read_csv('data/Train/X_train.txt', names = columns[0], sep=' ')\n",
    "X_test_orig = pd.read_csv('data/Test/X_test.txt', names = columns[0], sep=' ')\n",
    "\n",
    "y_train_orig = pd.read_csv('data/Train/y_train.txt', sep=' ', header = None)\n",
    "y_test_orig = pd.read_csv('data/Test/y_test.txt', sep=' ', header = None)"
   ]
  },
  {
   "cell_type": "code",
   "execution_count": 3,
   "id": "5a120a5f-0d58-467e-8f10-b293aaa3291f",
   "metadata": {},
   "outputs": [],
   "source": [
    "X_train = X_train_orig.values\n",
    "X_test = X_test_orig.values"
   ]
  },
  {
   "cell_type": "code",
   "execution_count": 4,
   "id": "a2294165-2657-4dd0-84a6-72279c2d0f5e",
   "metadata": {},
   "outputs": [],
   "source": [
    "# One hot encoding target data\n",
    "ohe = OneHotEncoder()\n",
    "y_train = ohe.fit_transform(y_train_orig).toarray()\n",
    "y_test = ohe.fit_transform(y_test_orig).toarray()"
   ]
  },
  {
   "cell_type": "code",
   "execution_count": 5,
   "id": "9cb664f7-2199-45f8-bfbf-1d750fb86cac",
   "metadata": {},
   "outputs": [],
   "source": [
    "# split train and validation set for OHE data\n",
    "X_train2, X_validation, y_train2, y_validation = train_test_split(X_train, y_train, test_size=0.1)"
   ]
  },
  {
   "cell_type": "code",
   "execution_count": 6,
   "id": "20f3a233-3101-40c5-a312-0bbfd57ce51f",
   "metadata": {},
   "outputs": [],
   "source": [
    "# split train and validation set for orig data\n",
    "# X_train2, X_validation, y_train2, y_validation = train_test_split(X_train_orig, y_train_orig, test_size=0.1)"
   ]
  },
  {
   "cell_type": "code",
   "execution_count": 7,
   "id": "3e516c08-91ee-488a-89c3-bb8b84e1a06d",
   "metadata": {},
   "outputs": [],
   "source": [
    "#train_df = pd.concat((X_train2, y_train2), axis=1) \n",
    "#val_df = pd.concat((X_validation, y_validation), axis=1)\n",
    "#test_df = pd.concat((X_test, y_test), axis=1)"
   ]
  },
  {
   "cell_type": "markdown",
   "id": "50ce01e3-6c01-48d5-89df-5b50784f69d7",
   "metadata": {},
   "source": [
    "**PLAN**\n",
    "\n",
    "For neural networks, you can simply try a fully connected NN with a few layers, \n",
    "\n",
    "first ignoring the time component and previous activity\n",
    "\n",
    "then second, you can do RNNs by feeding in say 10 time-steps and predicting the next activity"
   ]
  },
  {
   "cell_type": "markdown",
   "id": "bd699dee-f220-4125-87b7-1d80f0a2ecbe",
   "metadata": {},
   "source": [
    "### Building a Neural Network Using Keras\n",
    "\n",
    "The process of building a network using Keras can generally be broken down into four separate steps:\n",
    "1. **Build the model**: This is the step where we will declare the structure of the network — primarily the types and sizes of the hidden layers.\n",
    "2. **Compile the model**: This step allows us to customize some of the settings that will be used for training.\n",
    "3. **Train the model**\n",
    "4. **Evaluate the model and generate predictions**"
   ]
  },
  {
   "cell_type": "markdown",
   "id": "85e65fbf-376f-49ba-9ea5-9b9794937a82",
   "metadata": {
    "jp-MarkdownHeadingCollapsed": true,
    "tags": []
   },
   "source": [
    "### Fully Connected Neural Network"
   ]
  },
  {
   "cell_type": "markdown",
   "id": "70934fc0-eefa-47ad-b630-c33a7658ed07",
   "metadata": {},
   "source": [
    "USE SOFTMAX FOR OUTPUT LAYER BECAUSE IT ENSURES ALL PROBABILITIES ADD UP TO 1\n",
    "\n",
    "ADAM OPTIMIZER BECAUSE IT IS BEST ADAPTIVE OPTIMIZER, GOOD WITH DATASETS WITH LARGE # OF FEATURES\n",
    "https://outline.com/X7kdTG\n",
    "\n",
    "LOSS FUNCTION WILL BE SparseCategoricalCrossentropy() FOR CROSS ENTROPY BETWEEN LABELS AND PREDICTIONS\n",
    "\n",
    "METRICS WILL BE USING SparseCategoricalAccuracy() FOR MULTIVARIATE CLASSIFICATION\n"
   ]
  },
  {
   "cell_type": "markdown",
   "id": "7f6a0ed5-95a1-46e5-a401-61aad9400cdb",
   "metadata": {
    "tags": []
   },
   "source": [
    "#### 3 Layer NN"
   ]
  },
  {
   "cell_type": "code",
   "execution_count": 8,
   "id": "7ed19462-64aa-4d56-a18b-8b93b4fec305",
   "metadata": {},
   "outputs": [
    {
     "name": "stderr",
     "output_type": "stream",
     "text": [
      "2021-09-24 15:57:13.374521: I tensorflow/core/platform/cpu_feature_guard.cc:142] This TensorFlow binary is optimized with oneAPI Deep Neural Network Library (oneDNN) to use the following CPU instructions in performance-critical operations:  AVX2 FMA\n",
      "To enable them in other operations, rebuild TensorFlow with the appropriate compiler flags.\n"
     ]
    }
   ],
   "source": [
    "# Create a new sequential model\n",
    "model = keras.Sequential()\n",
    "\n",
    "# Declare the hidden layers\n",
    "# We'll be using the RELU activation function for our layers for the unbound benefit\n",
    "# Dense layers will be used to create a fully connected neural network model\n",
    "\n",
    "model.add(layers.Dense(40, activation=\"relu\"))\n",
    "model.add(layers.Dense(40, activation=\"relu\"))\n",
    "model.add(layers.Dense(40, activation=\"relu\"))\n",
    "\n",
    "\n",
    "# Declare the output layer\n",
    "# Our output layer has 12 units for the 12 different activities to be classified\n",
    "# There are 6 main actions, and 6 transition actions\n",
    "# Transition actions are when the participant transitions to the next position\n",
    "model.add(layers.Dense(13, activation=\"softmax\"))\n",
    "\n",
    "# Compile the model\n",
    "model.compile(\n",
    "    # Optimizer\n",
    "    optimizer=keras.optimizers.Adam(),  \n",
    "    # Loss function to minimize\n",
    "    loss=keras.losses.SparseCategoricalCrossentropy(),\n",
    "    # Metric used to evaluate model\n",
    "    metrics=[keras.metrics.SparseCategoricalAccuracy()]\n",
    ")"
   ]
  },
  {
   "cell_type": "code",
   "execution_count": 9,
   "id": "f6a2f020-f94b-46d5-913f-69c5c60bb297",
   "metadata": {
    "scrolled": true,
    "tags": []
   },
   "outputs": [
    {
     "name": "stderr",
     "output_type": "stream",
     "text": [
      "2021-09-24 15:57:13.481502: I tensorflow/compiler/mlir/mlir_graph_optimization_pass.cc:185] None of the MLIR Optimization Passes are enabled (registered 2)\n"
     ]
    }
   ],
   "source": [
    "# Fit the model\n",
    "history = model.fit(X_train_orig, y_train_orig, epochs=100, verbose=0)"
   ]
  },
  {
   "cell_type": "code",
   "execution_count": 10,
   "id": "75c9f6a9-8b00-402a-bcc4-f81d201a532d",
   "metadata": {
    "tags": []
   },
   "outputs": [
    {
     "name": "stdout",
     "output_type": "stream",
     "text": [
      "Train Accuracy: 0.9933\n",
      "Test Accuracy: 0.9317\n"
     ]
    }
   ],
   "source": [
    "# Evaluate the model using the test data and generate predictions\n",
    "train_accuracy = history.history[\"sparse_categorical_accuracy\"][-1]\n",
    "result = model.evaluate(X_test_orig, y_test_orig, verbose=0)\n",
    "\n",
    "print(f\"Train Accuracy: {train_accuracy:.4f}\")\n",
    "print(f\"Test Accuracy: {result[1]:.4f}\")\n",
    "\n",
    "predictions = model.predict(X_test_orig)"
   ]
  },
  {
   "cell_type": "markdown",
   "id": "ad147883-aa5f-4598-8b79-63eb17ab44d8",
   "metadata": {
    "tags": []
   },
   "source": [
    "#### 5 Layer NN "
   ]
  },
  {
   "cell_type": "code",
   "execution_count": 11,
   "id": "d8dfd0cf-dcd2-41de-be29-39a71bde3597",
   "metadata": {},
   "outputs": [],
   "source": [
    "# Create a new sequential model\n",
    "model = keras.Sequential()\n",
    "\n",
    "# Declare the hidden layers\n",
    "# We'll be using the RELU activation function for our layers for the unbound benefit\n",
    "# Dense layers will be used to create a fully connected neural network model\n",
    "\n",
    "model.add(layers.Dense(40, activation=\"relu\"))\n",
    "model.add(layers.Dense(40, activation=\"relu\"))\n",
    "model.add(layers.Dense(40, activation=\"relu\"))\n",
    "model.add(layers.Dense(40, activation=\"relu\"))\n",
    "model.add(layers.Dense(40, activation=\"relu\"))\n",
    "\n",
    "# Declare the output layer\n",
    "# Our output layer has 12 units for the 12 different activities to be classified\n",
    "# There are 6 main actions, and 6 transition actions\n",
    "# Transition actions are when the participant transitions to the next position\n",
    "model.add(layers.Dense(13, activation=\"softmax\"))\n",
    "\n",
    "# Compile the model\n",
    "model.compile(\n",
    "    # Optimizer\n",
    "    optimizer=keras.optimizers.Adam(),  \n",
    "    # Loss function to minimize\n",
    "    loss=keras.losses.SparseCategoricalCrossentropy(),\n",
    "    # Metric used to evaluate model\n",
    "    metrics=[keras.metrics.SparseCategoricalAccuracy()]\n",
    ")"
   ]
  },
  {
   "cell_type": "code",
   "execution_count": 12,
   "id": "49f09df9-d4a6-4590-bbbc-da260c24aebc",
   "metadata": {
    "scrolled": true,
    "tags": []
   },
   "outputs": [
    {
     "name": "stdout",
     "output_type": "stream",
     "text": [
      "Epoch 1/100\n",
      "243/243 [==============================] - 1s 1ms/step - loss: 0.8701 - sparse_categorical_accuracy: 0.6611\n",
      "Epoch 2/100\n",
      "243/243 [==============================] - 0s 1ms/step - loss: 0.3391 - sparse_categorical_accuracy: 0.8682\n",
      "Epoch 3/100\n",
      "243/243 [==============================] - 0s 1ms/step - loss: 0.2026 - sparse_categorical_accuracy: 0.9182\n",
      "Epoch 4/100\n",
      "243/243 [==============================] - 0s 1ms/step - loss: 0.1724 - sparse_categorical_accuracy: 0.9298\n",
      "Epoch 5/100\n",
      "243/243 [==============================] - 0s 1ms/step - loss: 0.1348 - sparse_categorical_accuracy: 0.9423\n",
      "Epoch 6/100\n",
      "243/243 [==============================] - 0s 1ms/step - loss: 0.1284 - sparse_categorical_accuracy: 0.9452\n",
      "Epoch 7/100\n",
      "243/243 [==============================] - 0s 1ms/step - loss: 0.1159 - sparse_categorical_accuracy: 0.9534\n",
      "Epoch 8/100\n",
      "243/243 [==============================] - 0s 1ms/step - loss: 0.1098 - sparse_categorical_accuracy: 0.9543\n",
      "Epoch 9/100\n",
      "243/243 [==============================] - 0s 1ms/step - loss: 0.0984 - sparse_categorical_accuracy: 0.9602\n",
      "Epoch 10/100\n",
      "243/243 [==============================] - 0s 1ms/step - loss: 0.0957 - sparse_categorical_accuracy: 0.9592\n",
      "Epoch 11/100\n",
      "243/243 [==============================] - 0s 1ms/step - loss: 0.1008 - sparse_categorical_accuracy: 0.9574\n",
      "Epoch 12/100\n",
      "243/243 [==============================] - 0s 1ms/step - loss: 0.0873 - sparse_categorical_accuracy: 0.9636\n",
      "Epoch 13/100\n",
      "243/243 [==============================] - 0s 1ms/step - loss: 0.0967 - sparse_categorical_accuracy: 0.9623\n",
      "Epoch 14/100\n",
      "243/243 [==============================] - 0s 1ms/step - loss: 0.0812 - sparse_categorical_accuracy: 0.9679\n",
      "Epoch 15/100\n",
      "243/243 [==============================] - 0s 1ms/step - loss: 0.0755 - sparse_categorical_accuracy: 0.9690\n",
      "Epoch 16/100\n",
      "243/243 [==============================] - 0s 1ms/step - loss: 0.0952 - sparse_categorical_accuracy: 0.9623\n",
      "Epoch 17/100\n",
      "243/243 [==============================] - 0s 1ms/step - loss: 0.0915 - sparse_categorical_accuracy: 0.9630\n",
      "Epoch 18/100\n",
      "243/243 [==============================] - 0s 1ms/step - loss: 0.0877 - sparse_categorical_accuracy: 0.9645\n",
      "Epoch 19/100\n",
      "243/243 [==============================] - 0s 1ms/step - loss: 0.0736 - sparse_categorical_accuracy: 0.9699\n",
      "Epoch 20/100\n",
      "243/243 [==============================] - 0s 1ms/step - loss: 0.0732 - sparse_categorical_accuracy: 0.9712\n",
      "Epoch 21/100\n",
      "243/243 [==============================] - 0s 1ms/step - loss: 0.0720 - sparse_categorical_accuracy: 0.9697\n",
      "Epoch 22/100\n",
      "243/243 [==============================] - 0s 1ms/step - loss: 0.0690 - sparse_categorical_accuracy: 0.9721\n",
      "Epoch 23/100\n",
      "243/243 [==============================] - 0s 1ms/step - loss: 0.0714 - sparse_categorical_accuracy: 0.9731\n",
      "Epoch 24/100\n",
      "243/243 [==============================] - 0s 1ms/step - loss: 0.0735 - sparse_categorical_accuracy: 0.9703\n",
      "Epoch 25/100\n",
      "243/243 [==============================] - 0s 1ms/step - loss: 0.0627 - sparse_categorical_accuracy: 0.9740\n",
      "Epoch 26/100\n",
      "243/243 [==============================] - 0s 1ms/step - loss: 0.0596 - sparse_categorical_accuracy: 0.9761\n",
      "Epoch 27/100\n",
      "243/243 [==============================] - 0s 1ms/step - loss: 0.0656 - sparse_categorical_accuracy: 0.9726\n",
      "Epoch 28/100\n",
      "243/243 [==============================] - 0s 1ms/step - loss: 0.0627 - sparse_categorical_accuracy: 0.9732\n",
      "Epoch 29/100\n",
      "243/243 [==============================] - 0s 1ms/step - loss: 0.0601 - sparse_categorical_accuracy: 0.9776\n",
      "Epoch 30/100\n",
      "243/243 [==============================] - 0s 1ms/step - loss: 0.0758 - sparse_categorical_accuracy: 0.9695\n",
      "Epoch 31/100\n",
      "243/243 [==============================] - 0s 1ms/step - loss: 0.0586 - sparse_categorical_accuracy: 0.9749\n",
      "Epoch 32/100\n",
      "243/243 [==============================] - 0s 1ms/step - loss: 0.0520 - sparse_categorical_accuracy: 0.9807\n",
      "Epoch 33/100\n",
      "243/243 [==============================] - 0s 1ms/step - loss: 0.0695 - sparse_categorical_accuracy: 0.9724\n",
      "Epoch 34/100\n",
      "243/243 [==============================] - 0s 1ms/step - loss: 0.0530 - sparse_categorical_accuracy: 0.9766\n",
      "Epoch 35/100\n",
      "243/243 [==============================] - 0s 1ms/step - loss: 0.0619 - sparse_categorical_accuracy: 0.9764\n",
      "Epoch 36/100\n",
      "243/243 [==============================] - 0s 1ms/step - loss: 0.0494 - sparse_categorical_accuracy: 0.9788\n",
      "Epoch 37/100\n",
      "243/243 [==============================] - 0s 1ms/step - loss: 0.0523 - sparse_categorical_accuracy: 0.9794\n",
      "Epoch 38/100\n",
      "243/243 [==============================] - 0s 1ms/step - loss: 0.0415 - sparse_categorical_accuracy: 0.9843\n",
      "Epoch 39/100\n",
      "243/243 [==============================] - 0s 1ms/step - loss: 0.0487 - sparse_categorical_accuracy: 0.9813\n",
      "Epoch 40/100\n",
      "243/243 [==============================] - 0s 1ms/step - loss: 0.0480 - sparse_categorical_accuracy: 0.9821\n",
      "Epoch 41/100\n",
      "243/243 [==============================] - 0s 1ms/step - loss: 0.0433 - sparse_categorical_accuracy: 0.9831\n",
      "Epoch 42/100\n",
      "243/243 [==============================] - 0s 1ms/step - loss: 0.0582 - sparse_categorical_accuracy: 0.9763\n",
      "Epoch 43/100\n",
      "243/243 [==============================] - 0s 1ms/step - loss: 0.0603 - sparse_categorical_accuracy: 0.9788\n",
      "Epoch 44/100\n",
      "243/243 [==============================] - 0s 1ms/step - loss: 0.0409 - sparse_categorical_accuracy: 0.9843\n",
      "Epoch 45/100\n",
      "243/243 [==============================] - 0s 1ms/step - loss: 0.0397 - sparse_categorical_accuracy: 0.9838\n",
      "Epoch 46/100\n",
      "243/243 [==============================] - 0s 1ms/step - loss: 0.0473 - sparse_categorical_accuracy: 0.9834\n",
      "Epoch 47/100\n",
      "243/243 [==============================] - 0s 1ms/step - loss: 0.0480 - sparse_categorical_accuracy: 0.9811\n",
      "Epoch 48/100\n",
      "243/243 [==============================] - 0s 1ms/step - loss: 0.0412 - sparse_categorical_accuracy: 0.9849\n",
      "Epoch 49/100\n",
      "243/243 [==============================] - 0s 1ms/step - loss: 0.0372 - sparse_categorical_accuracy: 0.9848\n",
      "Epoch 50/100\n",
      "243/243 [==============================] - 0s 1ms/step - loss: 0.0513 - sparse_categorical_accuracy: 0.9826\n",
      "Epoch 51/100\n",
      "243/243 [==============================] - 0s 1ms/step - loss: 0.0434 - sparse_categorical_accuracy: 0.9827\n",
      "Epoch 52/100\n",
      "243/243 [==============================] - 0s 1ms/step - loss: 0.0523 - sparse_categorical_accuracy: 0.9821\n",
      "Epoch 53/100\n",
      "243/243 [==============================] - 0s 1ms/step - loss: 0.0482 - sparse_categorical_accuracy: 0.9806\n",
      "Epoch 54/100\n",
      "243/243 [==============================] - 0s 1ms/step - loss: 0.0267 - sparse_categorical_accuracy: 0.9902\n",
      "Epoch 55/100\n",
      "243/243 [==============================] - 0s 1ms/step - loss: 0.0351 - sparse_categorical_accuracy: 0.9876\n",
      "Epoch 56/100\n",
      "243/243 [==============================] - 0s 1ms/step - loss: 0.0283 - sparse_categorical_accuracy: 0.9894\n",
      "Epoch 57/100\n",
      "243/243 [==============================] - 0s 1ms/step - loss: 0.0427 - sparse_categorical_accuracy: 0.9835\n",
      "Epoch 58/100\n",
      "243/243 [==============================] - 0s 1ms/step - loss: 0.0373 - sparse_categorical_accuracy: 0.9856\n",
      "Epoch 59/100\n",
      "243/243 [==============================] - 0s 2ms/step - loss: 0.0275 - sparse_categorical_accuracy: 0.9896\n",
      "Epoch 60/100\n",
      "243/243 [==============================] - 0s 1ms/step - loss: 0.0295 - sparse_categorical_accuracy: 0.9896\n",
      "Epoch 61/100\n",
      "243/243 [==============================] - 0s 1ms/step - loss: 0.0424 - sparse_categorical_accuracy: 0.9844\n",
      "Epoch 62/100\n",
      "243/243 [==============================] - 0s 1ms/step - loss: 0.0360 - sparse_categorical_accuracy: 0.9856\n",
      "Epoch 63/100\n",
      "243/243 [==============================] - 0s 1ms/step - loss: 0.0460 - sparse_categorical_accuracy: 0.9829\n",
      "Epoch 64/100\n",
      "243/243 [==============================] - 0s 1ms/step - loss: 0.0332 - sparse_categorical_accuracy: 0.9873\n",
      "Epoch 65/100\n",
      "243/243 [==============================] - 0s 1ms/step - loss: 0.0313 - sparse_categorical_accuracy: 0.9887\n",
      "Epoch 66/100\n",
      "243/243 [==============================] - 0s 1ms/step - loss: 0.0340 - sparse_categorical_accuracy: 0.9860\n",
      "Epoch 67/100\n",
      "243/243 [==============================] - 0s 1ms/step - loss: 0.0338 - sparse_categorical_accuracy: 0.9874\n",
      "Epoch 68/100\n",
      "243/243 [==============================] - 0s 1ms/step - loss: 0.0294 - sparse_categorical_accuracy: 0.9884\n",
      "Epoch 69/100\n",
      "243/243 [==============================] - 0s 1ms/step - loss: 0.0350 - sparse_categorical_accuracy: 0.9849\n",
      "Epoch 70/100\n",
      "243/243 [==============================] - 0s 1ms/step - loss: 0.0190 - sparse_categorical_accuracy: 0.9919\n",
      "Epoch 71/100\n",
      "243/243 [==============================] - 0s 1ms/step - loss: 0.0378 - sparse_categorical_accuracy: 0.9851\n",
      "Epoch 72/100\n",
      "243/243 [==============================] - 0s 1ms/step - loss: 0.0380 - sparse_categorical_accuracy: 0.9852\n",
      "Epoch 73/100\n",
      "243/243 [==============================] - 0s 1ms/step - loss: 0.0320 - sparse_categorical_accuracy: 0.9876\n",
      "Epoch 74/100\n",
      "243/243 [==============================] - 0s 1ms/step - loss: 0.0278 - sparse_categorical_accuracy: 0.9902\n",
      "Epoch 75/100\n",
      "243/243 [==============================] - 0s 2ms/step - loss: 0.0236 - sparse_categorical_accuracy: 0.9897\n",
      "Epoch 76/100\n",
      "243/243 [==============================] - 0s 1ms/step - loss: 0.0375 - sparse_categorical_accuracy: 0.9875\n",
      "Epoch 77/100\n",
      "243/243 [==============================] - 0s 1ms/step - loss: 0.0418 - sparse_categorical_accuracy: 0.9864\n",
      "Epoch 78/100\n",
      "243/243 [==============================] - 0s 1ms/step - loss: 0.0391 - sparse_categorical_accuracy: 0.9844\n",
      "Epoch 79/100\n",
      "243/243 [==============================] - 0s 1ms/step - loss: 0.0295 - sparse_categorical_accuracy: 0.9885\n",
      "Epoch 80/100\n",
      "243/243 [==============================] - 0s 1ms/step - loss: 0.0276 - sparse_categorical_accuracy: 0.9894\n",
      "Epoch 81/100\n",
      "243/243 [==============================] - 0s 1ms/step - loss: 0.0181 - sparse_categorical_accuracy: 0.9934\n",
      "Epoch 82/100\n",
      "243/243 [==============================] - 0s 1ms/step - loss: 0.0513 - sparse_categorical_accuracy: 0.9833\n",
      "Epoch 83/100\n",
      "243/243 [==============================] - 0s 1ms/step - loss: 0.0236 - sparse_categorical_accuracy: 0.9911\n",
      "Epoch 84/100\n",
      "243/243 [==============================] - 0s 1ms/step - loss: 0.0312 - sparse_categorical_accuracy: 0.9879\n",
      "Epoch 85/100\n",
      "243/243 [==============================] - 0s 1ms/step - loss: 0.0375 - sparse_categorical_accuracy: 0.9857\n",
      "Epoch 86/100\n",
      "243/243 [==============================] - 0s 1ms/step - loss: 0.0251 - sparse_categorical_accuracy: 0.9902\n",
      "Epoch 87/100\n",
      "243/243 [==============================] - 0s 1ms/step - loss: 0.0206 - sparse_categorical_accuracy: 0.9919\n",
      "Epoch 88/100\n",
      "243/243 [==============================] - 0s 1ms/step - loss: 0.0339 - sparse_categorical_accuracy: 0.9900\n",
      "Epoch 89/100\n",
      "243/243 [==============================] - 0s 1ms/step - loss: 0.0266 - sparse_categorical_accuracy: 0.9897\n",
      "Epoch 90/100\n",
      "243/243 [==============================] - 0s 1ms/step - loss: 0.0225 - sparse_categorical_accuracy: 0.9910\n",
      "Epoch 91/100\n",
      "243/243 [==============================] - 0s 1ms/step - loss: 0.0286 - sparse_categorical_accuracy: 0.9900\n",
      "Epoch 92/100\n",
      "243/243 [==============================] - 0s 1ms/step - loss: 0.0298 - sparse_categorical_accuracy: 0.9900\n",
      "Epoch 93/100\n",
      "243/243 [==============================] - 0s 1ms/step - loss: 0.0118 - sparse_categorical_accuracy: 0.9955\n",
      "Epoch 94/100\n",
      "243/243 [==============================] - 0s 1ms/step - loss: 0.0312 - sparse_categorical_accuracy: 0.9888\n",
      "Epoch 95/100\n",
      "243/243 [==============================] - 0s 1ms/step - loss: 0.0216 - sparse_categorical_accuracy: 0.9918\n",
      "Epoch 96/100\n",
      "243/243 [==============================] - 0s 1ms/step - loss: 0.0244 - sparse_categorical_accuracy: 0.9920\n",
      "Epoch 97/100\n",
      "243/243 [==============================] - 0s 1ms/step - loss: 0.0120 - sparse_categorical_accuracy: 0.9952\n",
      "Epoch 98/100\n",
      "243/243 [==============================] - 0s 1ms/step - loss: 0.0258 - sparse_categorical_accuracy: 0.9902\n",
      "Epoch 99/100\n",
      "243/243 [==============================] - 0s 1ms/step - loss: 0.0261 - sparse_categorical_accuracy: 0.9915\n",
      "Epoch 100/100\n",
      "243/243 [==============================] - 0s 1ms/step - loss: 0.0257 - sparse_categorical_accuracy: 0.9921\n"
     ]
    }
   ],
   "source": [
    "# Fit the model\n",
    "history = model.fit(X_train_orig, y_train_orig, epochs=100, verbose=1)"
   ]
  },
  {
   "cell_type": "code",
   "execution_count": 13,
   "id": "55a251fb-83dc-4f1a-8f4e-df5d14ff7957",
   "metadata": {
    "tags": []
   },
   "outputs": [
    {
     "name": "stdout",
     "output_type": "stream",
     "text": [
      "Train Accuracy: 0.9921\n",
      "Test Accuracy: 0.9355\n"
     ]
    }
   ],
   "source": [
    "# Evaluate the model using the test data and generate predictions\n",
    "train_accuracy = history.history[\"sparse_categorical_accuracy\"][-1]\n",
    "result = model.evaluate(X_test_orig, y_test_orig, verbose=0)\n",
    "\n",
    "print(f\"Train Accuracy: {train_accuracy:.4f}\")\n",
    "print(f\"Test Accuracy: {result[1]:.4f}\")\n",
    "\n",
    "predictions = model.predict(X_test_orig)"
   ]
  },
  {
   "cell_type": "markdown",
   "id": "b1f14f41-d6d5-427e-93bd-1daf06f02dba",
   "metadata": {},
   "source": [
    "### Recurrent Neural Network"
   ]
  },
  {
   "cell_type": "markdown",
   "id": "8381cab4-72a4-4ff8-aade-e78f20c6f8f8",
   "metadata": {
    "tags": []
   },
   "source": [
    "https://machinelearningmastery.com/sequence-classification-lstm-recurrent-neural-networks-python-keras/"
   ]
  },
  {
   "cell_type": "code",
   "execution_count": 28,
   "id": "99248549-d50d-4d9e-b176-d52e28181d36",
   "metadata": {},
   "outputs": [],
   "source": [
    "sample_length = 20\n",
    "stride = 5\n",
    "\n",
    "X_train3 = tf.keras.preprocessing.timeseries_dataset_from_array(\n",
    "  X_train2, None, sequence_length=sample_length, sequence_stride=stride, shuffle=False, batch_size = 540)\n",
    "y_train3 = tf.keras.preprocessing.timeseries_dataset_from_array(\n",
    "  y_train2, None, sequence_length=sample_length, sequence_stride=stride, shuffle=False, batch_size = 540)\n",
    "X_val = tf.keras.preprocessing.timeseries_dataset_from_array(\n",
    "  X_validation, None, sequence_length=sample_length, sequence_stride=stride, shuffle=False, batch_size = 60)\n",
    "y_val = tf.keras.preprocessing.timeseries_dataset_from_array(\n",
    "  y_validation, None, sequence_length=sample_length, sequence_stride=stride, shuffle=False, batch_size = 60)\n",
    "\n",
    "for batch in zip(X_train3, y_train3):\n",
    "    inputs, targets = batch\n",
    "    #assert np.array_equal(inputs[0], X_train2[:sample_length])\n",
    "\n",
    "    # second sample equals output timestamps 20-40\n",
    "    #assert np.array_equal(targets[1], y_train2[sample_length:2*sample_length])\n",
    "    break\n",
    "for batch in zip(X_val, y_val):\n",
    "    input_val, target_val = batch\n",
    "    #assert np.array_equal(input_val[0], X_validation[:sample_length])\n",
    "\n",
    "    # second sample equals output timestamps 20-40\n",
    "    #assert np.array_equal(target_val[1], y_validation[sample_length:2*sample_length])\n",
    "    break"
   ]
  },
  {
   "cell_type": "code",
   "execution_count": 29,
   "id": "e80def19-19af-41b3-a75c-a8646d9caac1",
   "metadata": {},
   "outputs": [
    {
     "name": "stdout",
     "output_type": "stream",
     "text": [
      "The shape of the X_train data is: (6990, 561)\n",
      "The shape of the y_train data is: (6990, 12)\n",
      "The shape of the X_validation data is: (777, 561)\n",
      "The shape of the y_validation data is: (777, 12)\n"
     ]
    }
   ],
   "source": [
    "print(f\"The shape of the X_train data is: {X_train2.shape}\")\n",
    "print(f\"The shape of the y_train data is: {y_train2.shape}\")\n",
    "print(f\"The shape of the X_validation data is: {X_validation.shape}\")\n",
    "print(f\"The shape of the y_validation data is: {y_validation.shape}\")"
   ]
  },
  {
   "cell_type": "code",
   "execution_count": 30,
   "id": "4331d584-f4d9-433d-9599-8d1d6d41a832",
   "metadata": {},
   "outputs": [
    {
     "name": "stdout",
     "output_type": "stream",
     "text": [
      "The shape of the inputs data is: (540, 20, 561)\n",
      "The shape of the targets data is: (540, 20, 12)\n",
      "The shape of the validation input data is: (60, 20, 561)\n",
      "The shape of the validation targets data is: (60, 20, 12)\n"
     ]
    }
   ],
   "source": [
    "print(f\"The shape of the inputs data is: {inputs.shape}\")\n",
    "print(f\"The shape of the targets data is: {targets.shape}\")\n",
    "print(f\"The shape of the validation input data is: {input_val.shape}\")\n",
    "print(f\"The shape of the validation targets data is: {target_val.shape}\")"
   ]
  },
  {
   "cell_type": "code",
   "execution_count": 31,
   "id": "ab013a61-668e-46df-b5ea-3dbb05db8060",
   "metadata": {},
   "outputs": [],
   "source": [
    "RNN = Sequential()\n",
    "RNN.add(GRU(128, activation='relu', return_sequences=True))\n",
    "#RNN.add(Embedding(562, 128))\n",
    "\n",
    "# the intermediate recurrent layers should return full sequences\n",
    "RNN.add(GRU(64, activation='relu', return_sequences=True))\n",
    "RNN.add(BatchNormalization())\n",
    "RNN.add(Dropout(0.15))\n",
    "\n",
    "# the last recurrent layer only returns the final output\n",
    "RNN.add(GRU(32, activation='relu', return_sequences=True))\n",
    "RNN.add(BatchNormalization())\n",
    "RNN.add(Dropout(0.15))\n",
    "\n",
    "RNN.add(Dense(16, activation='relu'))\n",
    "RNN.add(BatchNormalization())\n",
    "RNN.add(Dropout(0.15))\n",
    "\n",
    "RNN.add(Dense(12, activation='softmax'))"
   ]
  },
  {
   "cell_type": "code",
   "execution_count": 32,
   "id": "5832a98b-a1fb-41b3-817f-ea117f3ed540",
   "metadata": {
    "colab": {},
    "colab_type": "code",
    "id": "rv_npeAPBKZ9"
   },
   "outputs": [],
   "source": [
    "# Compile model\n",
    "RNN.compile(\n",
    "    loss='categorical_crossentropy',\n",
    "    optimizer=keras.optimizers.Adam(lr=0.001),\n",
    "    metrics=['accuracy']\n",
    ")"
   ]
  },
  {
   "cell_type": "code",
   "execution_count": 33,
   "id": "04ed2525-0bc5-4af3-bf6e-486c4516b843",
   "metadata": {
    "scrolled": true,
    "tags": []
   },
   "outputs": [],
   "source": [
    "history = RNN.fit(inputs, targets,\n",
    "        #batch_size=1024,\n",
    "        epochs=20,\n",
    "        validation_data=(input_val, target_val),\n",
    "        verbose = 0)"
   ]
  },
  {
   "cell_type": "code",
   "execution_count": 36,
   "id": "3a20607b-e4d4-4683-8387-2af18ffb7e74",
   "metadata": {},
   "outputs": [
    {
     "data": {
      "image/png": "[encoded data removed]",
      "text/plain": [
       "<Figure size 1080x360 with 2 Axes>"
      ]
     },
     "metadata": {
      "needs_background": "light"
     },
     "output_type": "display_data"
    }
   ],
   "source": [
    "epochs = range(1, 21)\n",
    "\n",
    "plt.figure(figsize=(15, 5))\n",
    "plt.subplot(1, 2, 1)\n",
    "plt.plot(epochs, history.history[\"accuracy\"], label=\"training\", marker=\"o\")\n",
    "plt.plot(epochs, history.history[\"val_accuracy\"], label=\"validation\", marker=\"o\")\n",
    "plt.xlabel(\"Epochs\")\n",
    "plt.xticks(epochs)\n",
    "plt.ylabel(\"Accuracy\")\n",
    "plt.legend()\n",
    "\n",
    "plt.subplot(1, 2, 2)\n",
    "plt.plot(epochs, history.history[\"loss\"], label=\"training\", marker=\"o\")\n",
    "plt.plot(epochs, history.history[\"val_loss\"], label=\"validation\", marker=\"o\")\n",
    "plt.xlabel(\"Epochs\")\n",
    "plt.xticks(epochs)\n",
    "plt.ylabel(\"Loss\")\n",
    "plt.legend()\n",
    "plt.show()"
   ]
  },
  {
   "cell_type": "code",
   "execution_count": 37,
   "id": "8ce877b7-afd8-4f6d-acf8-eacf6062ca66",
   "metadata": {
    "colab": {
     "base_uri": "https://localhost:8080/",
     "height": 1000
    },
    "colab_type": "code",
    "id": "EFtVheveBKZ-",
    "outputId": "c0fa989e-b6eb-4292-8e28-34bf91962cbd"
   },
   "outputs": [
    {
     "name": "stdout",
     "output_type": "stream",
     "text": [
      "Model: \"sequential_3\"\n",
      "_________________________________________________________________\n",
      "Layer (type)                 Output Shape              Param #   \n",
      "=================================================================\n",
      "gru_3 (GRU)                  (None, 20, 128)           265344    \n",
      "_________________________________________________________________\n",
      "gru_4 (GRU)                  (None, 20, 64)            37248     \n",
      "_________________________________________________________________\n",
      "batch_normalization_3 (Batch (None, 20, 64)            256       \n",
      "_________________________________________________________________\n",
      "dropout_3 (Dropout)          (None, 20, 64)            0         \n",
      "_________________________________________________________________\n",
      "gru_5 (GRU)                  (None, 20, 32)            9408      \n",
      "_________________________________________________________________\n",
      "batch_normalization_4 (Batch (None, 20, 32)            128       \n",
      "_________________________________________________________________\n",
      "dropout_4 (Dropout)          (None, 20, 32)            0         \n",
      "_________________________________________________________________\n",
      "dense_12 (Dense)             (None, 20, 16)            528       \n",
      "_________________________________________________________________\n",
      "batch_normalization_5 (Batch (None, 20, 16)            64        \n",
      "_________________________________________________________________\n",
      "dropout_5 (Dropout)          (None, 20, 16)            0         \n",
      "_________________________________________________________________\n",
      "dense_13 (Dense)             (None, 20, 12)            204       \n",
      "=================================================================\n",
      "Total params: 313,180\n",
      "Trainable params: 312,956\n",
      "Non-trainable params: 224\n",
      "_________________________________________________________________\n"
     ]
    }
   ],
   "source": [
    "# Display its summary\n",
    "RNN.summary()"
   ]
  },
  {
   "cell_type": "markdown",
   "id": "2a7b4b27-2df2-43e1-ac08-db992e1ddb09",
   "metadata": {},
   "source": [
    "classification score\n",
    "confusion matricies\n",
    "\n",
    "20 time steps of observations go in, make prediction for 20 activities all at once\n",
    "**one shot prediction"
   ]
  },
  {
   "cell_type": "markdown",
   "id": "7d0a338f-cbe9-4348-b0f8-70df1c243852",
   "metadata": {},
   "source": [
    "---"
   ]
  },
  {
   "cell_type": "markdown",
   "id": "cf6d5b3b-3b62-4bfc-980a-93d5405821be",
   "metadata": {},
   "source": [
    "#### RNN Model Evaluation"
   ]
  },
  {
   "cell_type": "code",
   "execution_count": null,
   "id": "49813941-e37e-47e9-98c0-a7f29452fce6",
   "metadata": {},
   "outputs": [],
   "source": []
  }
 ],
 "metadata": {
  "kernelspec": {
   "display_name": "capstone",
   "language": "python",
   "name": "capstone"
  },
  "language_info": {
   "codemirror_mode": {
    "name": "ipython",
    "version": 3
   },
   "file_extension": ".py",
   "mimetype": "text/x-python",
   "name": "python",
   "nbconvert_exporter": "python",
   "pygments_lexer": "ipython3",
   "version": "3.8.11"
  },
  "toc-autonumbering": false
 },
 "nbformat": 4,
 "nbformat_minor": 5
}
