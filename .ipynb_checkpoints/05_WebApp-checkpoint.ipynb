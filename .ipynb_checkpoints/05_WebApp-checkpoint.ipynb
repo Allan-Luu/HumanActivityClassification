{
 "cells": [
  {
   "cell_type": "markdown",
   "metadata": {},
   "source": [
    "# WebApp"
   ]
  },
  {
   "cell_type": "markdown",
   "metadata": {
    "id": "8KxZAXxHjMGe"
   },
   "source": [
    "### Feature Engineering Training Data"
   ]
  },
  {
   "cell_type": "code",
   "execution_count": 3,
   "metadata": {
    "id": "fAjZuOdAiaHA"
   },
   "outputs": [],
   "source": [
    "import numpy as np\n",
    "import pandas as pd\n",
    "import matplotlib.pyplot as plt\n",
    "import joblib"
   ]
  },
  {
   "cell_type": "markdown",
   "metadata": {
    "id": "OHqKlSm8jzKQ"
   },
   "source": [
    "For our data prediction, we'll be using the previous 10 records in order to try to make a classification on the data. To do this, we'll make 10 new sets of our XYZ gyro/acc data, that means there'll be a total of 60 new columns added.\n",
    "\n",
    "Firstly, we'll have to read in our exported data.csv from notebook `04 WebApp.ipynb`"
   ]
  },
  {
   "cell_type": "code",
   "execution_count": 4,
   "metadata": {
    "id": "KNn9tS15i1ZG"
   },
   "outputs": [],
   "source": [
    "data = pd.read_csv('/data.csv')"
   ]
  },
  {
   "cell_type": "code",
   "execution_count": 5,
   "metadata": {
    "colab": {
     "base_uri": "https://localhost:8080/",
     "height": 204
    },
    "id": "5Q3pYhhfi2dQ",
    "outputId": "2074ef0d-2a31-4568-fbd4-81bc23c8dafc"
   },
   "outputs": [
    {
     "data": {
      "text/html": [
       "<div>\n",
       "<style scoped>\n",
       "    .dataframe tbody tr th:only-of-type {\n",
       "        vertical-align: middle;\n",
       "    }\n",
       "\n",
       "    .dataframe tbody tr th {\n",
       "        vertical-align: top;\n",
       "    }\n",
       "\n",
       "    .dataframe thead th {\n",
       "        text-align: right;\n",
       "    }\n",
       "</style>\n",
       "<table border=\"1\" class=\"dataframe\">\n",
       "  <thead>\n",
       "    <tr style=\"text-align: right;\">\n",
       "      <th></th>\n",
       "      <th>gyro_x</th>\n",
       "      <th>gyro_y</th>\n",
       "      <th>gyro_z</th>\n",
       "      <th>acc_x</th>\n",
       "      <th>acc_y</th>\n",
       "      <th>acc_z</th>\n",
       "      <th>activity</th>\n",
       "    </tr>\n",
       "  </thead>\n",
       "  <tbody>\n",
       "    <tr>\n",
       "      <th>0</th>\n",
       "      <td>-0.002749</td>\n",
       "      <td>-0.004276</td>\n",
       "      <td>0.002749</td>\n",
       "      <td>1.020833</td>\n",
       "      <td>-0.125000</td>\n",
       "      <td>0.105556</td>\n",
       "      <td>5.0</td>\n",
       "    </tr>\n",
       "    <tr>\n",
       "      <th>1</th>\n",
       "      <td>-0.000305</td>\n",
       "      <td>-0.002138</td>\n",
       "      <td>0.006109</td>\n",
       "      <td>1.025000</td>\n",
       "      <td>-0.125000</td>\n",
       "      <td>0.101389</td>\n",
       "      <td>5.0</td>\n",
       "    </tr>\n",
       "    <tr>\n",
       "      <th>2</th>\n",
       "      <td>0.012217</td>\n",
       "      <td>0.000916</td>\n",
       "      <td>-0.007330</td>\n",
       "      <td>1.020833</td>\n",
       "      <td>-0.125000</td>\n",
       "      <td>0.104167</td>\n",
       "      <td>5.0</td>\n",
       "    </tr>\n",
       "    <tr>\n",
       "      <th>3</th>\n",
       "      <td>0.011301</td>\n",
       "      <td>-0.001833</td>\n",
       "      <td>-0.006414</td>\n",
       "      <td>1.016667</td>\n",
       "      <td>-0.125000</td>\n",
       "      <td>0.108333</td>\n",
       "      <td>5.0</td>\n",
       "    </tr>\n",
       "    <tr>\n",
       "      <th>4</th>\n",
       "      <td>0.010996</td>\n",
       "      <td>-0.001527</td>\n",
       "      <td>-0.004887</td>\n",
       "      <td>1.018056</td>\n",
       "      <td>-0.127778</td>\n",
       "      <td>0.108333</td>\n",
       "      <td>5.0</td>\n",
       "    </tr>\n",
       "  </tbody>\n",
       "</table>\n",
       "</div>"
      ],
      "text/plain": [
       "     gyro_x    gyro_y    gyro_z     acc_x     acc_y     acc_z  activity\n",
       "0 -0.002749 -0.004276  0.002749  1.020833 -0.125000  0.105556       5.0\n",
       "1 -0.000305 -0.002138  0.006109  1.025000 -0.125000  0.101389       5.0\n",
       "2  0.012217  0.000916 -0.007330  1.020833 -0.125000  0.104167       5.0\n",
       "3  0.011301 -0.001833 -0.006414  1.016667 -0.125000  0.108333       5.0\n",
       "4  0.010996 -0.001527 -0.004887  1.018056 -0.127778  0.108333       5.0"
      ]
     },
     "execution_count": 5,
     "metadata": {},
     "output_type": "execute_result"
    }
   ],
   "source": [
    "data.head()"
   ]
  },
  {
   "cell_type": "code",
   "execution_count": 7,
   "metadata": {
    "id": "-vBOwepnljzD"
   },
   "outputs": [],
   "source": [
    "# create a copy of the data to mess around with\n",
    "data1 = data.copy()"
   ]
  },
  {
   "cell_type": "markdown",
   "metadata": {
    "id": "LeGd4yh4lYUQ"
   },
   "source": [
    "Now, we can begin the process of lagging the data for the new features. \n",
    "\n",
    "By using the `.shift(n)` method from pandas, we can easily slide the rows down to create the new features to help our analysis, where `n` is the number of rows shifted.\n",
    "\n",
    "Then we can concatenate the data into one big dataframe for our final clean data."
   ]
  },
  {
   "cell_type": "code",
   "execution_count": 8,
   "metadata": {
    "colab": {
     "base_uri": "https://localhost:8080/"
    },
    "id": "UV7ghwmWi3-b",
    "outputId": "485fe916-98f8-45aa-ac41-6efd945ddfce"
   },
   "outputs": [
    {
     "name": "stdout",
     "output_type": "stream",
     "text": [
      "shift: 1\n",
      "shift: 2\n",
      "shift: 3\n",
      "shift: 4\n",
      "shift: 5\n",
      "shift: 6\n",
      "shift: 7\n",
      "shift: 8\n",
      "shift: 9\n",
      "shift: 10\n"
     ]
    }
   ],
   "source": [
    "shifted_data = pd.DataFrame()\n",
    "for i in range(1,11):\n",
    "    print(f'shift: {i}')\n",
    "    temp_df = data1.shift(i)\n",
    "    temp_df = temp_df.rename(columns={\n",
    "        'gyro_x':f'gyro_x{i}',\n",
    "        'gyro_y':f'gyro_y{i}',\n",
    "        'gyro_z':f'gyro_z{i}',\n",
    "        'acc_x':f'acc_x{i}',\n",
    "        'acc_y':f'acc_y{i}',\n",
    "        'acc_z':f'acc_z{i}',\n",
    "        'activity':f'activity{i}'})\n",
    "    # drop this because this is our target, we can only have 1 target and \n",
    "    #the test data will not have these activity columns as features\n",
    "    temp_df = temp_df.drop(columns=[f'activity{i}'])\n",
    "    shifted_data = pd.concat((shifted_data,temp_df),axis=1)\n",
    "data2 = pd.concat((data1,shifted_data),axis=1)"
   ]
  },
  {
   "cell_type": "markdown",
   "metadata": {
    "id": "eWizhy1vmTuR"
   },
   "source": [
    "Awesome, let's take a look at all the new columns we made. We should be expecting 677 rows, because the organized data contained 7 rows, and we estimated to calculated 60 addition rows."
   ]
  },
  {
   "cell_type": "code",
   "execution_count": 9,
   "metadata": {
    "colab": {
     "base_uri": "https://localhost:8080/"
    },
    "id": "uAyJzwfhl7Tb",
    "outputId": "6d26f5b0-3c63-43d0-a697-feef40e3e01a"
   },
   "outputs": [
    {
     "name": "stdout",
     "output_type": "stream",
     "text": [
      "<class 'pandas.core.frame.DataFrame'>\n",
      "RangeIndex: 1424526 entries, 0 to 1424525\n",
      "Data columns (total 67 columns):\n",
      " #   Column    Non-Null Count    Dtype  \n",
      "---  ------    --------------    -----  \n",
      " 0   gyro_x    1424526 non-null  float64\n",
      " 1   gyro_y    1424526 non-null  float64\n",
      " 2   gyro_z    1424526 non-null  float64\n",
      " 3   acc_x     1424526 non-null  float64\n",
      " 4   acc_y     1424526 non-null  float64\n",
      " 5   acc_z     1424525 non-null  float64\n",
      " 6   activity  1424525 non-null  float64\n",
      " 7   gyro_x1   1424525 non-null  float64\n",
      " 8   gyro_y1   1424525 non-null  float64\n",
      " 9   gyro_z1   1424525 non-null  float64\n",
      " 10  acc_x1    1424525 non-null  float64\n",
      " 11  acc_y1    1424525 non-null  float64\n",
      " 12  acc_z1    1424525 non-null  float64\n",
      " 13  gyro_x2   1424524 non-null  float64\n",
      " 14  gyro_y2   1424524 non-null  float64\n",
      " 15  gyro_z2   1424524 non-null  float64\n",
      " 16  acc_x2    1424524 non-null  float64\n",
      " 17  acc_y2    1424524 non-null  float64\n",
      " 18  acc_z2    1424524 non-null  float64\n",
      " 19  gyro_x3   1424523 non-null  float64\n",
      " 20  gyro_y3   1424523 non-null  float64\n",
      " 21  gyro_z3   1424523 non-null  float64\n",
      " 22  acc_x3    1424523 non-null  float64\n",
      " 23  acc_y3    1424523 non-null  float64\n",
      " 24  acc_z3    1424523 non-null  float64\n",
      " 25  gyro_x4   1424522 non-null  float64\n",
      " 26  gyro_y4   1424522 non-null  float64\n",
      " 27  gyro_z4   1424522 non-null  float64\n",
      " 28  acc_x4    1424522 non-null  float64\n",
      " 29  acc_y4    1424522 non-null  float64\n",
      " 30  acc_z4    1424522 non-null  float64\n",
      " 31  gyro_x5   1424521 non-null  float64\n",
      " 32  gyro_y5   1424521 non-null  float64\n",
      " 33  gyro_z5   1424521 non-null  float64\n",
      " 34  acc_x5    1424521 non-null  float64\n",
      " 35  acc_y5    1424521 non-null  float64\n",
      " 36  acc_z5    1424521 non-null  float64\n",
      " 37  gyro_x6   1424520 non-null  float64\n",
      " 38  gyro_y6   1424520 non-null  float64\n",
      " 39  gyro_z6   1424520 non-null  float64\n",
      " 40  acc_x6    1424520 non-null  float64\n",
      " 41  acc_y6    1424520 non-null  float64\n",
      " 42  acc_z6    1424520 non-null  float64\n",
      " 43  gyro_x7   1424519 non-null  float64\n",
      " 44  gyro_y7   1424519 non-null  float64\n",
      " 45  gyro_z7   1424519 non-null  float64\n",
      " 46  acc_x7    1424519 non-null  float64\n",
      " 47  acc_y7    1424519 non-null  float64\n",
      " 48  acc_z7    1424519 non-null  float64\n",
      " 49  gyro_x8   1424518 non-null  float64\n",
      " 50  gyro_y8   1424518 non-null  float64\n",
      " 51  gyro_z8   1424518 non-null  float64\n",
      " 52  acc_x8    1424518 non-null  float64\n",
      " 53  acc_y8    1424518 non-null  float64\n",
      " 54  acc_z8    1424518 non-null  float64\n",
      " 55  gyro_x9   1424517 non-null  float64\n",
      " 56  gyro_y9   1424517 non-null  float64\n",
      " 57  gyro_z9   1424517 non-null  float64\n",
      " 58  acc_x9    1424517 non-null  float64\n",
      " 59  acc_y9    1424517 non-null  float64\n",
      " 60  acc_z9    1424517 non-null  float64\n",
      " 61  gyro_x10  1424516 non-null  float64\n",
      " 62  gyro_y10  1424516 non-null  float64\n",
      " 63  gyro_z10  1424516 non-null  float64\n",
      " 64  acc_x10   1424516 non-null  float64\n",
      " 65  acc_y10   1424516 non-null  float64\n",
      " 66  acc_z10   1424516 non-null  float64\n",
      "dtypes: float64(67)\n",
      "memory usage: 728.2 MB\n"
     ]
    }
   ],
   "source": [
    "data2.info()"
   ]
  },
  {
   "cell_type": "code",
   "execution_count": 10,
   "metadata": {
    "colab": {
     "base_uri": "https://localhost:8080/"
    },
    "id": "v37SwzvNmeO6",
    "outputId": "02e86b86-ca3b-4261-a2ea-aeda82174648"
   },
   "outputs": [
    {
     "data": {
      "text/plain": [
       "(1424526, 67)"
      ]
     },
     "execution_count": 10,
     "metadata": {},
     "output_type": "execute_result"
    }
   ],
   "source": [
    "data2.shape"
   ]
  },
  {
   "cell_type": "markdown",
   "metadata": {
    "id": "M9FVSrUMmqkG"
   },
   "source": [
    "Everything looks to be in order, now all we have to do is drop the rows with missing values. When we shifted the data, we created missing values because when you shift the data, there's no existing data before you start recording."
   ]
  },
  {
   "cell_type": "code",
   "execution_count": 11,
   "metadata": {
    "id": "7u4ZNBobmfGp"
   },
   "outputs": [],
   "source": [
    "data3 = data2.dropna()"
   ]
  },
  {
   "cell_type": "code",
   "execution_count": 12,
   "metadata": {
    "colab": {
     "base_uri": "https://localhost:8080/",
     "height": 224
    },
    "id": "w2AUCmtwmzBx",
    "outputId": "33599051-b334-4247-8616-5744a7514cb5"
   },
   "outputs": [
    {
     "data": {
      "text/html": [
       "<div>\n",
       "<style scoped>\n",
       "    .dataframe tbody tr th:only-of-type {\n",
       "        vertical-align: middle;\n",
       "    }\n",
       "\n",
       "    .dataframe tbody tr th {\n",
       "        vertical-align: top;\n",
       "    }\n",
       "\n",
       "    .dataframe thead th {\n",
       "        text-align: right;\n",
       "    }\n",
       "</style>\n",
       "<table border=\"1\" class=\"dataframe\">\n",
       "  <thead>\n",
       "    <tr style=\"text-align: right;\">\n",
       "      <th></th>\n",
       "      <th>gyro_x</th>\n",
       "      <th>gyro_y</th>\n",
       "      <th>gyro_z</th>\n",
       "      <th>acc_x</th>\n",
       "      <th>acc_y</th>\n",
       "      <th>acc_z</th>\n",
       "      <th>activity</th>\n",
       "      <th>gyro_x1</th>\n",
       "      <th>gyro_y1</th>\n",
       "      <th>gyro_z1</th>\n",
       "      <th>acc_x1</th>\n",
       "      <th>acc_y1</th>\n",
       "      <th>acc_z1</th>\n",
       "      <th>gyro_x2</th>\n",
       "      <th>gyro_y2</th>\n",
       "      <th>gyro_z2</th>\n",
       "      <th>acc_x2</th>\n",
       "      <th>acc_y2</th>\n",
       "      <th>acc_z2</th>\n",
       "      <th>gyro_x3</th>\n",
       "      <th>gyro_y3</th>\n",
       "      <th>gyro_z3</th>\n",
       "      <th>acc_x3</th>\n",
       "      <th>acc_y3</th>\n",
       "      <th>acc_z3</th>\n",
       "      <th>gyro_x4</th>\n",
       "      <th>gyro_y4</th>\n",
       "      <th>gyro_z4</th>\n",
       "      <th>acc_x4</th>\n",
       "      <th>acc_y4</th>\n",
       "      <th>acc_z4</th>\n",
       "      <th>gyro_x5</th>\n",
       "      <th>gyro_y5</th>\n",
       "      <th>gyro_z5</th>\n",
       "      <th>acc_x5</th>\n",
       "      <th>acc_y5</th>\n",
       "      <th>acc_z5</th>\n",
       "      <th>gyro_x6</th>\n",
       "      <th>gyro_y6</th>\n",
       "      <th>gyro_z6</th>\n",
       "      <th>acc_x6</th>\n",
       "      <th>acc_y6</th>\n",
       "      <th>acc_z6</th>\n",
       "      <th>gyro_x7</th>\n",
       "      <th>gyro_y7</th>\n",
       "      <th>gyro_z7</th>\n",
       "      <th>acc_x7</th>\n",
       "      <th>acc_y7</th>\n",
       "      <th>acc_z7</th>\n",
       "      <th>gyro_x8</th>\n",
       "      <th>gyro_y8</th>\n",
       "      <th>gyro_z8</th>\n",
       "      <th>acc_x8</th>\n",
       "      <th>acc_y8</th>\n",
       "      <th>acc_z8</th>\n",
       "      <th>gyro_x9</th>\n",
       "      <th>gyro_y9</th>\n",
       "      <th>gyro_z9</th>\n",
       "      <th>acc_x9</th>\n",
       "      <th>acc_y9</th>\n",
       "      <th>acc_z9</th>\n",
       "      <th>gyro_x10</th>\n",
       "      <th>gyro_y10</th>\n",
       "      <th>gyro_z10</th>\n",
       "      <th>acc_x10</th>\n",
       "      <th>acc_y10</th>\n",
       "      <th>acc_z10</th>\n",
       "    </tr>\n",
       "  </thead>\n",
       "  <tbody>\n",
       "    <tr>\n",
       "      <th>10</th>\n",
       "      <td>0.003360</td>\n",
       "      <td>-0.002749</td>\n",
       "      <td>0.000305</td>\n",
       "      <td>1.019445</td>\n",
       "      <td>-0.119444</td>\n",
       "      <td>0.094444</td>\n",
       "      <td>5.0</td>\n",
       "      <td>0.016493</td>\n",
       "      <td>0.003665</td>\n",
       "      <td>0.003360</td>\n",
       "      <td>1.019445</td>\n",
       "      <td>-0.115278</td>\n",
       "      <td>0.094444</td>\n",
       "      <td>0.009774</td>\n",
       "      <td>-0.006414</td>\n",
       "      <td>0.000305</td>\n",
       "      <td>1.020833</td>\n",
       "      <td>-0.127778</td>\n",
       "      <td>0.098611</td>\n",
       "      <td>0.013744</td>\n",
       "      <td>-0.014966</td>\n",
       "      <td>0.004276</td>\n",
       "      <td>1.016667</td>\n",
       "      <td>-0.123611</td>\n",
       "      <td>0.097222</td>\n",
       "      <td>0.010079</td>\n",
       "      <td>-0.003665</td>\n",
       "      <td>0.000305</td>\n",
       "      <td>1.019445</td>\n",
       "      <td>-0.125000</td>\n",
       "      <td>0.101389</td>\n",
       "      <td>0.009163</td>\n",
       "      <td>-0.003054</td>\n",
       "      <td>0.010079</td>\n",
       "      <td>1.018056</td>\n",
       "      <td>-0.129167</td>\n",
       "      <td>0.104167</td>\n",
       "      <td>0.010996</td>\n",
       "      <td>-0.001527</td>\n",
       "      <td>-0.004887</td>\n",
       "      <td>1.018056</td>\n",
       "      <td>-0.127778</td>\n",
       "      <td>0.108333</td>\n",
       "      <td>0.011301</td>\n",
       "      <td>-0.001833</td>\n",
       "      <td>-0.006414</td>\n",
       "      <td>1.016667</td>\n",
       "      <td>-0.125000</td>\n",
       "      <td>0.108333</td>\n",
       "      <td>0.012217</td>\n",
       "      <td>0.000916</td>\n",
       "      <td>-0.007330</td>\n",
       "      <td>1.020833</td>\n",
       "      <td>-0.125000</td>\n",
       "      <td>0.104167</td>\n",
       "      <td>-0.000305</td>\n",
       "      <td>-0.002138</td>\n",
       "      <td>0.006109</td>\n",
       "      <td>1.025000</td>\n",
       "      <td>-0.125000</td>\n",
       "      <td>0.101389</td>\n",
       "      <td>-0.002749</td>\n",
       "      <td>-0.004276</td>\n",
       "      <td>0.002749</td>\n",
       "      <td>1.020833</td>\n",
       "      <td>-0.125000</td>\n",
       "      <td>0.105556</td>\n",
       "    </tr>\n",
       "    <tr>\n",
       "      <th>11</th>\n",
       "      <td>-0.003360</td>\n",
       "      <td>-0.008552</td>\n",
       "      <td>0.007941</td>\n",
       "      <td>1.022222</td>\n",
       "      <td>-0.120833</td>\n",
       "      <td>0.100000</td>\n",
       "      <td>5.0</td>\n",
       "      <td>0.003360</td>\n",
       "      <td>-0.002749</td>\n",
       "      <td>0.000305</td>\n",
       "      <td>1.019445</td>\n",
       "      <td>-0.119444</td>\n",
       "      <td>0.094444</td>\n",
       "      <td>0.016493</td>\n",
       "      <td>0.003665</td>\n",
       "      <td>0.003360</td>\n",
       "      <td>1.019445</td>\n",
       "      <td>-0.115278</td>\n",
       "      <td>0.094444</td>\n",
       "      <td>0.009774</td>\n",
       "      <td>-0.006414</td>\n",
       "      <td>0.000305</td>\n",
       "      <td>1.020833</td>\n",
       "      <td>-0.127778</td>\n",
       "      <td>0.098611</td>\n",
       "      <td>0.013744</td>\n",
       "      <td>-0.014966</td>\n",
       "      <td>0.004276</td>\n",
       "      <td>1.016667</td>\n",
       "      <td>-0.123611</td>\n",
       "      <td>0.097222</td>\n",
       "      <td>0.010079</td>\n",
       "      <td>-0.003665</td>\n",
       "      <td>0.000305</td>\n",
       "      <td>1.019445</td>\n",
       "      <td>-0.125000</td>\n",
       "      <td>0.101389</td>\n",
       "      <td>0.009163</td>\n",
       "      <td>-0.003054</td>\n",
       "      <td>0.010079</td>\n",
       "      <td>1.018056</td>\n",
       "      <td>-0.129167</td>\n",
       "      <td>0.104167</td>\n",
       "      <td>0.010996</td>\n",
       "      <td>-0.001527</td>\n",
       "      <td>-0.004887</td>\n",
       "      <td>1.018056</td>\n",
       "      <td>-0.127778</td>\n",
       "      <td>0.108333</td>\n",
       "      <td>0.011301</td>\n",
       "      <td>-0.001833</td>\n",
       "      <td>-0.006414</td>\n",
       "      <td>1.016667</td>\n",
       "      <td>-0.125000</td>\n",
       "      <td>0.108333</td>\n",
       "      <td>0.012217</td>\n",
       "      <td>0.000916</td>\n",
       "      <td>-0.007330</td>\n",
       "      <td>1.020833</td>\n",
       "      <td>-0.125000</td>\n",
       "      <td>0.104167</td>\n",
       "      <td>-0.000305</td>\n",
       "      <td>-0.002138</td>\n",
       "      <td>0.006109</td>\n",
       "      <td>1.025000</td>\n",
       "      <td>-0.125000</td>\n",
       "      <td>0.101389</td>\n",
       "    </tr>\n",
       "    <tr>\n",
       "      <th>12</th>\n",
       "      <td>-0.005803</td>\n",
       "      <td>-0.010079</td>\n",
       "      <td>0.003971</td>\n",
       "      <td>1.019445</td>\n",
       "      <td>-0.120833</td>\n",
       "      <td>0.100000</td>\n",
       "      <td>5.0</td>\n",
       "      <td>-0.003360</td>\n",
       "      <td>-0.008552</td>\n",
       "      <td>0.007941</td>\n",
       "      <td>1.022222</td>\n",
       "      <td>-0.120833</td>\n",
       "      <td>0.100000</td>\n",
       "      <td>0.003360</td>\n",
       "      <td>-0.002749</td>\n",
       "      <td>0.000305</td>\n",
       "      <td>1.019445</td>\n",
       "      <td>-0.119444</td>\n",
       "      <td>0.094444</td>\n",
       "      <td>0.016493</td>\n",
       "      <td>0.003665</td>\n",
       "      <td>0.003360</td>\n",
       "      <td>1.019445</td>\n",
       "      <td>-0.115278</td>\n",
       "      <td>0.094444</td>\n",
       "      <td>0.009774</td>\n",
       "      <td>-0.006414</td>\n",
       "      <td>0.000305</td>\n",
       "      <td>1.020833</td>\n",
       "      <td>-0.127778</td>\n",
       "      <td>0.098611</td>\n",
       "      <td>0.013744</td>\n",
       "      <td>-0.014966</td>\n",
       "      <td>0.004276</td>\n",
       "      <td>1.016667</td>\n",
       "      <td>-0.123611</td>\n",
       "      <td>0.097222</td>\n",
       "      <td>0.010079</td>\n",
       "      <td>-0.003665</td>\n",
       "      <td>0.000305</td>\n",
       "      <td>1.019445</td>\n",
       "      <td>-0.125000</td>\n",
       "      <td>0.101389</td>\n",
       "      <td>0.009163</td>\n",
       "      <td>-0.003054</td>\n",
       "      <td>0.010079</td>\n",
       "      <td>1.018056</td>\n",
       "      <td>-0.129167</td>\n",
       "      <td>0.104167</td>\n",
       "      <td>0.010996</td>\n",
       "      <td>-0.001527</td>\n",
       "      <td>-0.004887</td>\n",
       "      <td>1.018056</td>\n",
       "      <td>-0.127778</td>\n",
       "      <td>0.108333</td>\n",
       "      <td>0.011301</td>\n",
       "      <td>-0.001833</td>\n",
       "      <td>-0.006414</td>\n",
       "      <td>1.016667</td>\n",
       "      <td>-0.125000</td>\n",
       "      <td>0.108333</td>\n",
       "      <td>0.012217</td>\n",
       "      <td>0.000916</td>\n",
       "      <td>-0.007330</td>\n",
       "      <td>1.020833</td>\n",
       "      <td>-0.125000</td>\n",
       "      <td>0.104167</td>\n",
       "    </tr>\n",
       "    <tr>\n",
       "      <th>13</th>\n",
       "      <td>-0.009163</td>\n",
       "      <td>0.000916</td>\n",
       "      <td>0.001833</td>\n",
       "      <td>1.016667</td>\n",
       "      <td>-0.120833</td>\n",
       "      <td>0.095833</td>\n",
       "      <td>5.0</td>\n",
       "      <td>-0.005803</td>\n",
       "      <td>-0.010079</td>\n",
       "      <td>0.003971</td>\n",
       "      <td>1.019445</td>\n",
       "      <td>-0.120833</td>\n",
       "      <td>0.100000</td>\n",
       "      <td>-0.003360</td>\n",
       "      <td>-0.008552</td>\n",
       "      <td>0.007941</td>\n",
       "      <td>1.022222</td>\n",
       "      <td>-0.120833</td>\n",
       "      <td>0.100000</td>\n",
       "      <td>0.003360</td>\n",
       "      <td>-0.002749</td>\n",
       "      <td>0.000305</td>\n",
       "      <td>1.019445</td>\n",
       "      <td>-0.119444</td>\n",
       "      <td>0.094444</td>\n",
       "      <td>0.016493</td>\n",
       "      <td>0.003665</td>\n",
       "      <td>0.003360</td>\n",
       "      <td>1.019445</td>\n",
       "      <td>-0.115278</td>\n",
       "      <td>0.094444</td>\n",
       "      <td>0.009774</td>\n",
       "      <td>-0.006414</td>\n",
       "      <td>0.000305</td>\n",
       "      <td>1.020833</td>\n",
       "      <td>-0.127778</td>\n",
       "      <td>0.098611</td>\n",
       "      <td>0.013744</td>\n",
       "      <td>-0.014966</td>\n",
       "      <td>0.004276</td>\n",
       "      <td>1.016667</td>\n",
       "      <td>-0.123611</td>\n",
       "      <td>0.097222</td>\n",
       "      <td>0.010079</td>\n",
       "      <td>-0.003665</td>\n",
       "      <td>0.000305</td>\n",
       "      <td>1.019445</td>\n",
       "      <td>-0.125000</td>\n",
       "      <td>0.101389</td>\n",
       "      <td>0.009163</td>\n",
       "      <td>-0.003054</td>\n",
       "      <td>0.010079</td>\n",
       "      <td>1.018056</td>\n",
       "      <td>-0.129167</td>\n",
       "      <td>0.104167</td>\n",
       "      <td>0.010996</td>\n",
       "      <td>-0.001527</td>\n",
       "      <td>-0.004887</td>\n",
       "      <td>1.018056</td>\n",
       "      <td>-0.127778</td>\n",
       "      <td>0.108333</td>\n",
       "      <td>0.011301</td>\n",
       "      <td>-0.001833</td>\n",
       "      <td>-0.006414</td>\n",
       "      <td>1.016667</td>\n",
       "      <td>-0.125000</td>\n",
       "      <td>0.108333</td>\n",
       "    </tr>\n",
       "    <tr>\n",
       "      <th>14</th>\n",
       "      <td>-0.004887</td>\n",
       "      <td>0.002443</td>\n",
       "      <td>0.007941</td>\n",
       "      <td>1.019445</td>\n",
       "      <td>-0.120833</td>\n",
       "      <td>0.097222</td>\n",
       "      <td>5.0</td>\n",
       "      <td>-0.009163</td>\n",
       "      <td>0.000916</td>\n",
       "      <td>0.001833</td>\n",
       "      <td>1.016667</td>\n",
       "      <td>-0.120833</td>\n",
       "      <td>0.095833</td>\n",
       "      <td>-0.005803</td>\n",
       "      <td>-0.010079</td>\n",
       "      <td>0.003971</td>\n",
       "      <td>1.019445</td>\n",
       "      <td>-0.120833</td>\n",
       "      <td>0.100000</td>\n",
       "      <td>-0.003360</td>\n",
       "      <td>-0.008552</td>\n",
       "      <td>0.007941</td>\n",
       "      <td>1.022222</td>\n",
       "      <td>-0.120833</td>\n",
       "      <td>0.100000</td>\n",
       "      <td>0.003360</td>\n",
       "      <td>-0.002749</td>\n",
       "      <td>0.000305</td>\n",
       "      <td>1.019445</td>\n",
       "      <td>-0.119444</td>\n",
       "      <td>0.094444</td>\n",
       "      <td>0.016493</td>\n",
       "      <td>0.003665</td>\n",
       "      <td>0.003360</td>\n",
       "      <td>1.019445</td>\n",
       "      <td>-0.115278</td>\n",
       "      <td>0.094444</td>\n",
       "      <td>0.009774</td>\n",
       "      <td>-0.006414</td>\n",
       "      <td>0.000305</td>\n",
       "      <td>1.020833</td>\n",
       "      <td>-0.127778</td>\n",
       "      <td>0.098611</td>\n",
       "      <td>0.013744</td>\n",
       "      <td>-0.014966</td>\n",
       "      <td>0.004276</td>\n",
       "      <td>1.016667</td>\n",
       "      <td>-0.123611</td>\n",
       "      <td>0.097222</td>\n",
       "      <td>0.010079</td>\n",
       "      <td>-0.003665</td>\n",
       "      <td>0.000305</td>\n",
       "      <td>1.019445</td>\n",
       "      <td>-0.125000</td>\n",
       "      <td>0.101389</td>\n",
       "      <td>0.009163</td>\n",
       "      <td>-0.003054</td>\n",
       "      <td>0.010079</td>\n",
       "      <td>1.018056</td>\n",
       "      <td>-0.129167</td>\n",
       "      <td>0.104167</td>\n",
       "      <td>0.010996</td>\n",
       "      <td>-0.001527</td>\n",
       "      <td>-0.004887</td>\n",
       "      <td>1.018056</td>\n",
       "      <td>-0.127778</td>\n",
       "      <td>0.108333</td>\n",
       "    </tr>\n",
       "  </tbody>\n",
       "</table>\n",
       "</div>"
      ],
      "text/plain": [
       "      gyro_x    gyro_y    gyro_z  ...   acc_x10   acc_y10   acc_z10\n",
       "10  0.003360 -0.002749  0.000305  ...  1.020833 -0.125000  0.105556\n",
       "11 -0.003360 -0.008552  0.007941  ...  1.025000 -0.125000  0.101389\n",
       "12 -0.005803 -0.010079  0.003971  ...  1.020833 -0.125000  0.104167\n",
       "13 -0.009163  0.000916  0.001833  ...  1.016667 -0.125000  0.108333\n",
       "14 -0.004887  0.002443  0.007941  ...  1.018056 -0.127778  0.108333\n",
       "\n",
       "[5 rows x 67 columns]"
      ]
     },
     "execution_count": 12,
     "metadata": {},
     "output_type": "execute_result"
    }
   ],
   "source": [
    "data3.head()"
   ]
  },
  {
   "cell_type": "code",
   "execution_count": 13,
   "metadata": {
    "colab": {
     "base_uri": "https://localhost:8080/"
    },
    "id": "jR6-bnOxm1F0",
    "outputId": "224d4db3-20e0-4553-a805-5e12eda6da1a"
   },
   "outputs": [
    {
     "name": "stdout",
     "output_type": "stream",
     "text": [
      "<class 'pandas.core.frame.DataFrame'>\n",
      "Int64Index: 1424515 entries, 10 to 1424524\n",
      "Data columns (total 67 columns):\n",
      " #   Column    Non-Null Count    Dtype  \n",
      "---  ------    --------------    -----  \n",
      " 0   gyro_x    1424515 non-null  float64\n",
      " 1   gyro_y    1424515 non-null  float64\n",
      " 2   gyro_z    1424515 non-null  float64\n",
      " 3   acc_x     1424515 non-null  float64\n",
      " 4   acc_y     1424515 non-null  float64\n",
      " 5   acc_z     1424515 non-null  float64\n",
      " 6   activity  1424515 non-null  float64\n",
      " 7   gyro_x1   1424515 non-null  float64\n",
      " 8   gyro_y1   1424515 non-null  float64\n",
      " 9   gyro_z1   1424515 non-null  float64\n",
      " 10  acc_x1    1424515 non-null  float64\n",
      " 11  acc_y1    1424515 non-null  float64\n",
      " 12  acc_z1    1424515 non-null  float64\n",
      " 13  gyro_x2   1424515 non-null  float64\n",
      " 14  gyro_y2   1424515 non-null  float64\n",
      " 15  gyro_z2   1424515 non-null  float64\n",
      " 16  acc_x2    1424515 non-null  float64\n",
      " 17  acc_y2    1424515 non-null  float64\n",
      " 18  acc_z2    1424515 non-null  float64\n",
      " 19  gyro_x3   1424515 non-null  float64\n",
      " 20  gyro_y3   1424515 non-null  float64\n",
      " 21  gyro_z3   1424515 non-null  float64\n",
      " 22  acc_x3    1424515 non-null  float64\n",
      " 23  acc_y3    1424515 non-null  float64\n",
      " 24  acc_z3    1424515 non-null  float64\n",
      " 25  gyro_x4   1424515 non-null  float64\n",
      " 26  gyro_y4   1424515 non-null  float64\n",
      " 27  gyro_z4   1424515 non-null  float64\n",
      " 28  acc_x4    1424515 non-null  float64\n",
      " 29  acc_y4    1424515 non-null  float64\n",
      " 30  acc_z4    1424515 non-null  float64\n",
      " 31  gyro_x5   1424515 non-null  float64\n",
      " 32  gyro_y5   1424515 non-null  float64\n",
      " 33  gyro_z5   1424515 non-null  float64\n",
      " 34  acc_x5    1424515 non-null  float64\n",
      " 35  acc_y5    1424515 non-null  float64\n",
      " 36  acc_z5    1424515 non-null  float64\n",
      " 37  gyro_x6   1424515 non-null  float64\n",
      " 38  gyro_y6   1424515 non-null  float64\n",
      " 39  gyro_z6   1424515 non-null  float64\n",
      " 40  acc_x6    1424515 non-null  float64\n",
      " 41  acc_y6    1424515 non-null  float64\n",
      " 42  acc_z6    1424515 non-null  float64\n",
      " 43  gyro_x7   1424515 non-null  float64\n",
      " 44  gyro_y7   1424515 non-null  float64\n",
      " 45  gyro_z7   1424515 non-null  float64\n",
      " 46  acc_x7    1424515 non-null  float64\n",
      " 47  acc_y7    1424515 non-null  float64\n",
      " 48  acc_z7    1424515 non-null  float64\n",
      " 49  gyro_x8   1424515 non-null  float64\n",
      " 50  gyro_y8   1424515 non-null  float64\n",
      " 51  gyro_z8   1424515 non-null  float64\n",
      " 52  acc_x8    1424515 non-null  float64\n",
      " 53  acc_y8    1424515 non-null  float64\n",
      " 54  acc_z8    1424515 non-null  float64\n",
      " 55  gyro_x9   1424515 non-null  float64\n",
      " 56  gyro_y9   1424515 non-null  float64\n",
      " 57  gyro_z9   1424515 non-null  float64\n",
      " 58  acc_x9    1424515 non-null  float64\n",
      " 59  acc_y9    1424515 non-null  float64\n",
      " 60  acc_z9    1424515 non-null  float64\n",
      " 61  gyro_x10  1424515 non-null  float64\n",
      " 62  gyro_y10  1424515 non-null  float64\n",
      " 63  gyro_z10  1424515 non-null  float64\n",
      " 64  acc_x10   1424515 non-null  float64\n",
      " 65  acc_y10   1424515 non-null  float64\n",
      " 66  acc_z10   1424515 non-null  float64\n",
      "dtypes: float64(67)\n",
      "memory usage: 739.0 MB\n"
     ]
    }
   ],
   "source": [
    "data3.info()"
   ]
  },
  {
   "cell_type": "markdown",
   "metadata": {
    "id": "OPE6Q8wSm7Wu"
   },
   "source": [
    "Now that we have our feature engineered data, let's try running a logistic regression on it!\n",
    "\n",
    "---"
   ]
  },
  {
   "cell_type": "markdown",
   "metadata": {
    "id": "8kqTZIp4nDVk"
   },
   "source": [
    "### Logistic Regression"
   ]
  },
  {
   "cell_type": "markdown",
   "metadata": {
    "id": "G_npzW95nJi0"
   },
   "source": [
    "Let's start off with importing the required library, and splitting our dataframe into X and y variables, where y is the target."
   ]
  },
  {
   "cell_type": "code",
   "execution_count": 15,
   "metadata": {
    "id": "RLx0pwr8nG4r"
   },
   "outputs": [],
   "source": [
    "from sklearn.linear_model import LogisticRegression"
   ]
  },
  {
   "cell_type": "code",
   "execution_count": 16,
   "metadata": {
    "id": "WVShVkMwm2dU"
   },
   "outputs": [],
   "source": [
    "X = data3.loc[:, data3.columns != 'activity']\n",
    "y = data3['activity']"
   ]
  },
  {
   "cell_type": "markdown",
   "metadata": {
    "id": "cgSb25wenTM1"
   },
   "source": [
    "Now, we can run the logistic regression!"
   ]
  },
  {
   "cell_type": "code",
   "execution_count": 17,
   "metadata": {
    "colab": {
     "base_uri": "https://localhost:8080/"
    },
    "id": "PjHzdSKBnRMj",
    "outputId": "0caad076-f789-4022-82d6-ab4b886323f6"
   },
   "outputs": [
    {
     "name": "stderr",
     "output_type": "stream",
     "text": [
      "/usr/local/lib/python3.7/dist-packages/sklearn/linear_model/_logistic.py:940: ConvergenceWarning: lbfgs failed to converge (status=1):\n",
      "STOP: TOTAL NO. of ITERATIONS REACHED LIMIT.\n",
      "\n",
      "Increase the number of iterations (max_iter) or scale the data as shown in:\n",
      "    https://scikit-learn.org/stable/modules/preprocessing.html\n",
      "Please also refer to the documentation for alternative solver options:\n",
      "    https://scikit-learn.org/stable/modules/linear_model.html#logistic-regression\n",
      "  extra_warning_msg=_LOGISTIC_SOLVER_CONVERGENCE_MSG)\n"
     ]
    },
    {
     "data": {
      "text/plain": [
       "LogisticRegression(C=1.0, class_weight=None, dual=False, fit_intercept=True,\n",
       "                   intercept_scaling=1, l1_ratio=None, max_iter=100,\n",
       "                   multi_class='auto', n_jobs=None, penalty='l2',\n",
       "                   random_state=None, solver='lbfgs', tol=0.0001, verbose=0,\n",
       "                   warm_start=False)"
      ]
     },
     "execution_count": 17,
     "metadata": {},
     "output_type": "execute_result"
    }
   ],
   "source": [
    "# instantiate model\n",
    "logit = LogisticRegression()\n",
    "\n",
    "# fit on X and y values\n",
    "logit.fit(X, y)"
   ]
  },
  {
   "cell_type": "markdown",
   "metadata": {
    "id": "ua9-y8HDqh1J"
   },
   "source": [
    "Now let's save this model as a pkl file so we can use it later on in the web app."
   ]
  },
  {
   "cell_type": "code",
   "execution_count": 19,
   "metadata": {
    "colab": {
     "base_uri": "https://localhost:8080/"
    },
    "id": "5729j0QRnYfQ",
    "outputId": "cf75342a-356d-4e4f-950f-d201d01eda0b"
   },
   "outputs": [
    {
     "data": {
      "text/plain": [
       "['logit.pkl']"
      ]
     },
     "execution_count": 19,
     "metadata": {},
     "output_type": "execute_result"
    }
   ],
   "source": [
    "joblib.dump(logit, \"logit.pkl\")"
   ]
  },
  {
   "cell_type": "code",
   "execution_count": null,
   "metadata": {
    "id": "2b7rKDh9q0MI"
   },
   "outputs": [],
   "source": []
  }
 ],
 "metadata": {
  "colab": {
   "name": "05 WebApp.ipynb",
   "provenance": []
  },
  "kernelspec": {
   "display_name": "Python 3",
   "language": "python",
   "name": "python3"
  },
  "language_info": {
   "codemirror_mode": {
    "name": "ipython",
    "version": 3
   },
   "file_extension": ".py",
   "mimetype": "text/x-python",
   "name": "python",
   "nbconvert_exporter": "python",
   "pygments_lexer": "ipython3",
   "version": "3.8.8"
  }
 },
 "nbformat": 4,
 "nbformat_minor": 4
}
