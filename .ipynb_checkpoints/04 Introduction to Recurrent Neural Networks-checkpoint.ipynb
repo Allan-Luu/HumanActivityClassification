{
 "cells": [
  {
   "cell_type": "markdown",
   "metadata": {
    "colab_type": "text",
    "id": "LrbYZJDNBKYv"
   },
   "source": [
    "<div id=\"container\" style=\"position:relative;\">\n",
    "<div style=\"float:left\"><h1> Introduction to Recurrent Neural Networks </h1></div>\n",
    "<div style=\"position:relative; float:right\"><img style=\"height:65px\" src =\"https://drive.google.com/uc?export=view&id=1EnB0x-fdqMp6I5iMoEBBEuxB_s7AmE2k\" />\n",
    "</div>\n",
    "</div>"
   ]
  },
  {
   "cell_type": "markdown",
   "metadata": {
    "colab_type": "text",
    "id": "2z8qJcVWBKYw"
   },
   "source": [
    "So far we have seen Fully-Connected Neural Networks (FNN) as well as Convolutional Neural Networks (CNN). These were powerful methods but neither work well on sequential data where the ordering of inputs matter. Sequential data and its analysis is ubiquitous in modern data science and machine learning:\n",
    "- time series data: forecasting stock price movements or weather patterns;\n",
    "- natural language: automated question answering, text summarization or translating sentences from one language to the other;\n",
    "- audio or video data: turning speech into text or annotating videos;\n",
    "- mobility data: analyzing traffic patterns or traffic behavior prediction for self-driving cars.\n",
    "\n",
    "These applications all require us to model a sequence of inputs where previous values heavily affect future elements. This is where Recurrent Neural Networks (RNN) come into play."
   ]
  },
  {
   "cell_type": "code",
   "execution_count": 1,
   "metadata": {
    "colab": {
     "base_uri": "https://localhost:8080/",
     "height": 63
    },
    "colab_type": "code",
    "id": "6BQ8ha5VBKYy",
    "outputId": "d4a7facb-73b2-4270-ae49-fde70b38b119"
   },
   "outputs": [],
   "source": [
    "# Let's load up some libraries\n",
    "import os.path\n",
    "\n",
    "import numpy as np\n",
    "import pandas as pd\n",
    "import matplotlib.pyplot as plt\n",
    "\n",
    "from tensorflow.keras.models import Sequential\n",
    "from tensorflow.keras.layers import Dense, Dropout, Embedding, LSTM, GRU, BatchNormalization\n",
    "from tensorflow.keras.optimizers import Adam\n",
    "from tensorflow.keras.preprocessing.text import Tokenizer"
   ]
  },
  {
   "cell_type": "markdown",
   "metadata": {
    "colab_type": "text",
    "id": "2XsQUz-HBKY2"
   },
   "source": [
    "## Modeling Sequential Data\n",
    "\n",
    "When working with sequential data, we assume that the data points are not independent. In general, when observing $\\vec{X} = [x_1, x_2, ..., x_n]$ across $n$ time steps, every $x_t$ has an effect on the next $x_{t+1}$ and knowing more of the past data points allows us to make better predictions of future values. Natural language is even more complex because the order of the words has a tremendous effect on meaning. Both the previous and the following words matter when interpreting a word, (_bidirectional context_). \n",
    "\n",
    "Consider the following two sentences:\n",
    "1. A person made a neural network.\n",
    "2. A neural network made a person.\n",
    "\n",
    "The two sentences contain the exact same words but have very different meaning.\n"
   ]
  },
  {
   "cell_type": "markdown",
   "metadata": {
    "colab_type": "text",
    "id": "0bQkzlS2BKY4"
   },
   "source": [
    "## Effects on Neural Network design\n",
    "\n",
    "From a functional perspective, we would like our neurons to be slightly modified. The fully-connected and convolutional neural networks that we discussed so far were so-called **feed-forward neural networks**. Starting at the input layer, information flowed from one direction towards the output, (see the right diagram). Now, as we aim to process a _sequential_ input, we would like to design our neurons such that the output from one sequence element can be used as an input for processing the next element. This can be achieved by adding backward (or in other words, recurrent) connections into the network design, (see the left diagram)."
   ]
  },
  {
   "cell_type": "markdown",
   "metadata": {
    "colab_type": "text",
    "id": "EA22_utABKY5"
   },
   "source": [
    "<img src=\"http://drive.google.com/uc?export=view&id=15kwpMDsF6yzZpTtaqXlZmO_c9ZOaU7tr\" width=500 height=400>\n",
    "\n",
    "<center> <i>Image source: https://www.sciencedirect.com/science/article/pii/S088523081400093X#fig0010</i> </center>"
   ]
  },
  {
   "cell_type": "markdown",
   "metadata": {},
   "source": [
    "The basis for Recurrent Neural Networks are these Recurrent Neurons, represented by a function $F$ below. So, in the simplest case, a sequence of inputs $[x_0, x_1, x_2, \\dots]$ is processed using the formula\n",
    "\n",
    "$$y_t = F(x_t, y_{t-1})$$\n",
    "\n",
    "That is, in order to find the output at step $t$, we use both the input at step $t$ and the previous output. This recurrent processing step is depicted on the diagram left below. However, when we actually process a sequence, we **unroll this computation** (as shown on the right diagram): \n",
    "\n",
    "<img src=\"http://drive.google.com/uc?export=view&id=14g3Z9gj4FrmHiYpEMAnQH8kLHUQFqzWd\" height=400 width=600>\n",
    "\n",
    "For example, to process a four-element sequence $[x_0, x_1, x_2, x_3]$, the network would make the following calculations:\n",
    "\n",
    "$$\n",
    "y_0 = F(x_0, \\underline 0) \\\\\n",
    "y_1 = F(x_1, y_{0}) \\\\\n",
    "y_2 = F(x_2, y_{1}) \\\\\n",
    "y_3 = F(x_3, y_{2}) \\\\\n",
    "$$\n",
    "\n",
    "In the first step, since we don't have an output yet, we just feed in $x_0$ and zeros, to produce the first output $y_0$. Next, we process $x_1$ together with $y_0$ to get $y_1$. Since $y_0$ was found using $x_0$, the output $y_1$ will depend on both $x_1$ and $x_0$. Next, $y_2$ is calculated using $x_2$ and the previous output $y_1$. Since $y_1$ has information about both $x_1$ and $x_0$, the output $y_2$ is affected by the whole sequence before. So recurrent neural networks achieve a sort of memory.\n",
    "\n",
    "\n",
    "You can see that a great advantage of RNNs compared to feed-forward networks is that they can **process sequences of different lengths** without changing anything about the network. We don't need more parameters, since we are sharing the same function (i.e. the same weights) across the different steps."
   ]
  },
  {
   "cell_type": "markdown",
   "metadata": {},
   "source": [
    "Modern recurrent neurons go one step further and distinguish a separate output and an internal **memory** or **cell state**, also known as a **hidden state**, which is used to compute the next value. More formally, these recurrent neurons are functions $F$ that take an input $x_t$ and previous internal state $h_{t-1}$ and return the output $y_t$ along with the updated state $h_t$:\n",
    "\n",
    "$$y_t, h_t = F(x_t, h_{t-1})$$\n",
    "\n",
    "So our diagrams slightly change:\n",
    "\n",
    "<img src=\"http://drive.google.com/uc?export=view&id=14g0dWZ35O-p3Pr0qIvqPEl8s_mfruHUx\" height=400 width=600>\n",
    "\n",
    "The unrolled computation for the four-element sequence $[x_0, x_1, x_2, x_3]$ will look like this:\n",
    "\n",
    "$$\n",
    "y_0, h_0 = F(x_0, \\underline 0)\\\\\n",
    "y_1, h_1 = F(x_1, h_{0})\\\\\n",
    "y_2, h_2 = F(x_2, h_{1})\\\\\n",
    "y_3, h_3 = F(x_3, h_{2})\\\\\n",
    "$$\n",
    "\n",
    "The essence is the same. This processing allows us to have the value of $y_3$ depend on the whole input sequence, because information from each of the $x_i$ values was extracted into the hidden state throughout the processing.\n",
    "\n",
    "\n",
    "When we intend to produce a single prediction only (i.e. the sentiment of a document), we often ignore the intermediate outputs and make use of the final output only, which incorporates the whole sequence:\n",
    "\n",
    "<img src=\"http://drive.google.com/uc?export=view&id=14n-q6XoMe2AWSThNxMk1fB_36mltr8BL\" height=400 width=600>\n",
    "\n",
    "These models are referred to _sequence-to-vector models_ while models where both the input and output is sequential (such as the case of machine translation or speech-to-text models) are called _sequence-to-sequence_."
   ]
  },
  {
   "cell_type": "markdown",
   "metadata": {},
   "source": [
    "Finally, multiple RNN layers can be stacked to form deep recurrent neural networks:\n",
    "\n",
    "<img src=\"http://drive.google.com/uc?export=view&id=14kG-tz95-fblwDCmslKez1eJ-zEovJP7\" height=400 width=600></img>\n",
    "\n",
    "The first layer will pass the whole output sequence to the second layer (and the second layer to the third, and so on). This allows the network to model more complex relationships with the price of more parameters and a higher chance for overfitting. \n",
    "\n",
    "When **training recurrent neural networks**, we are working with the unrolled computational graph and apply backpropagation (this is called _backpropagation through time_). The trainable weights are hidden in the function $F$ we discussed in the form of matrices that transform the input and previous cell state to the output and updated state."
   ]
  },
  {
   "cell_type": "markdown",
   "metadata": {
    "colab_type": "text",
    "id": "aefRQwSUeKeJ"
   },
   "source": [
    "## Data Shapes\n",
    "\n",
    "When we talk about sequential data, each of our observations is a sequence and each sequence element can have multiple features. (Imagine weather data where we observe air pressure, humidity, and temperature, each across multiple time steps). In general, the shape of the input for recurrent networks will be something like $n\\times q \\times d$ where \n",
    "- $n$ is the number of observations, \n",
    "- $q$ is the sequence length and \n",
    "- $d$ is the number of features for each element. \n",
    "\n",
    "These are called 3-dimensional arrays or _rank-3 tensors_.\n",
    "\n",
    "So for example, if we have a dataset where every data point is made up of 4 input features, each of which is a series of 20 measurements (e.g. 20 days), then every data point is described by a $20 \\times 4$ matrix. And if we have 1,000 data points, our dataset will be of size $1000 \\times 20 \\times 4$. "
   ]
  },
  {
   "cell_type": "markdown",
   "metadata": {},
   "source": [
    "## RNNs in Tensorflow and Keras"
   ]
  },
  {
   "cell_type": "markdown",
   "metadata": {},
   "source": [
    "Keras provides three built-in RNN layers:\n",
    "\n",
    "- `SimpleRNN`: This is the simplest recurrent neuron that we discussed earlier, where the previous output is fed back along with the input;\n",
    "\n",
    "- `LSTM`: _Long-Short Term Memory_ units (introduced by [Hochreiter & Schmidhuber, 1997.](https://dl.acm.org/doi/10.1162/neco.1997.9.8.1735)) which improve on simple RNNs with advanced long-term memory updates;\n",
    "\n",
    "- `GRU`: A _Gated Recurrent Unit_ architecture (see [Cho et al., 2014.](https://arxiv.org/abs/1406.1078)) which simplifies LSTMs but often work equally well."
   ]
  },
  {
   "cell_type": "markdown",
   "metadata": {},
   "source": [
    "As you can see, the computation inside LSTM units is much more elaborate than simple RNNs. In particular, there are two internal states calculated, in addition to the  cell output, and these states serve as a long-term memory which is updated at each step.\n",
    "\n",
    "<img src=\"http://drive.google.com/uc?export=view&id=14iPFZUWPnf8yyHrStlCCHjzC7VQS2Zl3\" height=400 width=600>\n",
    "\n",
    "<center> <i>Image source: https://commons.wikimedia.org/wiki/File:Long_Short-Term_Memory.svg</i> </center>"
   ]
  },
  {
   "cell_type": "markdown",
   "metadata": {
    "colab_type": "text",
    "id": "I89IUb7geKeL"
   },
   "source": [
    "## Let's write some poetry! (or at least try)\n",
    "\n",
    "Let's say we wanted to produce an RNN which can write poetry for us. We will give it some starting phrase, and we expect it to complete a poem for us. \n",
    "There are two ways to explore this problem. We can look at poems (and language) as a sequence of characters, or as a sequence of words.\n",
    "\n",
    "We will start with the simpler case - character sequences."
   ]
  },
  {
   "cell_type": "markdown",
   "metadata": {},
   "source": [
    "## Splitting the Data into Characters"
   ]
  },
  {
   "cell_type": "markdown",
   "metadata": {
    "colab_type": "text",
    "id": "GNwoPKqneKeM"
   },
   "source": [
    "The most important part of every data science project is getting the data and transforming it to our required format. Let's grab a poetry dataset:"
   ]
  },
  {
   "cell_type": "code",
   "execution_count": 2,
   "metadata": {
    "colab": {
     "base_uri": "https://localhost:8080/",
     "height": 204
    },
    "colab_type": "code",
    "id": "LxRuHTYPeKeM",
    "outputId": "b3e4bfc4-5d2f-4312-b322-31ad3176d8b1"
   },
   "outputs": [
    {
     "data": {
      "text/html": [
       "<div>\n",
       "<style scoped>\n",
       "    .dataframe tbody tr th:only-of-type {\n",
       "        vertical-align: middle;\n",
       "    }\n",
       "\n",
       "    .dataframe tbody tr th {\n",
       "        vertical-align: top;\n",
       "    }\n",
       "\n",
       "    .dataframe thead th {\n",
       "        text-align: right;\n",
       "    }\n",
       "</style>\n",
       "<table border=\"1\" class=\"dataframe\">\n",
       "  <thead>\n",
       "    <tr style=\"text-align: right;\">\n",
       "      <th></th>\n",
       "      <th>Author</th>\n",
       "      <th>Title</th>\n",
       "      <th>Poetry Foundation ID</th>\n",
       "      <th>Content</th>\n",
       "    </tr>\n",
       "  </thead>\n",
       "  <tbody>\n",
       "    <tr>\n",
       "      <th>0</th>\n",
       "      <td>Wendy Videlock</td>\n",
       "      <td>!</td>\n",
       "      <td>55489</td>\n",
       "      <td>Dear Writers, I’m compiling the first in what ...</td>\n",
       "    </tr>\n",
       "    <tr>\n",
       "      <th>1</th>\n",
       "      <td>Hailey Leithauser</td>\n",
       "      <td>0</td>\n",
       "      <td>41729</td>\n",
       "      <td>Philosophic\\nin its complex, ovoid emptiness,\\...</td>\n",
       "    </tr>\n",
       "    <tr>\n",
       "      <th>2</th>\n",
       "      <td>Jody Gladding</td>\n",
       "      <td>1-800-FEAR</td>\n",
       "      <td>57135</td>\n",
       "      <td>We'd  like  to  talk  with  you  about  fear t...</td>\n",
       "    </tr>\n",
       "    <tr>\n",
       "      <th>3</th>\n",
       "      <td>Joseph Brodsky</td>\n",
       "      <td>1 January 1965</td>\n",
       "      <td>56736</td>\n",
       "      <td>The Wise Men will unlearn your name.\\nAbove yo...</td>\n",
       "    </tr>\n",
       "    <tr>\n",
       "      <th>4</th>\n",
       "      <td>Ted Berrigan</td>\n",
       "      <td>3 Pages</td>\n",
       "      <td>51624</td>\n",
       "      <td>For Jack Collom\\n10 Things I do Every Day\\n\\np...</td>\n",
       "    </tr>\n",
       "  </tbody>\n",
       "</table>\n",
       "</div>"
      ],
      "text/plain": [
       "              Author           Title  Poetry Foundation ID  \\\n",
       "0     Wendy Videlock               !                 55489   \n",
       "1  Hailey Leithauser               0                 41729   \n",
       "2      Jody Gladding      1-800-FEAR                 57135   \n",
       "3     Joseph Brodsky  1 January 1965                 56736   \n",
       "4       Ted Berrigan         3 Pages                 51624   \n",
       "\n",
       "                                             Content  \n",
       "0  Dear Writers, I’m compiling the first in what ...  \n",
       "1  Philosophic\\nin its complex, ovoid emptiness,\\...  \n",
       "2  We'd  like  to  talk  with  you  about  fear t...  \n",
       "3  The Wise Men will unlearn your name.\\nAbove yo...  \n",
       "4  For Jack Collom\\n10 Things I do Every Day\\n\\np...  "
      ]
     },
     "execution_count": 2,
     "metadata": {},
     "output_type": "execute_result"
    }
   ],
   "source": [
    "# original data source: https://www.kaggle.com/johnhallman/complete-poetryfoundationorg-dataset\n",
    "\n",
    "poems_df = pd.read_csv('data/kaggle_poem_dataset.csv', index_col=0)\n",
    "poems_df.head()"
   ]
  },
  {
   "cell_type": "markdown",
   "metadata": {
    "colab_type": "text",
    "id": "WrqggWZGeKeQ"
   },
   "source": [
    "Poetry is unique to every author, so we should see if we can find a single author in this dataset with a large collection of poems that we can use to train our models."
   ]
  },
  {
   "cell_type": "code",
   "execution_count": 3,
   "metadata": {
    "colab": {
     "base_uri": "https://localhost:8080/",
     "height": 119
    },
    "colab_type": "code",
    "id": "AyWxiu7TeKeQ",
    "outputId": "04cf89a6-39d0-4834-a693-20f8a0db0a03"
   },
   "outputs": [
    {
     "data": {
      "text/plain": [
       "William Shakespeare      85\n",
       "Anonymous                82\n",
       "Alfred, Lord Tennyson    78\n",
       "Rae Armantrout           62\n",
       "William Wordsworth       59\n",
       "Name: Author, dtype: int64"
      ]
     },
     "execution_count": 3,
     "metadata": {},
     "output_type": "execute_result"
    }
   ],
   "source": [
    "poems_df['Author'].value_counts().head()"
   ]
  },
  {
   "cell_type": "markdown",
   "metadata": {
    "colab_type": "text",
    "id": "AfyOKcf7eKeS"
   },
   "source": [
    "Not too surprising, William Shakespeare is the most frequent author but let's try a close third, Alfred Tennyson:"
   ]
  },
  {
   "cell_type": "code",
   "execution_count": 4,
   "metadata": {
    "colab": {
     "base_uri": "https://localhost:8080/",
     "height": 204
    },
    "colab_type": "code",
    "id": "dvs4-SZYeKeT",
    "outputId": "76a4f0f0-195f-4dbf-c334-688a257208e3"
   },
   "outputs": [
    {
     "data": {
      "text/html": [
       "<div>\n",
       "<style scoped>\n",
       "    .dataframe tbody tr th:only-of-type {\n",
       "        vertical-align: middle;\n",
       "    }\n",
       "\n",
       "    .dataframe tbody tr th {\n",
       "        vertical-align: top;\n",
       "    }\n",
       "\n",
       "    .dataframe thead th {\n",
       "        text-align: right;\n",
       "    }\n",
       "</style>\n",
       "<table border=\"1\" class=\"dataframe\">\n",
       "  <thead>\n",
       "    <tr style=\"text-align: right;\">\n",
       "      <th></th>\n",
       "      <th>Author</th>\n",
       "      <th>Title</th>\n",
       "      <th>Poetry Foundation ID</th>\n",
       "      <th>Content</th>\n",
       "    </tr>\n",
       "  </thead>\n",
       "  <tbody>\n",
       "    <tr>\n",
       "      <th>1730</th>\n",
       "      <td>Alfred, Lord Tennyson</td>\n",
       "      <td>Break, Break, Break</td>\n",
       "      <td>45318</td>\n",
       "      <td>Break, break, break,\\nOn thy cold gray stones,...</td>\n",
       "    </tr>\n",
       "    <tr>\n",
       "      <th>2134</th>\n",
       "      <td>Alfred, Lord Tennyson</td>\n",
       "      <td>The Charge of the Light Brigade</td>\n",
       "      <td>45319</td>\n",
       "      <td>I\\n\\nHalf a league, half a league,\\nHalf a lea...</td>\n",
       "    </tr>\n",
       "    <tr>\n",
       "      <th>2315</th>\n",
       "      <td>Alfred, Lord Tennyson</td>\n",
       "      <td>Claribel</td>\n",
       "      <td>45320</td>\n",
       "      <td>Where Claribel low-lieth\\nThe breezes pause an...</td>\n",
       "    </tr>\n",
       "    <tr>\n",
       "      <th>2687</th>\n",
       "      <td>Alfred, Lord Tennyson</td>\n",
       "      <td>Crossing the Bar\\n \\n \\n  \\n   Launch Audio in...</td>\n",
       "      <td>45321</td>\n",
       "      <td>Sunset and evening star,\\nAnd one clear call f...</td>\n",
       "    </tr>\n",
       "    <tr>\n",
       "      <th>3529</th>\n",
       "      <td>Alfred, Lord Tennyson</td>\n",
       "      <td>The Eagle</td>\n",
       "      <td>45322</td>\n",
       "      <td>He clasps the crag with crooked hands;\\nClose ...</td>\n",
       "    </tr>\n",
       "  </tbody>\n",
       "</table>\n",
       "</div>"
      ],
      "text/plain": [
       "                     Author  \\\n",
       "1730  Alfred, Lord Tennyson   \n",
       "2134  Alfred, Lord Tennyson   \n",
       "2315  Alfred, Lord Tennyson   \n",
       "2687  Alfred, Lord Tennyson   \n",
       "3529  Alfred, Lord Tennyson   \n",
       "\n",
       "                                                  Title  Poetry Foundation ID  \\\n",
       "1730                                Break, Break, Break                 45318   \n",
       "2134                    The Charge of the Light Brigade                 45319   \n",
       "2315                                           Claribel                 45320   \n",
       "2687  Crossing the Bar\\n \\n \\n  \\n   Launch Audio in...                 45321   \n",
       "3529                                          The Eagle                 45322   \n",
       "\n",
       "                                                Content  \n",
       "1730  Break, break, break,\\nOn thy cold gray stones,...  \n",
       "2134  I\\n\\nHalf a league, half a league,\\nHalf a lea...  \n",
       "2315  Where Claribel low-lieth\\nThe breezes pause an...  \n",
       "2687  Sunset and evening star,\\nAnd one clear call f...  \n",
       "3529  He clasps the crag with crooked hands;\\nClose ...  "
      ]
     },
     "execution_count": 4,
     "metadata": {},
     "output_type": "execute_result"
    }
   ],
   "source": [
    "filtered_poems = poems_df[poems_df['Author'] == \"Alfred, Lord Tennyson\"]\n",
    "filtered_poems.head()"
   ]
  },
  {
   "cell_type": "markdown",
   "metadata": {},
   "source": [
    "The poems contain some special characters and to simplify things, we will just replace all non-alpha-numeric characters by a white space:"
   ]
  },
  {
   "cell_type": "code",
   "execution_count": 5,
   "metadata": {},
   "outputs": [
    {
     "name": "stderr",
     "output_type": "stream",
     "text": [
      "<ipython-input-5-df243f72b073>:2: FutureWarning: The default value of regex will change from True to False in a future version.\n",
      "  filtered_poems[\"Content\"] = filtered_poems[\"Content\"].str.replace(r\"[^a-zA-Z]\", \" \").str.replace(r\"\\s+\", \" \")\n",
      "<ipython-input-5-df243f72b073>:2: SettingWithCopyWarning: \n",
      "A value is trying to be set on a copy of a slice from a DataFrame.\n",
      "Try using .loc[row_indexer,col_indexer] = value instead\n",
      "\n",
      "See the caveats in the documentation: https://pandas.pydata.org/pandas-docs/stable/user_guide/indexing.html#returning-a-view-versus-a-copy\n",
      "  filtered_poems[\"Content\"] = filtered_poems[\"Content\"].str.replace(r\"[^a-zA-Z]\", \" \").str.replace(r\"\\s+\", \" \")\n"
     ]
    }
   ],
   "source": [
    "# the second replace just removes repeated whitespaces\n",
    "filtered_poems[\"Content\"] = filtered_poems[\"Content\"].str.replace(r\"[^a-zA-Z]\", \" \").str.replace(r\"\\s+\", \" \")"
   ]
  },
  {
   "cell_type": "code",
   "execution_count": 6,
   "metadata": {},
   "outputs": [
    {
     "data": {
      "text/html": [
       "<div>\n",
       "<style scoped>\n",
       "    .dataframe tbody tr th:only-of-type {\n",
       "        vertical-align: middle;\n",
       "    }\n",
       "\n",
       "    .dataframe tbody tr th {\n",
       "        vertical-align: top;\n",
       "    }\n",
       "\n",
       "    .dataframe thead th {\n",
       "        text-align: right;\n",
       "    }\n",
       "</style>\n",
       "<table border=\"1\" class=\"dataframe\">\n",
       "  <thead>\n",
       "    <tr style=\"text-align: right;\">\n",
       "      <th></th>\n",
       "      <th>Author</th>\n",
       "      <th>Title</th>\n",
       "      <th>Poetry Foundation ID</th>\n",
       "      <th>Content</th>\n",
       "    </tr>\n",
       "  </thead>\n",
       "  <tbody>\n",
       "    <tr>\n",
       "      <th>1730</th>\n",
       "      <td>Alfred, Lord Tennyson</td>\n",
       "      <td>Break, Break, Break</td>\n",
       "      <td>45318</td>\n",
       "      <td>Break break break On thy cold gray stones O Se...</td>\n",
       "    </tr>\n",
       "    <tr>\n",
       "      <th>2134</th>\n",
       "      <td>Alfred, Lord Tennyson</td>\n",
       "      <td>The Charge of the Light Brigade</td>\n",
       "      <td>45319</td>\n",
       "      <td>I Half a league half a league Half a league on...</td>\n",
       "    </tr>\n",
       "    <tr>\n",
       "      <th>2315</th>\n",
       "      <td>Alfred, Lord Tennyson</td>\n",
       "      <td>Claribel</td>\n",
       "      <td>45320</td>\n",
       "      <td>Where Claribel low lieth The breezes pause and...</td>\n",
       "    </tr>\n",
       "    <tr>\n",
       "      <th>2687</th>\n",
       "      <td>Alfred, Lord Tennyson</td>\n",
       "      <td>Crossing the Bar\\n \\n \\n  \\n   Launch Audio in...</td>\n",
       "      <td>45321</td>\n",
       "      <td>Sunset and evening star And one clear call for...</td>\n",
       "    </tr>\n",
       "    <tr>\n",
       "      <th>3529</th>\n",
       "      <td>Alfred, Lord Tennyson</td>\n",
       "      <td>The Eagle</td>\n",
       "      <td>45322</td>\n",
       "      <td>He clasps the crag with crooked hands Close to...</td>\n",
       "    </tr>\n",
       "    <tr>\n",
       "      <th>5655</th>\n",
       "      <td>Alfred, Lord Tennyson</td>\n",
       "      <td>The Higher Pantheism</td>\n",
       "      <td>45323</td>\n",
       "      <td>The sun the moon the stars the seas the hills ...</td>\n",
       "    </tr>\n",
       "    <tr>\n",
       "      <th>6179</th>\n",
       "      <td>Alfred, Lord Tennyson</td>\n",
       "      <td>from\\n  \\n  Idylls of the King: Song from The ...</td>\n",
       "      <td>45326</td>\n",
       "      <td>Turn Fortune turn thy wheel and lower the prou...</td>\n",
       "    </tr>\n",
       "    <tr>\n",
       "      <th>6180</th>\n",
       "      <td>Alfred, Lord Tennyson</td>\n",
       "      <td>from\\n  \\n  Idylls of the King: The Last Tourn...</td>\n",
       "      <td>45324</td>\n",
       "      <td>Dagonet the fool whom Gawain in his mood Had m...</td>\n",
       "    </tr>\n",
       "    <tr>\n",
       "      <th>6181</th>\n",
       "      <td>Alfred, Lord Tennyson</td>\n",
       "      <td>from\\n  \\n  Idylls of the King: The Passing of...</td>\n",
       "      <td>45325</td>\n",
       "      <td>That story which the bold Sir Bedivere First m...</td>\n",
       "    </tr>\n",
       "    <tr>\n",
       "      <th>6351</th>\n",
       "      <td>Alfred, Lord Tennyson</td>\n",
       "      <td>In Memoriam A. H. H. OBIIT MDCCCXXXIII: 105</td>\n",
       "      <td>45351</td>\n",
       "      <td>To night ungather d let us leave This laurel l...</td>\n",
       "    </tr>\n",
       "  </tbody>\n",
       "</table>\n",
       "</div>"
      ],
      "text/plain": [
       "                     Author  \\\n",
       "1730  Alfred, Lord Tennyson   \n",
       "2134  Alfred, Lord Tennyson   \n",
       "2315  Alfred, Lord Tennyson   \n",
       "2687  Alfred, Lord Tennyson   \n",
       "3529  Alfred, Lord Tennyson   \n",
       "5655  Alfred, Lord Tennyson   \n",
       "6179  Alfred, Lord Tennyson   \n",
       "6180  Alfred, Lord Tennyson   \n",
       "6181  Alfred, Lord Tennyson   \n",
       "6351  Alfred, Lord Tennyson   \n",
       "\n",
       "                                                  Title  Poetry Foundation ID  \\\n",
       "1730                                Break, Break, Break                 45318   \n",
       "2134                    The Charge of the Light Brigade                 45319   \n",
       "2315                                           Claribel                 45320   \n",
       "2687  Crossing the Bar\\n \\n \\n  \\n   Launch Audio in...                 45321   \n",
       "3529                                          The Eagle                 45322   \n",
       "5655                               The Higher Pantheism                 45323   \n",
       "6179  from\\n  \\n  Idylls of the King: Song from The ...                 45326   \n",
       "6180  from\\n  \\n  Idylls of the King: The Last Tourn...                 45324   \n",
       "6181  from\\n  \\n  Idylls of the King: The Passing of...                 45325   \n",
       "6351        In Memoriam A. H. H. OBIIT MDCCCXXXIII: 105                 45351   \n",
       "\n",
       "                                                Content  \n",
       "1730  Break break break On thy cold gray stones O Se...  \n",
       "2134  I Half a league half a league Half a league on...  \n",
       "2315  Where Claribel low lieth The breezes pause and...  \n",
       "2687  Sunset and evening star And one clear call for...  \n",
       "3529  He clasps the crag with crooked hands Close to...  \n",
       "5655  The sun the moon the stars the seas the hills ...  \n",
       "6179  Turn Fortune turn thy wheel and lower the prou...  \n",
       "6180  Dagonet the fool whom Gawain in his mood Had m...  \n",
       "6181  That story which the bold Sir Bedivere First m...  \n",
       "6351  To night ungather d let us leave This laurel l...  "
      ]
     },
     "execution_count": 6,
     "metadata": {},
     "output_type": "execute_result"
    }
   ],
   "source": [
    "filtered_poems.head(10)"
   ]
  },
  {
   "cell_type": "markdown",
   "metadata": {
    "colab_type": "text",
    "id": "7Da4kVNeeKeV"
   },
   "source": [
    "Let's build a dataset of the poems. First, we will use the `Tokenizer` class from Tensorflow to preprocess the poems by performing the following steps:\n",
    "1. Break each poem into a sequence of characters, and\n",
    "2. Index the characters by numbers and map the character sequences."
   ]
  },
  {
   "cell_type": "markdown",
   "metadata": {},
   "source": [
    "We set the following parameters:\n",
    "- `char_level=True` to tokenize by characters and not words (which is the default), and \n",
    "- `lower=True` to put all characters to lower case."
   ]
  },
  {
   "cell_type": "code",
   "execution_count": 7,
   "metadata": {},
   "outputs": [],
   "source": [
    "tokenizer = Tokenizer(char_level=True, lower=True)\n",
    "tokenizer.fit_on_texts(filtered_poems['Content'])"
   ]
  },
  {
   "cell_type": "markdown",
   "metadata": {},
   "source": [
    "Now, we can extract the most important information from the tokenizer: the two dictionaries that map characters to numbers and numbers back to characters."
   ]
  },
  {
   "cell_type": "code",
   "execution_count": 8,
   "metadata": {},
   "outputs": [],
   "source": [
    "char_to_number = tokenizer.word_index\n",
    "number_to_char = tokenizer.index_word\n",
    "\n",
    "all_chars = list(char_to_number.keys())"
   ]
  },
  {
   "cell_type": "markdown",
   "metadata": {},
   "source": [
    "We can see below our characters and their assigned indices:"
   ]
  },
  {
   "cell_type": "code",
   "execution_count": 9,
   "metadata": {},
   "outputs": [
    {
     "data": {
      "text/plain": [
       "{' ': 1,\n",
       " 'e': 2,\n",
       " 't': 3,\n",
       " 'a': 4,\n",
       " 'o': 5,\n",
       " 'h': 6,\n",
       " 'n': 7,\n",
       " 'r': 8,\n",
       " 'i': 9,\n",
       " 's': 10,\n",
       " 'l': 11,\n",
       " 'd': 12,\n",
       " 'w': 13,\n",
       " 'm': 14,\n",
       " 'u': 15,\n",
       " 'f': 16,\n",
       " 'g': 17,\n",
       " 'y': 18,\n",
       " 'c': 19,\n",
       " 'b': 20,\n",
       " 'p': 21,\n",
       " 'k': 22,\n",
       " 'v': 23,\n",
       " 'q': 24,\n",
       " 'z': 25,\n",
       " 'x': 26,\n",
       " 'j': 27}"
      ]
     },
     "execution_count": 9,
     "metadata": {},
     "output_type": "execute_result"
    }
   ],
   "source": [
    "char_to_number"
   ]
  },
  {
   "cell_type": "markdown",
   "metadata": {},
   "source": [
    "The overall counts for each character is also stored and we can look at the top-10 most frequent ones:"
   ]
  },
  {
   "cell_type": "code",
   "execution_count": 11,
   "metadata": {},
   "outputs": [
    {
     "data": {
      "text/plain": [
       "OrderedDict([('b', 2261),\n",
       "             ('r', 8887),\n",
       "             ('e', 17594),\n",
       "             ('a', 11586),\n",
       "             ('k', 1394),\n",
       "             (' ', 35947),\n",
       "             ('o', 10804),\n",
       "             ('n', 9770),\n",
       "             ('t', 12762),\n",
       "             ('h', 10090),\n",
       "             ('y', 2626),\n",
       "             ('c', 2372),\n",
       "             ('l', 7432),\n",
       "             ('d', 6806),\n",
       "             ('g', 3168),\n",
       "             ('s', 8624),\n",
       "             ('i', 8730),\n",
       "             ('w', 4078),\n",
       "             ('u', 3451),\n",
       "             ('m', 4014),\n",
       "             ('f', 3256),\n",
       "             ('p', 1795),\n",
       "             ('v', 1282),\n",
       "             ('x', 68),\n",
       "             ('j', 61),\n",
       "             ('z', 94),\n",
       "             ('q', 103)])"
      ]
     },
     "execution_count": 11,
     "metadata": {},
     "output_type": "execute_result"
    }
   ],
   "source": [
    "tokenizer.word_counts"
   ]
  },
  {
   "cell_type": "code",
   "execution_count": 10,
   "metadata": {},
   "outputs": [
    {
     "data": {
      "image/png": "[encoded data removed]",
      "text/plain": [
       "<Figure size 432x288 with 1 Axes>"
      ]
     },
     "metadata": {
      "needs_background": "light"
     },
     "output_type": "display_data"
    }
   ],
   "source": [
    "character_frequency = pd.DataFrame(data=tokenizer.word_counts.items(), columns=[\"character\", \"count\"])\n",
    "character_frequency = character_frequency.sort_values(\"count\", ascending=False)\n",
    "\n",
    "character_frequency.set_index(\"character\").plot(kind=\"bar\", rot=0, title=\"Character count\");"
   ]
  },
  {
   "cell_type": "markdown",
   "metadata": {
    "colab_type": "text",
    "id": "2l4Zi5qYeKea"
   },
   "source": [
    "Finally, we can use the `texts_to_sequences` method of the tokenizer object to transform the raw text to sequences of indices:"
   ]
  },
  {
   "cell_type": "code",
   "execution_count": 12,
   "metadata": {},
   "outputs": [],
   "source": [
    "dataset = tokenizer.texts_to_sequences(filtered_poems[\"Content\"])"
   ]
  },
  {
   "cell_type": "code",
   "execution_count": 15,
   "metadata": {},
   "outputs": [
    {
     "data": {
      "text/plain": [
       "list"
      ]
     },
     "execution_count": 15,
     "metadata": {},
     "output_type": "execute_result"
    }
   ],
   "source": [
    "type(dataset)"
   ]
  },
  {
   "cell_type": "code",
   "execution_count": 13,
   "metadata": {
    "colab": {
     "base_uri": "https://localhost:8080/",
     "height": 54
    },
    "colab_type": "code",
    "id": "BxsK0AnneKeb",
    "outputId": "9d23fad1-bbfb-4e52-d7fb-611b825b24a4"
   },
   "outputs": [
    {
     "name": "stdout",
     "output_type": "stream",
     "text": [
      "[20, 8, 2, 4, 22, 1, 20, 8, 2, 4, 22, 1, 20, 8, 2, 4, 22, 1, 5, 7, 1, 3, 6, 18, 1, 19, 5, 11, 12, 1, 17, 8, 4, 18, 1, 10, 3, 5, 7, 2, 10, 1, 5, 1, 10, 2, 4, 1, 4, 7, 12, 1, 9, 1, 13, 5, 15, 11, 12, 1, 3, 6, 4, 3, 1, 14, 18, 1, 3, 5, 7, 17, 15, 2, 1, 19, 5, 15, 11, 12, 1, 15, 3, 3, 2, 8, 1, 3, 6, 2, 1, 3, 6, 5, 15, 17, 6, 3, 10, 1, 3, 6, 4, 3, 1, 4, 8, 9, 10, 2, 1, 9, 7, 1, 14, 2, 1, 5, 1, 13, 2, 11, 11, 1, 16, 5, 8, 1, 3, 6, 2, 1, 16, 9, 10, 6, 2, 8, 14, 4, 7, 1, 10, 1, 20, 5, 18, 1, 3, 6, 4, 3, 1, 6, 2, 1, 10, 6, 5, 15, 3, 10, 1, 13, 9, 3, 6, 1, 6, 9, 10, 1, 10, 9, 10, 3, 2, 8, 1, 4, 3, 1, 21, 11, 4, 18, 1, 5, 1, 13, 2, 11, 11, 1, 16, 5, 8, 1, 3, 6, 2, 1, 10, 4, 9, 11, 5, 8, 1, 11, 4, 12, 1, 3, 6, 4, 3, 1, 6, 2, 1, 10, 9, 7, 17, 10, 1, 9, 7, 1, 6, 9, 10, 1, 20, 5, 4, 3, 1, 5, 7, 1, 3, 6, 2, 1, 20, 4, 18, 1, 4, 7, 12, 1, 3, 6, 2, 1, 10, 3, 4, 3, 2, 11, 18, 1, 10, 6, 9, 21, 10, 1, 17, 5, 1, 5, 7, 1, 3, 5, 1, 3, 6, 2, 9, 8, 1, 6, 4, 23, 2, 7, 1, 15, 7, 12, 2, 8, 1, 3, 6, 2, 1, 6, 9, 11, 11, 1, 20, 15, 3, 1, 5, 1, 16, 5, 8, 1, 3, 6, 2, 1, 3, 5, 15, 19, 6, 1, 5, 16, 1, 4, 1, 23, 4, 7, 9, 10, 6, 1, 12, 1, 6, 4, 7, 12, 1, 4, 7, 12, 1, 3, 6, 2, 1, 10, 5, 15, 7, 12, 1, 5, 16, 1, 4, 1, 23, 5, 9, 19, 2, 1, 3, 6, 4, 3, 1, 9, 10, 1, 10, 3, 9, 11, 11, 1, 20, 8, 2, 4, 22, 1, 20, 8, 2, 4, 22, 1, 20, 8, 2, 4, 22, 1, 4, 3, 1, 3, 6, 2, 1, 16, 5, 5, 3, 1, 5, 16, 1, 3, 6, 18, 1, 19, 8, 4, 17, 10, 1, 5, 1, 10, 2, 4, 1, 20, 15, 3, 1, 3, 6, 2, 1, 3, 2, 7, 12, 2, 8, 1, 17, 8, 4, 19, 2, 1, 5, 16, 1, 4, 1, 12, 4, 18, 1, 3, 6, 4, 3, 1, 9, 10, 1, 12, 2, 4, 12, 1, 13, 9, 11, 11, 1, 7, 2, 23, 2, 8, 1, 19, 5, 14, 2, 1, 20, 4, 19, 22, 1, 3, 5, 1, 14, 2, 1]\n"
     ]
    }
   ],
   "source": [
    "# This is the first poem in our dataset, with its characters mapped to indices\n",
    "print(dataset[0])"
   ]
  },
  {
   "cell_type": "markdown",
   "metadata": {},
   "source": [
    "## Extracting windows for next-character prediction"
   ]
  },
  {
   "cell_type": "markdown",
   "metadata": {
    "colab_type": "text",
    "id": "3x-wT819eKed"
   },
   "source": [
    "Let's discuss what we have so far. We have a data collection where each element is a poem, split up into a list of characters and indexed by numbers. Our plan is build a model that will predict the next character based on previous ones. So, we want to transform this into a dataset $X$ and $y$, where each data point $x_i$ is a window of consecutive characters and $y_i$ is the next character immediately after the window.\n",
    "\n",
    "Suppose we decided on a sequence length of 10, and we explored the first poem:\n",
    "\n",
    "```\n",
    "Break, break, break,\n",
    "On thy cold gray stones, O Sea!\n",
    "And I would that my tongue could utter\n",
    "The thoughts that arise in me.\n",
    "\n",
    "O, well for the fisherman's boy,\n",
    "That he shouts with his sister at play!\n",
    "O, well for the sailor lad,\n",
    "That he sings in his boat on the bay!\n",
    "\n",
    "And the stately ships go on\n",
    "To their haven under the hill;\n",
    "But O for the touch of a vanish'd hand,\n",
    "And the sound of a voice that is still!\n",
    "\n",
    "Break, break, break\n",
    "At the foot of thy crags, O Sea!\n",
    "But the tender grace of a day that is dead\n",
    "Will never come back to me.\n",
    "```\n",
    "\n",
    "\n",
    "We would like our dataset to look like this:\n",
    "\n",
    "$x_0$: `Break, bre`<br>\n",
    "$y_0$: `a`\n",
    "\n",
    "$x_1$: `reak, brea`<br>\n",
    "$y_1$: `k`\n",
    "\n",
    "$x_2$: `eak, break`<br>\n",
    "$y_2$: `,`\n",
    "\n",
    "$\\vdots$\n",
    "\n",
    "\n",
    "<img src=\"http://drive.google.com/uc?export=view&id=14gfhWtJrASB3NBSnZnARSbLA6vjXcGkt\" height=400 width=600></img>\n"
   ]
  },
  {
   "cell_type": "markdown",
   "metadata": {},
   "source": [
    "The following code achieves exactly this:"
   ]
  },
  {
   "cell_type": "code",
   "execution_count": 16,
   "metadata": {},
   "outputs": [
    {
     "name": "stdout",
     "output_type": "stream",
     "text": [
      "(178275, 10)\n",
      "(178275,)\n"
     ]
    }
   ],
   "source": [
    "# sliding window\n",
    "SEQUENCE_LENGTH = 10\n",
    "\n",
    "X = []\n",
    "y = []\n",
    "\n",
    "for poem in dataset:\n",
    "    for window_start_idx in range(len(poem) - SEQUENCE_LENGTH):\n",
    "        window_end_idx = window_start_idx + SEQUENCE_LENGTH\n",
    "        X.append(poem[window_start_idx: window_end_idx]) # the end index is excluded\n",
    "        y.append(poem[window_end_idx])\n",
    "\n",
    "X = np.array(X)\n",
    "y = np.array(y)\n",
    "\n",
    "# Let's look at the shapes\n",
    "print(X.shape)\n",
    "print(y.shape)"
   ]
  },
  {
   "cell_type": "markdown",
   "metadata": {
    "colab_type": "text",
    "id": "rAu_F2LreKef"
   },
   "source": [
    "Let's inspect our $X$ and $y$:"
   ]
  },
  {
   "cell_type": "code",
   "execution_count": 17,
   "metadata": {
    "colab": {
     "base_uri": "https://localhost:8080/",
     "height": 272
    },
    "colab_type": "code",
    "id": "TPN9iOzPeKef",
    "outputId": "6cd15194-f932-4454-c2cb-1b18fd377ac7"
   },
   "outputs": [
    {
     "name": "stdout",
     "output_type": "stream",
     "text": [
      "X: [20  8  2  4 22  1 20  8  2  4]\n",
      "y: 22\n",
      "*******\n",
      "X: [ 8  2  4 22  1 20  8  2  4 22]\n",
      "y: 1\n",
      "*******\n",
      "X: [ 2  4 22  1 20  8  2  4 22  1]\n",
      "y: 20\n",
      "*******\n",
      "X: [ 4 22  1 20  8  2  4 22  1 20]\n",
      "y: 8\n",
      "*******\n",
      "X: [22  1 20  8  2  4 22  1 20  8]\n",
      "y: 2\n",
      "*******\n"
     ]
    }
   ],
   "source": [
    "for i in range(5):\n",
    "    print(\"X:\", X[i])\n",
    "    print(\"y:\", y[i])\n",
    "    print(\"*******\")"
   ]
  },
  {
   "cell_type": "markdown",
   "metadata": {},
   "source": [
    "As a sanity check, we can back-transform the indices to letters:"
   ]
  },
  {
   "cell_type": "code",
   "execution_count": 19,
   "metadata": {},
   "outputs": [
    {
     "data": {
      "text/plain": [
       "{1: ' ',\n",
       " 2: 'e',\n",
       " 3: 't',\n",
       " 4: 'a',\n",
       " 5: 'o',\n",
       " 6: 'h',\n",
       " 7: 'n',\n",
       " 8: 'r',\n",
       " 9: 'i',\n",
       " 10: 's',\n",
       " 11: 'l',\n",
       " 12: 'd',\n",
       " 13: 'w',\n",
       " 14: 'm',\n",
       " 15: 'u',\n",
       " 16: 'f',\n",
       " 17: 'g',\n",
       " 18: 'y',\n",
       " 19: 'c',\n",
       " 20: 'b',\n",
       " 21: 'p',\n",
       " 22: 'k',\n",
       " 23: 'v',\n",
       " 24: 'q',\n",
       " 25: 'z',\n",
       " 26: 'x',\n",
       " 27: 'j'}"
      ]
     },
     "execution_count": 19,
     "metadata": {},
     "output_type": "execute_result"
    }
   ],
   "source": [
    "number_to_char"
   ]
  },
  {
   "cell_type": "code",
   "execution_count": 18,
   "metadata": {},
   "outputs": [
    {
     "name": "stdout",
     "output_type": "stream",
     "text": [
      "X: ['b', 'r', 'e', 'a', 'k', ' ', 'b', 'r', 'e', 'a']\n",
      "y: k\n",
      "*******\n",
      "X: ['r', 'e', 'a', 'k', ' ', 'b', 'r', 'e', 'a', 'k']\n",
      "y:  \n",
      "*******\n",
      "X: ['e', 'a', 'k', ' ', 'b', 'r', 'e', 'a', 'k', ' ']\n",
      "y: b\n",
      "*******\n",
      "X: ['a', 'k', ' ', 'b', 'r', 'e', 'a', 'k', ' ', 'b']\n",
      "y: r\n",
      "*******\n",
      "X: ['k', ' ', 'b', 'r', 'e', 'a', 'k', ' ', 'b', 'r']\n",
      "y: e\n",
      "*******\n"
     ]
    }
   ],
   "source": [
    "for i in range(5):\n",
    "    print(\"X:\", [number_to_char[num] for num in X[i]])\n",
    "    print(\"y:\", number_to_char[y[i]])\n",
    "    print(\"*******\")"
   ]
  },
  {
   "cell_type": "markdown",
   "metadata": {
    "colab_type": "text",
    "id": "CqQ0xfBReKe3"
   },
   "source": [
    "## Train and Validation data\n",
    "\n",
    "We're going to split the data into train and validation sets. We don't need a test set here because we don't need a perfect unbiased estimate of how our model will perform on new data, (our unbiased estimate will come from using the trained model to generate some new poetry), but we'll use the validation set to monitor how the training is progressing."
   ]
  },
  {
   "cell_type": "code",
   "execution_count": 20,
   "metadata": {},
   "outputs": [],
   "source": [
    "from sklearn.model_selection import train_test_split\n",
    "\n",
    "# split train and validation set\n",
    "X_train, X_validation, y_train, y_validation = train_test_split(X, y, test_size=0.1)"
   ]
  },
  {
   "cell_type": "code",
   "execution_count": 21,
   "metadata": {
    "colab": {
     "base_uri": "https://localhost:8080/",
     "height": 51
    },
    "colab_type": "code",
    "id": "UCzHepoJBKZZ",
    "outputId": "4013056c-ff81-4702-e4e4-e16e11c22392"
   },
   "outputs": [
    {
     "name": "stdout",
     "output_type": "stream",
     "text": [
      "(160447, 10) (160447,)\n",
      "(17828, 10) (17828,)\n"
     ]
    }
   ],
   "source": [
    "print(X_train.shape, y_train.shape)      \n",
    "print(X_validation.shape, y_validation.shape)"
   ]
  },
  {
   "cell_type": "markdown",
   "metadata": {},
   "source": [
    "## Embedding layers "
   ]
  },
  {
   "cell_type": "markdown",
   "metadata": {},
   "source": [
    "Our data has the right shape but it would not be right to feed it into the model as is. Currently, we indexed the characters with numbers but this assignment was completely arbitrary. At the same time, the model would interpret characters with nearby index as similar. This is exactly why we generally use one-hot encoding for categorical features. That would be a legitimate approach here as well but if our vocabulary increases (the number of words in a language model could be tens of thousands), we would get incredibly high-dimensional vectors. \n",
    "\n",
    "The way to solve this issue is to use **embedding layers**. At initialization, these layers assign a random, relatively low dimensional vector to each possible index (we can specify this dimension). During training, the model adjusts these embeddings to increase its performance (the embedding layers are part of the calculation graph and the gradients are applied to them as well). This training often results in semantically similar or co-occurring words to be embedded close to one another. \n",
    "\n",
    "This is very much in line with the word2vec embeddings, but in that approach, the embeddings were trained without a downstream task in mind."
   ]
  },
  {
   "cell_type": "markdown",
   "metadata": {},
   "source": [
    "Let's see how the Tensorflow implementation works. One technical point here is that since our indexing started with 1, the number of classes for the embedding layer should be set to the number of characters plus 1."
   ]
  },
  {
   "cell_type": "code",
   "execution_count": 23,
   "metadata": {},
   "outputs": [
    {
     "data": {
      "text/plain": [
       "27"
      ]
     },
     "execution_count": 23,
     "metadata": {},
     "output_type": "execute_result"
    }
   ],
   "source": [
    "len(all_chars)"
   ]
  },
  {
   "cell_type": "code",
   "execution_count": 24,
   "metadata": {},
   "outputs": [],
   "source": [
    "number_of_classes = len(all_chars) + 1\n",
    "embedding_dim = 8\n",
    "\n",
    "# initilize an embedding layer\n",
    "embedding_layer = Embedding(number_of_classes, embedding_dim) "
   ]
  },
  {
   "cell_type": "code",
   "execution_count": 25,
   "metadata": {},
   "outputs": [
    {
     "data": {
      "text/plain": [
       "array([[ 0.01551617, -0.01966232, -0.03789505,  0.0008893 , -0.04292092,\n",
       "         0.03658109, -0.04914879, -0.02239692],\n",
       "       [-0.00492259,  0.00474475, -0.03494497,  0.01508318, -0.04864854,\n",
       "        -0.01601704,  0.04145798,  0.00952359],\n",
       "       [-0.02427198,  0.00406216, -0.00252848, -0.00853717, -0.03563342,\n",
       "        -0.04874552,  0.03407706,  0.02646865],\n",
       "       [ 0.03738865,  0.04668211,  0.0065821 , -0.01659461, -0.01743435,\n",
       "        -0.02325444,  0.03395357, -0.01447071],\n",
       "       [ 0.02251546, -0.03239582, -0.04963985,  0.03639008,  0.04671391,\n",
       "         0.03100146,  0.00743444,  0.02748274],\n",
       "       [ 0.04605336, -0.04110245,  0.01816833, -0.04100791,  0.01551224,\n",
       "        -0.00498058, -0.01452203,  0.02443281],\n",
       "       [ 0.01551617, -0.01966232, -0.03789505,  0.0008893 , -0.04292092,\n",
       "         0.03658109, -0.04914879, -0.02239692],\n",
       "       [-0.00492259,  0.00474475, -0.03494497,  0.01508318, -0.04864854,\n",
       "        -0.01601704,  0.04145798,  0.00952359],\n",
       "       [-0.02427198,  0.00406216, -0.00252848, -0.00853717, -0.03563342,\n",
       "        -0.04874552,  0.03407706,  0.02646865],\n",
       "       [ 0.03738865,  0.04668211,  0.0065821 , -0.01659461, -0.01743435,\n",
       "        -0.02325444,  0.03395357, -0.01447071]], dtype=float32)"
      ]
     },
     "execution_count": 25,
     "metadata": {},
     "output_type": "execute_result"
    }
   ],
   "source": [
    "one_window = X[0] # shape: (10) \n",
    "\n",
    "embedding_layer(one_window).numpy() # shape: (10, embedding_dim)"
   ]
  },
  {
   "cell_type": "code",
   "execution_count": 26,
   "metadata": {},
   "outputs": [
    {
     "data": {
      "text/plain": [
       "array([20,  8,  2,  4, 22,  1, 20,  8,  2,  4])"
      ]
     },
     "execution_count": 26,
     "metadata": {},
     "output_type": "execute_result"
    }
   ],
   "source": [
    "one_window"
   ]
  },
  {
   "cell_type": "markdown",
   "metadata": {},
   "source": [
    "We specified 8-dimensional embeddings so these are hard to visualize but we can apply PCA to reduce them to two dimensions and plot them:"
   ]
  },
  {
   "cell_type": "code",
   "execution_count": 27,
   "metadata": {},
   "outputs": [
    {
     "data": {
      "text/plain": [
       "array([ 0,  1,  2,  3,  4,  5,  6,  7,  8,  9, 10, 11, 12, 13, 14, 15, 16,\n",
       "       17, 18, 19, 20, 21, 22, 23, 24, 25, 26, 27])"
      ]
     },
     "execution_count": 27,
     "metadata": {},
     "output_type": "execute_result"
    }
   ],
   "source": [
    "np.arange(number_of_classes)"
   ]
  },
  {
   "cell_type": "code",
   "execution_count": 28,
   "metadata": {},
   "outputs": [],
   "source": [
    "from sklearn.decomposition import PCA\n",
    "\n",
    "all_embeddings = embedding_layer(np.arange(number_of_classes))\n",
    "\n",
    "pca = PCA(n_components=2)\n",
    "\n",
    "all_embeddings_2d = pca.fit_transform(all_embeddings)"
   ]
  },
  {
   "cell_type": "code",
   "execution_count": 29,
   "metadata": {},
   "outputs": [
    {
     "data": {
      "image/png": "[encoded data removed]",
      "text/plain": [
       "<Figure size 720x720 with 1 Axes>"
      ]
     },
     "metadata": {
      "needs_background": "light"
     },
     "output_type": "display_data"
    }
   ],
   "source": [
    "plt.figure(figsize=(10, 10))\n",
    "\n",
    "# plot the PCA components\n",
    "plt.scatter(all_embeddings_2d[:, 0], all_embeddings_2d[:, 1], alpha=0.1)\n",
    "\n",
    "# add characters to the plot\n",
    "for num, char in number_to_char.items():\n",
    "    plt.text(all_embeddings_2d[num, 0], all_embeddings_2d[num, 1], char, fontsize=14)\n",
    "\n",
    "plt.title(\"Untrained character embeddings after PCA\")\n",
    "plt.show()"
   ]
  },
  {
   "cell_type": "markdown",
   "metadata": {},
   "source": [
    "As expected, the untrained embeddings look rather random."
   ]
  },
  {
   "cell_type": "markdown",
   "metadata": {},
   "source": [
    "## Single-layer RNN"
   ]
  },
  {
   "cell_type": "markdown",
   "metadata": {},
   "source": [
    "Our character-level language model will consist of: \n",
    "- an embedding layer that produces 8-dimensional character-vectors,\n",
    "- a single LSTM layer with 128 units,\n",
    "- a dense hidden layer with 64 units, and\n",
    "- an output layer.\n",
    "\n",
    "The model will aim to predict the next character based on the input, so the final layer should return probabilities over the possible characters (hence the softmax activation). The LSTM and dense layers are followed by batch normalization layers that help the learning process."
   ]
  },
  {
   "cell_type": "code",
   "execution_count": 30,
   "metadata": {},
   "outputs": [
    {
     "data": {
      "text/plain": [
       "28"
      ]
     },
     "execution_count": 30,
     "metadata": {},
     "output_type": "execute_result"
    }
   ],
   "source": [
    "number_of_classes"
   ]
  },
  {
   "cell_type": "code",
   "execution_count": 31,
   "metadata": {},
   "outputs": [],
   "source": [
    "RNN_charlevel = Sequential()\n",
    "RNN_charlevel.add(Embedding(number_of_classes, 8))\n",
    "\n",
    "RNN_charlevel.add(LSTM(128, activation='relu', return_sequences=False)) # no need for internal states and outputs\n",
    "RNN_charlevel.add(BatchNormalization())\n",
    "\n",
    "RNN_charlevel.add(Dense(64, activation='relu'))\n",
    "RNN_charlevel.add(BatchNormalization())\n",
    "\n",
    "RNN_charlevel.add(Dense(number_of_classes, activation='softmax')) # output layer"
   ]
  },
  {
   "cell_type": "code",
   "execution_count": 32,
   "metadata": {
    "colab": {},
    "colab_type": "code",
    "id": "rv_npeAPBKZ9"
   },
   "outputs": [],
   "source": [
    "# Compile model\n",
    "RNN_charlevel.compile(\n",
    "    loss='sparse_categorical_crossentropy', # classification\n",
    "    optimizer=Adam(lr=0.001),\n",
    "    metrics=['accuracy']\n",
    ")"
   ]
  },
  {
   "cell_type": "code",
   "execution_count": 33,
   "metadata": {
    "colab": {
     "base_uri": "https://localhost:8080/",
     "height": 1000
    },
    "colab_type": "code",
    "id": "EFtVheveBKZ-",
    "outputId": "c0fa989e-b6eb-4292-8e28-34bf91962cbd"
   },
   "outputs": [
    {
     "name": "stdout",
     "output_type": "stream",
     "text": [
      "Model: \"sequential\"\n",
      "_________________________________________________________________\n",
      "Layer (type)                 Output Shape              Param #   \n",
      "=================================================================\n",
      "embedding_1 (Embedding)      (None, None, 8)           224       \n",
      "_________________________________________________________________\n",
      "lstm (LSTM)                  (None, 128)               70144     \n",
      "_________________________________________________________________\n",
      "batch_normalization (BatchNo (None, 128)               512       \n",
      "_________________________________________________________________\n",
      "dense (Dense)                (None, 64)                8256      \n",
      "_________________________________________________________________\n",
      "batch_normalization_1 (Batch (None, 64)                256       \n",
      "_________________________________________________________________\n",
      "dense_1 (Dense)              (None, 28)                1820      \n",
      "=================================================================\n",
      "Total params: 81,212\n",
      "Trainable params: 80,828\n",
      "Non-trainable params: 384\n",
      "_________________________________________________________________\n"
     ]
    }
   ],
   "source": [
    "# Display its summary\n",
    "RNN_charlevel.summary()"
   ]
  },
  {
   "cell_type": "code",
   "execution_count": 34,
   "metadata": {},
   "outputs": [
    {
     "name": "stdout",
     "output_type": "stream",
     "text": [
      "Epoch 1/20\n",
      "157/157 [==============================] - 13s 85ms/step - loss: 2.4083 - accuracy: 0.3341 - val_loss: 3.0363 - val_accuracy: 0.0697\n",
      "Epoch 2/20\n",
      "157/157 [==============================] - 13s 85ms/step - loss: 2.0378 - accuracy: 0.3916 - val_loss: 2.9081 - val_accuracy: 0.1010\n",
      "Epoch 3/20\n",
      "157/157 [==============================] - 14s 87ms/step - loss: 1.9377 - accuracy: 0.4131 - val_loss: 2.6227 - val_accuracy: 0.1998\n",
      "Epoch 4/20\n",
      "157/157 [==============================] - 14s 89ms/step - loss: 1.8841 - accuracy: 0.4266 - val_loss: 2.2099 - val_accuracy: 0.3395\n",
      "Epoch 5/20\n",
      "157/157 [==============================] - 14s 91ms/step - loss: 1.8454 - accuracy: 0.4348 - val_loss: 1.9777 - val_accuracy: 0.3972\n",
      "Epoch 6/20\n",
      "157/157 [==============================] - 16s 99ms/step - loss: 1.8179 - accuracy: 0.4433 - val_loss: 2.1155 - val_accuracy: 0.3337\n",
      "Epoch 7/20\n",
      "157/157 [==============================] - 20s 124ms/step - loss: 1.7936 - accuracy: 0.4480 - val_loss: 1.9384 - val_accuracy: 0.4060\n",
      "Epoch 8/20\n",
      "157/157 [==============================] - 20s 129ms/step - loss: 1.7710 - accuracy: 0.4540 - val_loss: 2.0568 - val_accuracy: 0.3877\n",
      "Epoch 9/20\n",
      "157/157 [==============================] - 19s 119ms/step - loss: 1.7531 - accuracy: 0.4592 - val_loss: 1.8475 - val_accuracy: 0.4382\n",
      "Epoch 10/20\n",
      "157/157 [==============================] - 17s 107ms/step - loss: 1.7371 - accuracy: 0.4630 - val_loss: 1.8505 - val_accuracy: 0.4385\n",
      "Epoch 11/20\n",
      "157/157 [==============================] - 15s 99ms/step - loss: 1.7224 - accuracy: 0.4674 - val_loss: 1.8607 - val_accuracy: 0.4313\n",
      "Epoch 12/20\n",
      "157/157 [==============================] - 15s 97ms/step - loss: 1.7094 - accuracy: 0.4711 - val_loss: 1.8301 - val_accuracy: 0.4386\n",
      "Epoch 13/20\n",
      "157/157 [==============================] - 17s 107ms/step - loss: 1.6972 - accuracy: 0.4746 - val_loss: 1.7818 - val_accuracy: 0.4487\n",
      "Epoch 14/20\n",
      "157/157 [==============================] - 15s 94ms/step - loss: 1.6855 - accuracy: 0.4775 - val_loss: 1.8212 - val_accuracy: 0.4462\n",
      "Epoch 15/20\n",
      "157/157 [==============================] - 16s 99ms/step - loss: 1.6753 - accuracy: 0.4801 - val_loss: 1.7814 - val_accuracy: 0.4536\n",
      "Epoch 16/20\n",
      "157/157 [==============================] - 15s 93ms/step - loss: 1.6665 - accuracy: 0.4831 - val_loss: 1.7658 - val_accuracy: 0.4504\n",
      "Epoch 17/20\n",
      "157/157 [==============================] - 15s 93ms/step - loss: 1.6564 - accuracy: 0.4863 - val_loss: 1.7363 - val_accuracy: 0.4633\n",
      "Epoch 18/20\n",
      "157/157 [==============================] - 15s 93ms/step - loss: 1.6473 - accuracy: 0.4887 - val_loss: 1.7178 - val_accuracy: 0.4722\n",
      "Epoch 19/20\n",
      "157/157 [==============================] - 14s 90ms/step - loss: 1.6385 - accuracy: 0.4917 - val_loss: 1.7698 - val_accuracy: 0.4567\n",
      "Epoch 20/20\n",
      "157/157 [==============================] - 14s 90ms/step - loss: 1.6311 - accuracy: 0.4938 - val_loss: 1.7305 - val_accuracy: 0.4684\n"
     ]
    }
   ],
   "source": [
    "history = RNN_charlevel.fit(X_train, y_train,\n",
    "        batch_size=1024,\n",
    "        epochs=20,\n",
    "        validation_data=(X_validation, y_validation))"
   ]
  },
  {
   "cell_type": "markdown",
   "metadata": {},
   "source": [
    "Looking at the training metrics, we see that the validation and training loss decrease in parallel (so we are not overfitting), and at the end of the 20th epoch, we achieve around 50% accuracy. "
   ]
  },
  {
   "cell_type": "code",
   "execution_count": 35,
   "metadata": {},
   "outputs": [
    {
     "data": {
      "image/png": "[encoded data removed]",
      "text/plain": [
       "<Figure size 1080x360 with 2 Axes>"
      ]
     },
     "metadata": {
      "needs_background": "light"
     },
     "output_type": "display_data"
    }
   ],
   "source": [
    "epochs = range(1, 21)\n",
    "\n",
    "plt.figure(figsize=(15, 5))\n",
    "plt.subplot(1, 2, 1)\n",
    "plt.plot(epochs, history.history[\"accuracy\"], label=\"training\", marker=\"o\")\n",
    "plt.plot(epochs, history.history[\"val_accuracy\"], label=\"validation\", marker=\"o\")\n",
    "plt.xlabel(\"Epochs\")\n",
    "plt.xticks(epochs)\n",
    "plt.ylabel(\"Accuracy\")\n",
    "plt.legend()\n",
    "\n",
    "plt.subplot(1, 2, 2)\n",
    "plt.plot(epochs, history.history[\"loss\"], label=\"training\", marker=\"o\")\n",
    "plt.plot(epochs, history.history[\"val_loss\"], label=\"validation\", marker=\"o\")\n",
    "plt.xlabel(\"Epochs\")\n",
    "plt.xticks(epochs)\n",
    "plt.ylabel(\"Loss\")\n",
    "plt.legend()\n",
    "plt.show()"
   ]
  },
  {
   "cell_type": "markdown",
   "metadata": {},
   "source": [
    "Since we are more interested in realistic text generation rather than accuracy, we shall examine that next. We will _seed_ the model with a sentence and extend that character-by-character. To do that, we feed the last ten characters of the current text into the model and sample the next character using the probabilities that the model outputs. We repeat this process 200 times, extending the seed-text with 200 new characters."
   ]
  },
  {
   "cell_type": "code",
   "execution_count": 37,
   "metadata": {
    "colab": {},
    "colab_type": "code",
    "id": "DzKM0HKOBKaC"
   },
   "outputs": [
    {
     "name": "stdout",
     "output_type": "stream",
     "text": [
      "to be or not to beating be whine shade we ray sight the rong the gore of isleys he darrights and vicrom but tuist d breanhor and aft and her rone any they my mying freed eng ripress and limb about encine moinn theirl s\n"
     ]
    }
   ],
   "source": [
    "input_phrase = [\"To be or not to be.\"]\n",
    "\n",
    "# process for the model\n",
    "processed_phrase = tokenizer.texts_to_sequences(input_phrase)[0]\n",
    "\n",
    "for i in range(200):\n",
    "    # extract last 10 characters\n",
    "    network_input = np.array(processed_phrase[-SEQUENCE_LENGTH:], dtype=np.float32)\n",
    "    network_input = network_input.reshape((1, SEQUENCE_LENGTH)) # shape: 1 x 10\n",
    "\n",
    "    # the RNN gives the probability of each character as the next one\n",
    "    predict_proba = RNN_charlevel.predict(network_input)[0]\n",
    "    \n",
    "    # sample the characters using these chances\n",
    "    predicted_index = np.random.choice(number_of_classes, 1, p=predict_proba)[0]\n",
    "\n",
    "    # add new index at the end of our list\n",
    "    processed_phrase.append(predicted_index)\n",
    "    \n",
    "    # progress indicator\n",
    "    print(i, end=\"\\r\")\n",
    "\n",
    "# map indices to characters and join into single string\n",
    "output_phrase = \"\".join([number_to_char.get(number, \"\") for number in processed_phrase])    \n",
    "\n",
    "print(output_phrase)\n",
    "\n"
   ]
  },
  {
   "cell_type": "markdown",
   "metadata": {},
   "source": [
    "If you rerun the cell, you will see that the output varies. Overall the model managed to produce words that look fairly close to English, with a few shorter words which are actually proper English terms."
   ]
  },
  {
   "cell_type": "markdown",
   "metadata": {},
   "source": [
    "---\n",
    "\n",
    "#### Exercise 1\n",
    "\n",
    "We can check now how the trained embeddings look for each character. As before, we use PCA to reduce the 8-dimensional vectors to 2 dimensions before plotting. Your task is to extract the trained embedding layer from the RNN model."
   ]
  },
  {
   "cell_type": "code",
   "execution_count": 39,
   "metadata": {},
   "outputs": [
    {
     "data": {
      "text/plain": [
       "<tensorflow.python.keras.layers.embeddings.Embedding at 0x7fc2b8affaf0>"
      ]
     },
     "execution_count": 39,
     "metadata": {},
     "output_type": "execute_result"
    }
   ],
   "source": [
    "RNN_charlevel.layers[0]"
   ]
  },
  {
   "cell_type": "code",
   "execution_count": 40,
   "metadata": {},
   "outputs": [],
   "source": [
    "trained_embedding_layer = RNN_charlevel.layers[0]\n",
    "\n",
    "all_embeddings = trained_embedding_layer(np.arange(number_of_classes))\n",
    "\n",
    "pca = PCA(n_components=2)\n",
    "\n",
    "all_embeddings_2d = pca.fit_transform(all_embeddings)"
   ]
  },
  {
   "cell_type": "code",
   "execution_count": 41,
   "metadata": {},
   "outputs": [
    {
     "data": {
      "image/png": "[encoded data removed]",
      "text/plain": [
       "<Figure size 720x720 with 1 Axes>"
      ]
     },
     "metadata": {
      "needs_background": "light"
     },
     "output_type": "display_data"
    }
   ],
   "source": [
    "plt.figure(figsize=(10, 10))\n",
    "\n",
    "plt.scatter(all_embeddings_2d[:, 0], all_embeddings_2d[:, 1], alpha=0.1)\n",
    "for num, char in number_to_char.items():\n",
    "    plt.text(all_embeddings_2d[num, 0], all_embeddings_2d[num, 1], char, fontsize=14)\n",
    "\n",
    "plt.title(\"Trained character embeddings after PCA\")\n",
    "plt.show()"
   ]
  },
  {
   "cell_type": "markdown",
   "metadata": {},
   "source": [
    "- What can you say from looking at the results? \n",
    "- What are the points without labels?\n",
    "\n",
    "---"
   ]
  },
  {
   "cell_type": "markdown",
   "metadata": {},
   "source": [
    "## Word-level text generation "
   ]
  },
  {
   "cell_type": "markdown",
   "metadata": {},
   "source": [
    "Next, we shall repeat a similar process but now feeding in the text word-by-word. This means that our vocabulary will be much bigger but our model will at least output proper English words. To do this, we set `char_level=False` when initializing the tokenizer."
   ]
  },
  {
   "cell_type": "code",
   "execution_count": 42,
   "metadata": {},
   "outputs": [],
   "source": [
    "# Note: char_level is False now\n",
    "tokenizer = Tokenizer(char_level=False, lower=True) \n",
    "tokenizer.fit_on_texts(filtered_poems['Content'])"
   ]
  },
  {
   "cell_type": "code",
   "execution_count": 43,
   "metadata": {},
   "outputs": [
    {
     "name": "stdout",
     "output_type": "stream",
     "text": [
      "Vocabulary size: 4854\n"
     ]
    }
   ],
   "source": [
    "word_to_number = tokenizer.word_index\n",
    "number_to_word = tokenizer.index_word\n",
    "\n",
    "all_words = list(word_to_number.keys())\n",
    "\n",
    "print(f\"Vocabulary size: {len(all_words)}\")"
   ]
  },
  {
   "cell_type": "code",
   "execution_count": 44,
   "metadata": {},
   "outputs": [
    {
     "data": {
      "text/plain": [
       "{'the': 1,\n",
       " 'and': 2,\n",
       " 'of': 3,\n",
       " 'to': 4,\n",
       " 'a': 5,\n",
       " 'in': 6,\n",
       " 'd': 7,\n",
       " 'i': 8,\n",
       " 'that': 9,\n",
       " 'with': 10,\n",
       " 'my': 11,\n",
       " 'is': 12,\n",
       " 'but': 13,\n",
       " 'for': 14,\n",
       " 'all': 15,\n",
       " 'from': 16,\n",
       " 'me': 17,\n",
       " 'her': 18,\n",
       " 'his': 19,\n",
       " 'on': 20,\n",
       " 'as': 21,\n",
       " 'he': 22,\n",
       " 'not': 23,\n",
       " 'it': 24,\n",
       " 'thou': 25,\n",
       " 'she': 26,\n",
       " 'thy': 27,\n",
       " 'o': 28,\n",
       " 's': 29,\n",
       " 'by': 30,\n",
       " 'an': 31,\n",
       " 'be': 32,\n",
       " 'thee': 33,\n",
       " 'we': 34,\n",
       " 'so': 35,\n",
       " 'at': 36,\n",
       " 'him': 37,\n",
       " 'or': 38,\n",
       " 'one': 39,\n",
       " 'was': 40,\n",
       " 'they': 41,\n",
       " 'like': 42,\n",
       " 'king': 43,\n",
       " 'thro': 44,\n",
       " 'then': 45,\n",
       " 'what': 46,\n",
       " 'this': 47,\n",
       " 'are': 48,\n",
       " 'when': 49,\n",
       " 'have': 50,\n",
       " 'love': 51,\n",
       " 'more': 52,\n",
       " 'down': 53,\n",
       " 'no': 54,\n",
       " 'out': 55,\n",
       " 'will': 56,\n",
       " 'there': 57,\n",
       " 'night': 58,\n",
       " 'light': 59,\n",
       " 'than': 60,\n",
       " 'our': 61,\n",
       " 'their': 62,\n",
       " 'day': 63,\n",
       " 'were': 64,\n",
       " 'which': 65,\n",
       " 'long': 66,\n",
       " 'n': 67,\n",
       " 'upon': 68,\n",
       " 'arthur': 69,\n",
       " 'had': 70,\n",
       " 'yet': 71,\n",
       " 'them': 72,\n",
       " 'where': 73,\n",
       " 'made': 74,\n",
       " 'who': 75,\n",
       " 'now': 76,\n",
       " 'heart': 77,\n",
       " 'nor': 78,\n",
       " 'man': 79,\n",
       " 'dark': 80,\n",
       " 'sir': 81,\n",
       " 'ever': 82,\n",
       " 'eyes': 83,\n",
       " 'die': 84,\n",
       " 'round': 85,\n",
       " 'may': 86,\n",
       " 'see': 87,\n",
       " 'if': 88,\n",
       " 'some': 89,\n",
       " 'time': 90,\n",
       " 'far': 91,\n",
       " 'life': 92,\n",
       " 'dead': 93,\n",
       " 'world': 94,\n",
       " 'heard': 95,\n",
       " 'white': 96,\n",
       " 'into': 97,\n",
       " 'came': 98,\n",
       " 'let': 99,\n",
       " 'deep': 100,\n",
       " 'sweet': 101,\n",
       " 'should': 102,\n",
       " 'would': 103,\n",
       " 'death': 104,\n",
       " 'before': 105,\n",
       " 'men': 106,\n",
       " 'shall': 107,\n",
       " 'many': 108,\n",
       " 'alone': 109,\n",
       " 'am': 110,\n",
       " 'little': 111,\n",
       " 'camelot': 112,\n",
       " 'come': 113,\n",
       " 'again': 114,\n",
       " 'great': 115,\n",
       " 'fall': 116,\n",
       " 'old': 117,\n",
       " 'rose': 118,\n",
       " 'up': 119,\n",
       " 'golden': 120,\n",
       " 'left': 121,\n",
       " 'about': 122,\n",
       " 'god': 123,\n",
       " 'hear': 124,\n",
       " 'said': 125,\n",
       " 'last': 126,\n",
       " 'whom': 127,\n",
       " 'here': 128,\n",
       " 'over': 129,\n",
       " 'shalott': 130,\n",
       " 'half': 131,\n",
       " 'make': 132,\n",
       " 'while': 133,\n",
       " 'tristram': 134,\n",
       " 'wind': 135,\n",
       " 'till': 136,\n",
       " 'hath': 137,\n",
       " 'ere': 138,\n",
       " 'us': 139,\n",
       " 'well': 140,\n",
       " 'hand': 141,\n",
       " 'wild': 142,\n",
       " 'moon': 143,\n",
       " 'voice': 144,\n",
       " 'earth': 145,\n",
       " 'own': 146,\n",
       " 'thine': 147,\n",
       " 'those': 148,\n",
       " 'mine': 149,\n",
       " 'answer': 150,\n",
       " 'sea': 151,\n",
       " 'go': 152,\n",
       " 'place': 153,\n",
       " 'queen': 154,\n",
       " 'rest': 155,\n",
       " 'slowly': 156,\n",
       " 'good': 157,\n",
       " 'bedivere': 158,\n",
       " 'never': 159,\n",
       " 'once': 160,\n",
       " 'lady': 161,\n",
       " 'mother': 162,\n",
       " 'these': 163,\n",
       " 'tho': 164,\n",
       " 'hands': 165,\n",
       " 'ring': 166,\n",
       " 'fool': 167,\n",
       " 'seem': 168,\n",
       " 'away': 169,\n",
       " 'within': 170,\n",
       " 'ye': 171,\n",
       " 'loved': 172,\n",
       " 'look': 173,\n",
       " 'knights': 174,\n",
       " 'pass': 175,\n",
       " 'saw': 176,\n",
       " 'land': 177,\n",
       " 'low': 178,\n",
       " 'live': 179,\n",
       " 'knight': 180,\n",
       " 'er': 181,\n",
       " 'happy': 182,\n",
       " 'music': 183,\n",
       " 'mark': 184,\n",
       " 'how': 185,\n",
       " 'still': 186,\n",
       " 'soul': 187,\n",
       " 'among': 188,\n",
       " 'lord': 189,\n",
       " 'days': 190,\n",
       " 'dear': 191,\n",
       " 'rode': 192,\n",
       " 'face': 193,\n",
       " 'heaven': 194,\n",
       " 'you': 195,\n",
       " 'new': 196,\n",
       " 'ay': 197,\n",
       " 'did': 198,\n",
       " 'sleep': 199,\n",
       " 'tears': 200,\n",
       " 'comes': 201,\n",
       " 'why': 202,\n",
       " 'star': 203,\n",
       " 'full': 204,\n",
       " 'true': 205,\n",
       " 'turn': 206,\n",
       " 'red': 207,\n",
       " 'water': 208,\n",
       " 'every': 209,\n",
       " 'dying': 210,\n",
       " 'things': 211,\n",
       " 'ida': 212,\n",
       " 'can': 213,\n",
       " 'too': 214,\n",
       " 'sun': 215,\n",
       " 'hast': 216,\n",
       " 'cloud': 217,\n",
       " 'river': 218,\n",
       " 'tower': 219,\n",
       " 'name': 220,\n",
       " 'years': 221,\n",
       " 'do': 222,\n",
       " 'right': 223,\n",
       " 'black': 224,\n",
       " 'morn': 225,\n",
       " 'other': 226,\n",
       " 'went': 227,\n",
       " 'late': 228,\n",
       " 'blood': 229,\n",
       " 'know': 230,\n",
       " 'bold': 231,\n",
       " 'cold': 232,\n",
       " 'back': 233,\n",
       " 'power': 234,\n",
       " 'lancelot': 235,\n",
       " 'past': 236,\n",
       " 'field': 237,\n",
       " 'dream': 238,\n",
       " 'spake': 239,\n",
       " 'any': 240,\n",
       " 'shadow': 241,\n",
       " 'himself': 242,\n",
       " 'done': 243,\n",
       " 'nature': 244,\n",
       " 'fell': 245,\n",
       " 'call': 246,\n",
       " 'feet': 247,\n",
       " 'silent': 248,\n",
       " 'stood': 249,\n",
       " 'gold': 250,\n",
       " 'against': 251,\n",
       " 'e': 252,\n",
       " 'proputty': 253,\n",
       " 'touch': 254,\n",
       " 'song': 255,\n",
       " 'after': 256,\n",
       " 'beneath': 257,\n",
       " 'stars': 258,\n",
       " 'art': 259,\n",
       " 'broken': 260,\n",
       " 'spirit': 261,\n",
       " 'high': 262,\n",
       " 'saying': 263,\n",
       " 'child': 264,\n",
       " 'head': 265,\n",
       " 'fair': 266,\n",
       " 'summer': 267,\n",
       " 'blue': 268,\n",
       " 'along': 269,\n",
       " 'three': 270,\n",
       " 'could': 271,\n",
       " 'hills': 272,\n",
       " 'say': 273,\n",
       " 'tell': 274,\n",
       " 'excalibur': 275,\n",
       " 'your': 276,\n",
       " 'fear': 277,\n",
       " 'roll': 278,\n",
       " 'isolt': 279,\n",
       " 'first': 280,\n",
       " 'mind': 281,\n",
       " 'valley': 282,\n",
       " 'hollow': 283,\n",
       " 'such': 284,\n",
       " 'speak': 285,\n",
       " 'hour': 286,\n",
       " 'only': 287,\n",
       " 'pure': 288,\n",
       " 'fire': 289,\n",
       " 'harken': 290,\n",
       " 'thought': 291,\n",
       " 'lightly': 292,\n",
       " 'dim': 293,\n",
       " 'noble': 294,\n",
       " 'clear': 295,\n",
       " 'eye': 296,\n",
       " 'woods': 297,\n",
       " 'crown': 298,\n",
       " 'cry': 299,\n",
       " 'side': 300,\n",
       " 'off': 301,\n",
       " 'flower': 302,\n",
       " 'shore': 303,\n",
       " 'watch': 304,\n",
       " 'silver': 305,\n",
       " 'dry': 306,\n",
       " 'year': 307,\n",
       " 'friend': 308,\n",
       " 'end': 309,\n",
       " 'lake': 310,\n",
       " 'both': 311,\n",
       " 'stream': 312,\n",
       " 'way': 313,\n",
       " 'lips': 314,\n",
       " 'seen': 315,\n",
       " 'doubt': 316,\n",
       " 'yonder': 317,\n",
       " 'under': 318,\n",
       " 'knew': 319,\n",
       " 'honour': 320,\n",
       " 'without': 321,\n",
       " 'meet': 322,\n",
       " 'hall': 323,\n",
       " 'arms': 324,\n",
       " 'take': 325,\n",
       " 'arm': 326,\n",
       " 'lost': 327,\n",
       " 'morning': 328,\n",
       " 'pain': 329,\n",
       " 'faith': 330,\n",
       " 'much': 331,\n",
       " 'free': 332,\n",
       " 'find': 333,\n",
       " 'blow': 334,\n",
       " 'ah': 335,\n",
       " 'sky': 336,\n",
       " 'sang': 337,\n",
       " 'house': 338,\n",
       " 'beat': 339,\n",
       " 'prime': 340,\n",
       " 'ma': 341,\n",
       " 'sound': 342,\n",
       " 'drew': 343,\n",
       " 'close': 344,\n",
       " 'mountain': 345,\n",
       " 'cannot': 346,\n",
       " 'above': 347,\n",
       " 'care': 348,\n",
       " 'leave': 349,\n",
       " 'has': 350,\n",
       " 'follow': 351,\n",
       " 'each': 352,\n",
       " 'cast': 353,\n",
       " 'word': 354,\n",
       " 'might': 355,\n",
       " 'use': 356,\n",
       " 'winter': 357,\n",
       " 'bosom': 358,\n",
       " 'wide': 359,\n",
       " 'east': 360,\n",
       " 'near': 361,\n",
       " 'pale': 362,\n",
       " 'mere': 363,\n",
       " 'forth': 364,\n",
       " 'lay': 365,\n",
       " 'times': 366,\n",
       " 'broad': 367,\n",
       " 'dawn': 368,\n",
       " 'grief': 369,\n",
       " 'sorrow': 370,\n",
       " 'part': 371,\n",
       " 't': 372,\n",
       " 'haroun': 373,\n",
       " 'alraschid': 374,\n",
       " 'gray': 375,\n",
       " 'air': 376,\n",
       " 'tree': 377,\n",
       " 'falls': 378,\n",
       " 'wheel': 379,\n",
       " 'shadows': 380,\n",
       " 'dagonet': 381,\n",
       " 'took': 382,\n",
       " 'cried': 383,\n",
       " 'themselves': 384,\n",
       " 'better': 385,\n",
       " 'lest': 386,\n",
       " 'moved': 387,\n",
       " 'snow': 388,\n",
       " 'green': 389,\n",
       " 'beauty': 390,\n",
       " 'beyond': 391,\n",
       " 'tis': 392,\n",
       " 'walk': 393,\n",
       " 'weep': 394,\n",
       " 'sin': 395,\n",
       " 'flash': 396,\n",
       " 'lies': 397,\n",
       " 'work': 398,\n",
       " 'battle': 399,\n",
       " 'rise': 400,\n",
       " 'dust': 401,\n",
       " 'breath': 402,\n",
       " 'lives': 403,\n",
       " 'bed': 404,\n",
       " 'calm': 405,\n",
       " 'bright': 406,\n",
       " 'ta': 407,\n",
       " 'behind': 408,\n",
       " 'glory': 409,\n",
       " 'leaves': 410,\n",
       " 'brought': 411,\n",
       " 'seeing': 412,\n",
       " 'thus': 413,\n",
       " 'vows': 414,\n",
       " 'words': 415,\n",
       " 'sat': 416,\n",
       " 'ev': 417,\n",
       " 'most': 418,\n",
       " 'purple': 419,\n",
       " 'ask': 420,\n",
       " 'since': 421,\n",
       " 'st': 422,\n",
       " 'two': 423,\n",
       " 'between': 424,\n",
       " 'forgotten': 425,\n",
       " 'father': 426,\n",
       " 'brand': 427,\n",
       " 'lie': 428,\n",
       " 'mist': 429,\n",
       " 'falling': 430,\n",
       " 'bring': 431,\n",
       " 'thing': 432,\n",
       " 'hilt': 433,\n",
       " 'lights': 434,\n",
       " 'born': 435,\n",
       " 'breast': 436,\n",
       " 'below': 437,\n",
       " 'garden': 438,\n",
       " 'y': 439,\n",
       " 'fur': 440,\n",
       " 'hundred': 441,\n",
       " 'shot': 442,\n",
       " 'wave': 443,\n",
       " 'foam': 444,\n",
       " 'crag': 445,\n",
       " 'ear': 446,\n",
       " 'table': 447,\n",
       " 'harp': 448,\n",
       " 'being': 449,\n",
       " 'barge': 450,\n",
       " 'died': 451,\n",
       " 'sware': 452,\n",
       " 'move': 453,\n",
       " 'less': 454,\n",
       " 'across': 455,\n",
       " 'whose': 456,\n",
       " 'slow': 457,\n",
       " 'sad': 458,\n",
       " 'either': 459,\n",
       " 'gone': 460,\n",
       " 'west': 461,\n",
       " 'blown': 462,\n",
       " 'hair': 463,\n",
       " 'hard': 464,\n",
       " 'youth': 465,\n",
       " 'faces': 466,\n",
       " 'waste': 467,\n",
       " 'clothed': 468,\n",
       " 'mystic': 469,\n",
       " 'unto': 470,\n",
       " 'delight': 471,\n",
       " 'change': 472,\n",
       " 'blind': 473,\n",
       " 'whisper': 474,\n",
       " 'wound': 475,\n",
       " 'mighty': 476,\n",
       " 'human': 477,\n",
       " 'island': 478,\n",
       " 'moan': 479,\n",
       " 'darkness': 480,\n",
       " 'web': 481,\n",
       " 'gods': 482,\n",
       " 'mirror': 483,\n",
       " 'mun': 484,\n",
       " 'munny': 485,\n",
       " 'nt': 486,\n",
       " 'um': 487,\n",
       " 'break': 488,\n",
       " 'thick': 489,\n",
       " 'ancient': 490,\n",
       " 'tide': 491,\n",
       " 'home': 492,\n",
       " 'gloom': 493,\n",
       " 'breathing': 494,\n",
       " 'lower': 495,\n",
       " 'smile': 496,\n",
       " 'leaf': 497,\n",
       " 'toward': 498,\n",
       " 'brother': 499,\n",
       " 'knows': 500,\n",
       " 'ran': 501,\n",
       " 'loud': 502,\n",
       " 'often': 503,\n",
       " 'doors': 504,\n",
       " 'ears': 505,\n",
       " 'bower': 506,\n",
       " 'strange': 507,\n",
       " 'autumn': 508,\n",
       " 'looking': 509,\n",
       " 'helmet': 510,\n",
       " 'its': 511,\n",
       " 'behold': 512,\n",
       " 'mute': 513,\n",
       " 'flowers': 514,\n",
       " 'replied': 515,\n",
       " 'wife': 516,\n",
       " 'set': 517,\n",
       " 'lo': 518,\n",
       " 'fancy': 519,\n",
       " 'isle': 520,\n",
       " 'kiss': 521,\n",
       " 'winds': 522,\n",
       " 'people': 523,\n",
       " 'silence': 524,\n",
       " 'barren': 525,\n",
       " 'dropping': 526,\n",
       " 'holy': 527,\n",
       " 'meadow': 528,\n",
       " 'living': 529,\n",
       " 'yellow': 530,\n",
       " 'weary': 531,\n",
       " 'forlorn': 532,\n",
       " 'sa': 533,\n",
       " 'wi': 534,\n",
       " 'k': 535,\n",
       " 'paris': 536,\n",
       " 'boy': 537,\n",
       " 'boat': 538,\n",
       " 'foot': 539,\n",
       " 'tender': 540,\n",
       " 'grace': 541,\n",
       " 'six': 542,\n",
       " 'fought': 543,\n",
       " 'moving': 544,\n",
       " 'dreams': 545,\n",
       " 'splendour': 546,\n",
       " 'says': 547,\n",
       " 'herself': 548,\n",
       " 'wilt': 549,\n",
       " 'peace': 550,\n",
       " 'fields': 551,\n",
       " 'towers': 552,\n",
       " 'drawn': 553,\n",
       " 'hold': 554,\n",
       " 'goodly': 555,\n",
       " 'swine': 556,\n",
       " 'save': 557,\n",
       " 'north': 558,\n",
       " 'none': 559,\n",
       " 'heathen': 560,\n",
       " 'whole': 561,\n",
       " 'realm': 562,\n",
       " 'fruit': 563,\n",
       " 'deeds': 564,\n",
       " 'spoke': 565,\n",
       " 'flying': 566,\n",
       " 'wine': 567,\n",
       " 'began': 568,\n",
       " 'plume': 569,\n",
       " 'show': 570,\n",
       " 'bugle': 571,\n",
       " 'until': 572,\n",
       " 'warm': 573,\n",
       " 'll': 574,\n",
       " 'waters': 575,\n",
       " 'laid': 576,\n",
       " 'even': 577,\n",
       " 'woman': 578,\n",
       " 'sword': 579,\n",
       " 'heavy': 580,\n",
       " 'cross': 581,\n",
       " 'pine': 582,\n",
       " 'give': 583,\n",
       " 'fail': 584,\n",
       " 'brain': 585,\n",
       " 'burn': 586,\n",
       " 'bore': 587,\n",
       " 'wrought': 588,\n",
       " 'woe': 589,\n",
       " 'rising': 590,\n",
       " 'trust': 591,\n",
       " 'crimson': 592,\n",
       " 'knowledge': 593,\n",
       " 'echoes': 594,\n",
       " 'tha': 595,\n",
       " 'coom': 596,\n",
       " 'nowt': 597,\n",
       " 'le': 598,\n",
       " 'onward': 599,\n",
       " 'hell': 600,\n",
       " 'eve': 601,\n",
       " 'sunset': 602,\n",
       " 'lonely': 603,\n",
       " 'walls': 604,\n",
       " 'feel': 605,\n",
       " 'hate': 606,\n",
       " 'hearts': 607,\n",
       " 'neck': 608,\n",
       " 'maiden': 609,\n",
       " 'gave': 610,\n",
       " 'memories': 611,\n",
       " 'rich': 612,\n",
       " 'shatter': 613,\n",
       " 'beast': 614,\n",
       " 'else': 615,\n",
       " 'memory': 616,\n",
       " 'sudden': 617,\n",
       " 'roar': 618,\n",
       " 'ocean': 619,\n",
       " 'enter': 620,\n",
       " 'bow': 621,\n",
       " 'rain': 622,\n",
       " 'wandering': 623,\n",
       " 'fountain': 624,\n",
       " 'run': 625,\n",
       " 'wood': 626,\n",
       " 'shape': 627,\n",
       " 'hearted': 628,\n",
       " 'curse': 629,\n",
       " 'known': 630,\n",
       " 'found': 631,\n",
       " 'been': 632,\n",
       " 'comfort': 633,\n",
       " 'lying': 634,\n",
       " 'grown': 635,\n",
       " 'brow': 636,\n",
       " 'kings': 637,\n",
       " 'order': 638,\n",
       " 'shining': 639,\n",
       " 'vain': 640,\n",
       " 'war': 641,\n",
       " 'smote': 642,\n",
       " 'perish': 643,\n",
       " 'faint': 644,\n",
       " 'beside': 645,\n",
       " 'blows': 646,\n",
       " 'sail': 647,\n",
       " 'yon': 648,\n",
       " 'truth': 649,\n",
       " 'thousand': 650,\n",
       " 'sense': 651,\n",
       " 'space': 652,\n",
       " 'flame': 653,\n",
       " 'sometimes': 654,\n",
       " 'something': 655,\n",
       " 'coming': 656,\n",
       " 'cease': 657,\n",
       " 'flow': 658,\n",
       " 'cheek': 659,\n",
       " 'toil': 660,\n",
       " 'theer': 661,\n",
       " 'lass': 662,\n",
       " 'niver': 663,\n",
       " 'arise': 664,\n",
       " 'play': 665,\n",
       " 'stately': 666,\n",
       " 'league': 667,\n",
       " 'horse': 668,\n",
       " 'noon': 669,\n",
       " 'bear': 670,\n",
       " 'thyself': 671,\n",
       " 'law': 672,\n",
       " 'thunder': 673,\n",
       " 'wither': 674,\n",
       " 'wall': 675,\n",
       " 'young': 676,\n",
       " 'smitten': 677,\n",
       " 'mortal': 678,\n",
       " 'innocence': 679,\n",
       " 'ill': 680,\n",
       " 'brake': 681,\n",
       " 'empty': 682,\n",
       " 'whence': 683,\n",
       " 'city': 684,\n",
       " 'sick': 685,\n",
       " 'samite': 686,\n",
       " 'return': 687,\n",
       " 'strong': 688,\n",
       " 'murmuring': 689,\n",
       " 'cries': 690,\n",
       " 'brows': 691,\n",
       " 'grass': 692,\n",
       " 'bride': 693,\n",
       " 'itself': 694,\n",
       " 'flung': 695,\n",
       " 'open': 696,\n",
       " 'lyonnesse': 697,\n",
       " 'keen': 698,\n",
       " 'lawn': 699,\n",
       " 'boughs': 700,\n",
       " 'because': 701,\n",
       " 'horn': 702,\n",
       " 'changed': 703,\n",
       " 'nigh': 704,\n",
       " 'drawing': 705,\n",
       " 'rolling': 706,\n",
       " 'chill': 707,\n",
       " 'wounded': 708,\n",
       " 'larger': 709,\n",
       " 'desire': 710,\n",
       " 'large': 711,\n",
       " 'indeed': 712,\n",
       " 'shalt': 713,\n",
       " 'sand': 714,\n",
       " 'closed': 715,\n",
       " 'chance': 716,\n",
       " 'voices': 717,\n",
       " 'roof': 718,\n",
       " 'quick': 719,\n",
       " 'think': 720,\n",
       " 'souls': 721,\n",
       " 'rule': 722,\n",
       " 'help': 723,\n",
       " 'se': 724,\n",
       " 'ridge': 725,\n",
       " 'dewy': 726,\n",
       " 'duty': 727,\n",
       " 'northern': 728,\n",
       " 'purpose': 729,\n",
       " 'fairest': 730,\n",
       " 'curls': 731,\n",
       " 'forehead': 732,\n",
       " 'takes': 733,\n",
       " 'bells': 734,\n",
       " 'heat': 735,\n",
       " 'race': 736,\n",
       " 'skies': 737,\n",
       " 'glow': 738,\n",
       " 'bloom': 739,\n",
       " 'grave': 740,\n",
       " 'worth': 741,\n",
       " 'dew': 742,\n",
       " 'scorn': 743,\n",
       " 'wisdom': 744,\n",
       " 'shepherd': 745,\n",
       " 'floated': 746,\n",
       " 'rosy': 747,\n",
       " 'self': 748,\n",
       " 'south': 749,\n",
       " 'lotos': 750,\n",
       " 'luvv': 751,\n",
       " 'knaws': 752,\n",
       " 'wur': 753,\n",
       " 'oop': 754,\n",
       " 'naw': 755,\n",
       " 'squoire': 756,\n",
       " 'swallow': 757,\n",
       " 'thoughts': 758,\n",
       " 'lad': 759,\n",
       " 'forward': 760,\n",
       " 'cannon': 761,\n",
       " 'bare': 762,\n",
       " 'smoke': 763,\n",
       " 'athwart': 764,\n",
       " 'put': 765,\n",
       " 'seems': 766,\n",
       " 'farewell': 767,\n",
       " 'seas': 768,\n",
       " 'vision': 769,\n",
       " 'weight': 770,\n",
       " 'doom': 771,\n",
       " 'gawain': 772,\n",
       " 'prize': 773,\n",
       " 'rock': 774,\n",
       " 'won': 775,\n",
       " 'knowing': 776,\n",
       " 'ways': 777,\n",
       " 'christ': 778,\n",
       " 'evil': 779,\n",
       " 'lance': 780,\n",
       " 'confusion': 781,\n",
       " 'friends': 782,\n",
       " 'yield': 783,\n",
       " 'reverence': 784,\n",
       " 'goes': 785,\n",
       " 'hung': 786,\n",
       " 'fill': 787,\n",
       " 'dame': 788,\n",
       " 'throne': 789,\n",
       " 'shield': 790,\n",
       " 'shame': 791,\n",
       " 'strength': 792,\n",
       " 'makes': 793,\n",
       " 'myself': 794,\n",
       " 'dance': 795,\n",
       " 'quiet': 796,\n",
       " 'wars': 797,\n",
       " 'lean': 798,\n",
       " 'measure': 799,\n",
       " 'downward': 800,\n",
       " 'false': 801,\n",
       " 'burning': 802,\n",
       " 'evermore': 803,\n",
       " 'dull': 804,\n",
       " 'sees': 805,\n",
       " 'length': 806,\n",
       " 'ease': 807,\n",
       " 'helm': 808,\n",
       " 'drops': 809,\n",
       " 'rang': 810,\n",
       " 'felt': 811,\n",
       " 'embrace': 812,\n",
       " 'wrong': 813,\n",
       " 'hence': 814,\n",
       " 'fallen': 815,\n",
       " 'soft': 816,\n",
       " 'caught': 817,\n",
       " 'apart': 818,\n",
       " 'shine': 819,\n",
       " 'traitor': 820,\n",
       " 'rome': 821,\n",
       " 'wonderful': 822,\n",
       " 'sung': 823,\n",
       " 'aftertime': 824,\n",
       " 'harm': 825,\n",
       " 'strode': 826,\n",
       " 'together': 827,\n",
       " 'surely': 828,\n",
       " 'worthy': 829,\n",
       " 'pleasure': 830,\n",
       " 'dipt': 831,\n",
       " 'eyelids': 832,\n",
       " 'level': 833,\n",
       " 'dusky': 834,\n",
       " 'forms': 835,\n",
       " 'beam': 836,\n",
       " 'loudly': 837,\n",
       " 'christmas': 838,\n",
       " 'form': 839,\n",
       " 'ground': 840,\n",
       " 'door': 841,\n",
       " 'same': 842,\n",
       " 'whispers': 843,\n",
       " 'grow': 844,\n",
       " 'singing': 845,\n",
       " 'fold': 846,\n",
       " 'blest': 847,\n",
       " 'gather': 848,\n",
       " 'another': 849,\n",
       " 'spring': 850,\n",
       " 'runs': 851,\n",
       " 'shade': 852,\n",
       " 'barley': 853,\n",
       " 'flowing': 854,\n",
       " 'underneath': 855,\n",
       " 'snowy': 856,\n",
       " 'lily': 857,\n",
       " 'gleaming': 858,\n",
       " 'wander': 859,\n",
       " 'labour': 860,\n",
       " 'parson': 861,\n",
       " 'enemies': 862,\n",
       " 'doy': 863,\n",
       " 'utter': 864,\n",
       " 'sings': 865,\n",
       " 'hill': 866,\n",
       " 'vanish': 867,\n",
       " 'charge': 868,\n",
       " 'mouth': 869,\n",
       " 'broke': 870,\n",
       " 'inward': 871,\n",
       " 'lone': 872,\n",
       " 'evening': 873,\n",
       " 'asleep': 874,\n",
       " 'hope': 875,\n",
       " 'stands': 876,\n",
       " 'wise': 877,\n",
       " 'storm': 878,\n",
       " 'neither': 879,\n",
       " 'fate': 880,\n",
       " 'ruby': 881,\n",
       " 'skip': 882,\n",
       " 'winding': 883,\n",
       " 'wail': 884,\n",
       " 'mid': 885,\n",
       " 'babe': 886,\n",
       " 'rather': 887,\n",
       " 'amazed': 888,\n",
       " 'soon': 889,\n",
       " 'ended': 890,\n",
       " 'fingers': 891,\n",
       " 'churl': 892,\n",
       " 'image': 893,\n",
       " 'sworn': 894,\n",
       " 'sitting': 895,\n",
       " 'wherefore': 896,\n",
       " 'slope': 897,\n",
       " 'tournament': 898,\n",
       " 'blew': 899,\n",
       " 'cursed': 900,\n",
       " 'modred': 901,\n",
       " 'whereon': 902,\n",
       " 'brittany': 903,\n",
       " 'shake': 904,\n",
       " 'wrath': 905,\n",
       " 'colours': 906,\n",
       " 'laugh': 907,\n",
       " 'crying': 908,\n",
       " 'glitter': 909,\n",
       " 'stay': 910,\n",
       " 'brook': 911,\n",
       " 'yearning': 912,\n",
       " 'laughter': 913,\n",
       " 'fling': 914,\n",
       " 'kind': 915,\n",
       " 'grew': 916,\n",
       " 'nay': 917,\n",
       " 'talk': 918,\n",
       " 'shrill': 919,\n",
       " 'fled': 920,\n",
       " 'flew': 921,\n",
       " 'wedded': 922,\n",
       " 'frozen': 923,\n",
       " 'clash': 924,\n",
       " 'heavily': 925,\n",
       " 'thin': 926,\n",
       " 'nothing': 927,\n",
       " 'slew': 928,\n",
       " 'casement': 929,\n",
       " 'met': 930,\n",
       " 'halls': 931,\n",
       " 'bond': 932,\n",
       " 'want': 933,\n",
       " 'sweeter': 934,\n",
       " 'dash': 935,\n",
       " 'wish': 936,\n",
       " 'sing': 937,\n",
       " 'keep': 938,\n",
       " 'height': 939,\n",
       " 'dropt': 940,\n",
       " 'therefore': 941,\n",
       " 'throat': 942,\n",
       " 'glimmer': 943,\n",
       " 'magic': 944,\n",
       " 'just': 945,\n",
       " 'age': 946,\n",
       " 'beautiful': 947,\n",
       " 'ghost': 948,\n",
       " 'hail': 949,\n",
       " 'going': 950,\n",
       " 'folded': 951,\n",
       " 'bound': 952,\n",
       " 'phantom': 953,\n",
       " 'whereof': 954,\n",
       " 'anguish': 955,\n",
       " 'bitter': 956,\n",
       " 'shiver': 957,\n",
       " 'act': 958,\n",
       " 'holds': 959,\n",
       " 'sparkled': 960,\n",
       " 'diamond': 961,\n",
       " 'myriads': 962,\n",
       " 'motion': 963,\n",
       " 'quickly': 964,\n",
       " 'second': 965,\n",
       " 'strangely': 966,\n",
       " 'palms': 967,\n",
       " 'clouded': 968,\n",
       " 'hid': 969,\n",
       " 'get': 970,\n",
       " 'whirl': 971,\n",
       " 'shoulders': 972,\n",
       " 'margin': 973,\n",
       " 'taken': 974,\n",
       " 'knee': 975,\n",
       " 'cliff': 976,\n",
       " 'queens': 977,\n",
       " 'murmur': 978,\n",
       " 'complaining': 979,\n",
       " 'fresh': 980,\n",
       " 'mix': 981,\n",
       " 'darken': 982,\n",
       " 'carol': 983,\n",
       " 'iron': 984,\n",
       " 'stand': 985,\n",
       " 'due': 986,\n",
       " 'closing': 987,\n",
       " 'mournful': 988,\n",
       " 'common': 989,\n",
       " 'regret': 990,\n",
       " 'april': 991,\n",
       " 'songs': 992,\n",
       " 'branch': 993,\n",
       " 'bird': 994,\n",
       " 'market': 995,\n",
       " 'presence': 996,\n",
       " 'moves': 997,\n",
       " 'always': 998,\n",
       " 'dreary': 999,\n",
       " 'dusk': 1000,\n",
       " ...}"
      ]
     },
     "execution_count": 44,
     "metadata": {},
     "output_type": "execute_result"
    }
   ],
   "source": [
    "word_to_number"
   ]
  },
  {
   "cell_type": "code",
   "execution_count": 45,
   "metadata": {},
   "outputs": [],
   "source": [
    "dataset = tokenizer.texts_to_sequences(filtered_poems[\"Content\"])"
   ]
  },
  {
   "cell_type": "code",
   "execution_count": 46,
   "metadata": {},
   "outputs": [
    {
     "name": "stdout",
     "output_type": "stream",
     "text": [
      "[488, 488, 488, 20, 27, 232, 375, 1291, 28, 151, 2, 8, 103, 9, 11, 1047, 271, 864, 1, 758, 9, 664, 6, 17, 28, 140, 14, 1, 2576, 29, 537, 9, 22, 1292, 10, 19, 2577, 36, 665, 28, 140, 14, 1, 2578, 759, 9, 22, 865, 6, 19, 538, 20, 1, 1722, 2, 1, 666, 1293, 152, 20, 4, 62, 1723, 318, 1, 866, 13, 28, 14, 1, 254, 3, 5, 867, 7, 141, 2, 1, 342, 3, 5, 144, 9, 12, 186, 488, 488, 488, 36, 1, 539, 3, 27, 1724, 28, 151, 13, 1, 540, 541, 3, 5, 63, 9, 12, 93, 56, 159, 113, 233, 4, 17]\n"
     ]
    }
   ],
   "source": [
    "# This is the first poem in the dataset, displayed using its word numbers\n",
    "print(dataset[0])"
   ]
  },
  {
   "cell_type": "markdown",
   "metadata": {},
   "source": [
    "Now, we construct the training data by sliding a window of length 5 over the words:\n",
    "\n",
    "<img src=\"http://drive.google.com/uc?export=view&id=14hxGUoapWuZmqlLrRJZ8-oTA2uS5APxI\" height=400 width=600></img>"
   ]
  },
  {
   "cell_type": "markdown",
   "metadata": {},
   "source": [
    "The code is exactly the same as before, we just use a smaller window to save some time on computation:"
   ]
  },
  {
   "cell_type": "code",
   "execution_count": 47,
   "metadata": {},
   "outputs": [
    {
     "name": "stdout",
     "output_type": "stream",
     "text": [
      "(35555, 5)\n",
      "(35555,)\n"
     ]
    }
   ],
   "source": [
    "# sliding window\n",
    "SEQUENCE_LENGTH = 5\n",
    "\n",
    "X = []\n",
    "y = []\n",
    "\n",
    "for poem in dataset:\n",
    "    for window_start_idx in range(len(poem)-SEQUENCE_LENGTH):\n",
    "        window_end_idx = window_start_idx + SEQUENCE_LENGTH\n",
    "        X.append(poem[window_start_idx: window_end_idx])\n",
    "        y.append(poem[window_end_idx])\n",
    "\n",
    "X = np.array(X)\n",
    "y = np.array(y)\n",
    "\n",
    "# Let's look at the shapes\n",
    "print(X.shape)\n",
    "print(y.shape)"
   ]
  },
  {
   "cell_type": "markdown",
   "metadata": {
    "colab_type": "text",
    "id": "rAu_F2LreKef"
   },
   "source": [
    "Let's inspect our $X$ and $y$"
   ]
  },
  {
   "cell_type": "code",
   "execution_count": 48,
   "metadata": {
    "colab": {
     "base_uri": "https://localhost:8080/",
     "height": 272
    },
    "colab_type": "code",
    "id": "TPN9iOzPeKef",
    "outputId": "6cd15194-f932-4454-c2cb-1b18fd377ac7"
   },
   "outputs": [
    {
     "name": "stdout",
     "output_type": "stream",
     "text": [
      "X: [488 488 488  20  27]\n",
      "y: 232\n",
      "*******\n",
      "X: [488 488  20  27 232]\n",
      "y: 375\n",
      "*******\n",
      "X: [488  20  27 232 375]\n",
      "y: 1291\n",
      "*******\n",
      "X: [  20   27  232  375 1291]\n",
      "y: 28\n",
      "*******\n",
      "X: [  27  232  375 1291   28]\n",
      "y: 151\n",
      "*******\n"
     ]
    }
   ],
   "source": [
    "for i in range(5):\n",
    "    print(\"X:\", X[i])\n",
    "    print(\"y:\", y[i])\n",
    "    print(\"*******\")"
   ]
  },
  {
   "cell_type": "code",
   "execution_count": 49,
   "metadata": {},
   "outputs": [
    {
     "name": "stdout",
     "output_type": "stream",
     "text": [
      "X: ['break', 'break', 'break', 'on', 'thy']\n",
      "y: cold\n",
      "*******\n",
      "X: ['break', 'break', 'on', 'thy', 'cold']\n",
      "y: gray\n",
      "*******\n",
      "X: ['break', 'on', 'thy', 'cold', 'gray']\n",
      "y: stones\n",
      "*******\n",
      "X: ['on', 'thy', 'cold', 'gray', 'stones']\n",
      "y: o\n",
      "*******\n",
      "X: ['thy', 'cold', 'gray', 'stones', 'o']\n",
      "y: sea\n",
      "*******\n"
     ]
    }
   ],
   "source": [
    "for i in range(5):\n",
    "    print(\"X:\", [number_to_word[num] for num in X[i]])\n",
    "    print(\"y:\", number_to_word[y[i]])\n",
    "    print(\"*******\")"
   ]
  },
  {
   "cell_type": "markdown",
   "metadata": {},
   "source": [
    "With our new data, we need to repeat the train-test split as well:"
   ]
  },
  {
   "cell_type": "code",
   "execution_count": 50,
   "metadata": {},
   "outputs": [],
   "source": [
    "# split train and validation set\n",
    "X_train, X_validation, y_train, y_validation = train_test_split(X, y, test_size=0.1)"
   ]
  },
  {
   "cell_type": "code",
   "execution_count": 51,
   "metadata": {
    "colab": {
     "base_uri": "https://localhost:8080/",
     "height": 51
    },
    "colab_type": "code",
    "id": "UCzHepoJBKZZ",
    "outputId": "4013056c-ff81-4702-e4e4-e16e11c22392"
   },
   "outputs": [
    {
     "name": "stdout",
     "output_type": "stream",
     "text": [
      "(31999, 5) (31999,)\n",
      "(3556, 5) (3556,)\n"
     ]
    }
   ],
   "source": [
    "print(X_train.shape, y_train.shape)      \n",
    "print(X_validation.shape, y_validation.shape)"
   ]
  },
  {
   "cell_type": "markdown",
   "metadata": {},
   "source": [
    "## Deep recurrent neural networks"
   ]
  },
  {
   "cell_type": "markdown",
   "metadata": {},
   "source": [
    "For our word-level language model, we will use two recurrent layers before the dense and output layers. The motivation behind this is that with more layers, the model can learn more complex relationships between the preceding words. Note that the first layer returns the output for all steps of the sequence, while the second (last) recurrent layer only passes the final output.\n",
    "\n",
    "To speed up computation, we use GRU units instead of LSTMs and add dropout to avoid heavily overfitting on the training data."
   ]
  },
  {
   "cell_type": "code",
   "execution_count": 52,
   "metadata": {},
   "outputs": [],
   "source": [
    "number_of_classes = len(all_words)+1\n",
    "\n",
    "RNN_wordlevel = Sequential()\n",
    "RNN_wordlevel.add(Embedding(number_of_classes, 8))\n",
    "\n",
    "# the intermediate recurrent layers should return full sequences\n",
    "RNN_wordlevel.add(GRU(64, activation='relu', return_sequences=True))\n",
    "RNN_wordlevel.add(BatchNormalization())\n",
    "RNN_wordlevel.add(Dropout(0.15))\n",
    "\n",
    "# the last recurrent layer only returns the final output\n",
    "RNN_wordlevel.add(GRU(32, activation='relu', return_sequences=False))\n",
    "RNN_wordlevel.add(BatchNormalization())\n",
    "RNN_wordlevel.add(Dropout(0.15))\n",
    "\n",
    "RNN_wordlevel.add(Dense(16, activation='relu'))\n",
    "RNN_wordlevel.add(BatchNormalization())\n",
    "RNN_wordlevel.add(Dropout(0.15))\n",
    "\n",
    "RNN_wordlevel.add(Dense(number_of_classes, activation='softmax'))"
   ]
  },
  {
   "cell_type": "code",
   "execution_count": 53,
   "metadata": {
    "colab": {},
    "colab_type": "code",
    "id": "rv_npeAPBKZ9"
   },
   "outputs": [],
   "source": [
    "# Compile model\n",
    "RNN_wordlevel.compile(\n",
    "    loss='sparse_categorical_crossentropy',\n",
    "    optimizer=Adam(lr=0.001),\n",
    "    metrics=['accuracy']\n",
    ")"
   ]
  },
  {
   "cell_type": "code",
   "execution_count": 54,
   "metadata": {
    "colab": {
     "base_uri": "https://localhost:8080/",
     "height": 1000
    },
    "colab_type": "code",
    "id": "EFtVheveBKZ-",
    "outputId": "c0fa989e-b6eb-4292-8e28-34bf91962cbd"
   },
   "outputs": [
    {
     "name": "stdout",
     "output_type": "stream",
     "text": [
      "Model: \"sequential_1\"\n",
      "_________________________________________________________________\n",
      "Layer (type)                 Output Shape              Param #   \n",
      "=================================================================\n",
      "embedding_2 (Embedding)      (None, None, 8)           38840     \n",
      "_________________________________________________________________\n",
      "gru (GRU)                    (None, None, 64)          14208     \n",
      "_________________________________________________________________\n",
      "batch_normalization_2 (Batch (None, None, 64)          256       \n",
      "_________________________________________________________________\n",
      "dropout (Dropout)            (None, None, 64)          0         \n",
      "_________________________________________________________________\n",
      "gru_1 (GRU)                  (None, 32)                9408      \n",
      "_________________________________________________________________\n",
      "batch_normalization_3 (Batch (None, 32)                128       \n",
      "_________________________________________________________________\n",
      "dropout_1 (Dropout)          (None, 32)                0         \n",
      "_________________________________________________________________\n",
      "dense_2 (Dense)              (None, 16)                528       \n",
      "_________________________________________________________________\n",
      "batch_normalization_4 (Batch (None, 16)                64        \n",
      "_________________________________________________________________\n",
      "dropout_2 (Dropout)          (None, 16)                0         \n",
      "_________________________________________________________________\n",
      "dense_3 (Dense)              (None, 4855)              82535     \n",
      "=================================================================\n",
      "Total params: 145,967\n",
      "Trainable params: 145,743\n",
      "Non-trainable params: 224\n",
      "_________________________________________________________________\n"
     ]
    }
   ],
   "source": [
    "# Display its summary\n",
    "RNN_wordlevel.summary()"
   ]
  },
  {
   "cell_type": "markdown",
   "metadata": {},
   "source": [
    "Note that the final layer is learning a probability distribution over ~5K possible words, a rather hard task given only ~150K training data points and the large variability in natural language. "
   ]
  },
  {
   "cell_type": "code",
   "execution_count": 55,
   "metadata": {},
   "outputs": [
    {
     "name": "stdout",
     "output_type": "stream",
     "text": [
      "Epoch 1/25\n",
      "32/32 [==============================] - 3s 87ms/step - loss: 8.4689 - accuracy: 0.0036 - val_loss: 8.4532 - val_accuracy: 0.0709\n",
      "Epoch 2/25\n",
      "32/32 [==============================] - 3s 82ms/step - loss: 8.3920 - accuracy: 0.0315 - val_loss: 8.4067 - val_accuracy: 0.0709\n",
      "Epoch 3/25\n",
      "32/32 [==============================] - 3s 86ms/step - loss: 8.2767 - accuracy: 0.0623 - val_loss: 8.3349 - val_accuracy: 0.0709\n",
      "Epoch 4/25\n",
      "32/32 [==============================] - 3s 102ms/step - loss: 8.0943 - accuracy: 0.0758 - val_loss: 8.2415 - val_accuracy: 0.0709\n",
      "Epoch 5/25\n",
      "32/32 [==============================] - 3s 86ms/step - loss: 7.8355 - accuracy: 0.0851 - val_loss: 8.1093 - val_accuracy: 0.0742\n",
      "Epoch 6/25\n",
      "32/32 [==============================] - 3s 99ms/step - loss: 7.5212 - accuracy: 0.0919 - val_loss: 7.9277 - val_accuracy: 0.0748\n",
      "Epoch 7/25\n",
      "32/32 [==============================] - 3s 88ms/step - loss: 7.1909 - accuracy: 0.0993 - val_loss: 7.6830 - val_accuracy: 0.0402\n",
      "Epoch 8/25\n",
      "32/32 [==============================] - 3s 82ms/step - loss: 6.8762 - accuracy: 0.1042 - val_loss: 7.4159 - val_accuracy: 0.0399\n",
      "Epoch 9/25\n",
      "32/32 [==============================] - 3s 90ms/step - loss: 6.6021 - accuracy: 0.1159 - val_loss: 7.1265 - val_accuracy: 0.0399\n",
      "Epoch 10/25\n",
      "32/32 [==============================] - 3s 98ms/step - loss: 6.3756 - accuracy: 0.1226 - val_loss: 6.9450 - val_accuracy: 0.0399\n",
      "Epoch 11/25\n",
      "32/32 [==============================] - 3s 98ms/step - loss: 6.2133 - accuracy: 0.1282 - val_loss: 6.8592 - val_accuracy: 0.0397\n",
      "Epoch 12/25\n",
      "32/32 [==============================] - 3s 83ms/step - loss: 6.0838 - accuracy: 0.1321 - val_loss: 6.7982 - val_accuracy: 0.0408\n",
      "Epoch 13/25\n",
      "32/32 [==============================] - 3s 81ms/step - loss: 5.9896 - accuracy: 0.1347 - val_loss: 6.7429 - val_accuracy: 0.0416\n",
      "Epoch 14/25\n",
      "32/32 [==============================] - 3s 78ms/step - loss: 5.9021 - accuracy: 0.1376 - val_loss: 6.7089 - val_accuracy: 0.0430\n",
      "Epoch 15/25\n",
      "32/32 [==============================] - 3s 89ms/step - loss: 5.8417 - accuracy: 0.1401 - val_loss: 6.6456 - val_accuracy: 0.0655\n",
      "Epoch 16/25\n",
      "32/32 [==============================] - 3s 101ms/step - loss: 5.7825 - accuracy: 0.1439 - val_loss: 6.6113 - val_accuracy: 0.0835\n",
      "Epoch 17/25\n",
      "32/32 [==============================] - 3s 106ms/step - loss: 5.7307 - accuracy: 0.1450 - val_loss: 6.5959 - val_accuracy: 0.0796\n",
      "Epoch 18/25\n",
      "32/32 [==============================] - 3s 96ms/step - loss: 5.6770 - accuracy: 0.1490 - val_loss: 6.5698 - val_accuracy: 0.0891\n",
      "Epoch 19/25\n",
      "32/32 [==============================] - 3s 103ms/step - loss: 5.6376 - accuracy: 0.1494 - val_loss: 6.5786 - val_accuracy: 0.0869\n",
      "Epoch 20/25\n",
      "32/32 [==============================] - 3s 88ms/step - loss: 5.6040 - accuracy: 0.1520 - val_loss: 6.5783 - val_accuracy: 0.0984\n",
      "Epoch 21/25\n",
      "32/32 [==============================] - 3s 87ms/step - loss: 5.5609 - accuracy: 0.1538 - val_loss: 6.6019 - val_accuracy: 0.0981\n",
      "Epoch 22/25\n",
      "32/32 [==============================] - 3s 84ms/step - loss: 5.5283 - accuracy: 0.1562 - val_loss: 6.5976 - val_accuracy: 0.0973\n",
      "Epoch 23/25\n",
      "32/32 [==============================] - 3s 90ms/step - loss: 5.4899 - accuracy: 0.1563 - val_loss: 6.6716 - val_accuracy: 0.0951\n",
      "Epoch 24/25\n",
      "32/32 [==============================] - 3s 87ms/step - loss: 5.4576 - accuracy: 0.1578 - val_loss: 6.6759 - val_accuracy: 0.1012\n",
      "Epoch 25/25\n",
      "32/32 [==============================] - 3s 105ms/step - loss: 5.4238 - accuracy: 0.1587 - val_loss: 6.7052 - val_accuracy: 0.1010\n"
     ]
    }
   ],
   "source": [
    "history = RNN_wordlevel.fit(X_train, y_train,\n",
    "        batch_size=1024,\n",
    "        epochs=25,\n",
    "        validation_data=(X_validation, y_validation))"
   ]
  },
  {
   "cell_type": "code",
   "execution_count": 56,
   "metadata": {},
   "outputs": [
    {
     "data": {
      "image/png": "[encoded data removed]",
      "text/plain": [
       "<Figure size 1080x360 with 2 Axes>"
      ]
     },
     "metadata": {
      "needs_background": "light"
     },
     "output_type": "display_data"
    }
   ],
   "source": [
    "epochs = range(1, 26)\n",
    "\n",
    "plt.figure(figsize=(15, 5))\n",
    "plt.subplot(1, 2, 1)\n",
    "plt.plot(epochs, history.history[\"accuracy\"], label=\"training\", marker=\"o\")\n",
    "plt.plot(epochs, history.history[\"val_accuracy\"], label=\"validation\", marker=\"o\")\n",
    "plt.xlabel(\"Epochs\")\n",
    "plt.xticks(epochs[::5])\n",
    "plt.ylabel(\"Accuracy\")\n",
    "plt.legend()\n",
    "\n",
    "plt.subplot(1, 2, 2)\n",
    "plt.plot(epochs, history.history[\"loss\"], label=\"training\", marker=\"o\")\n",
    "plt.plot(epochs, history.history[\"val_loss\"], label=\"validation\", marker=\"o\")\n",
    "plt.xlabel(\"Epochs\")\n",
    "plt.xticks(epochs[::5])\n",
    "plt.ylabel(\"Loss\")\n",
    "plt.legend()\n",
    "plt.show()"
   ]
  },
  {
   "cell_type": "markdown",
   "metadata": {},
   "source": [
    "Finally, we use the same loop as before to generate text:"
   ]
  },
  {
   "cell_type": "code",
   "execution_count": 57,
   "metadata": {
    "colab": {},
    "colab_type": "code",
    "id": "DzKM0HKOBKaC"
   },
   "outputs": [
    {
     "name": "stdout",
     "output_type": "stream",
     "text": [
      "to be or not to be thy cre from nobler kin far with follow darkness beds of wept now breathing and lightnings the prime of many right d morn she fool will bear thee beautiful but farewell to ill fall in high wrought like to whom my whither go changed as gentlier far the sea laid\n"
     ]
    }
   ],
   "source": [
    "input_phrase = \"To be or not to be.\"\n",
    "\n",
    "# process for the model\n",
    "processed_phrase = tokenizer.texts_to_sequences([input_phrase])[0]\n",
    "\n",
    "for i in range(50):\n",
    "    # extract last 5 words\n",
    "    network_input = np.array(processed_phrase[-SEQUENCE_LENGTH:], dtype=np.float32)\n",
    "    network_input = network_input.reshape((1, SEQUENCE_LENGTH)) # shape: 1 x 5\n",
    "\n",
    "    # the RNN gives the probability of each word as the next one\n",
    "    predict_proba = RNN_wordlevel.predict(network_input)[0] # shape (4855,)\n",
    "    \n",
    "    # sample one word using these chances\n",
    "    predicted_index = np.random.choice(number_of_classes, 1, p=predict_proba)[0]\n",
    "\n",
    "    # add new index at the end of our list\n",
    "    processed_phrase.append(predicted_index)\n",
    "    \n",
    "    # progress indicator\n",
    "    print(i, end=\"\\r\")\n",
    "\n",
    "# indices mapped to words - the method expects a list of lists so we need the extra bracket\n",
    "output_phrase = tokenizer.sequences_to_texts([processed_phrase])[0]\n",
    "\n",
    "print(output_phrase)"
   ]
  },
  {
   "cell_type": "markdown",
   "metadata": {},
   "source": [
    "The result would probably not fool a human since the model failed to learn grammar with so little training. We can take a look at the word embeddings now and see if we notice any patterns:"
   ]
  },
  {
   "cell_type": "code",
   "execution_count": 58,
   "metadata": {},
   "outputs": [],
   "source": [
    "trained_embedding = RNN_wordlevel.layers[0]\n",
    "\n",
    "all_embeddings = trained_embedding(np.arange(number_of_classes))\n",
    "\n",
    "pca = PCA(n_components=2)\n",
    "\n",
    "all_embeddings_2d = pca.fit_transform(all_embeddings)"
   ]
  },
  {
   "cell_type": "code",
   "execution_count": 59,
   "metadata": {},
   "outputs": [
    {
     "data": {
      "image/png": "[encoded data removed]",
      "text/plain": [
       "<Figure size 720x720 with 1 Axes>"
      ]
     },
     "metadata": {
      "needs_background": "light"
     },
     "output_type": "display_data"
    }
   ],
   "source": [
    "plt.figure(figsize=(10, 10))\n",
    "\n",
    "\n",
    "plt.scatter(all_embeddings_2d[:, 0], all_embeddings_2d[:, 1], alpha=0.1)\n",
    "\n",
    "# we select a few words based on frequency\n",
    "sorted_words = sorted(tokenizer.word_counts.items(), key=lambda x: x[1])\n",
    "word_sample = sorted_words[-300: -100: 20]\n",
    "\n",
    "for word, num in word_sample:\n",
    "    # some noise is added to the text position to avoid accidental overlapping\n",
    "    # rerun the cell if too many words overlap\n",
    "    plt.text(all_embeddings_2d[num, 0]+np.random.randn(1)*0.01, \n",
    "             all_embeddings_2d[num, 1]+np.random.randn(1)*0.01,\n",
    "             word, \n",
    "             fontsize=14)\n",
    "\n",
    "plt.title(\"Trained word embeddings after PCA\")\n",
    "plt.show()"
   ]
  },
  {
   "cell_type": "markdown",
   "metadata": {},
   "source": [
    "---\n",
    "\n",
    "#### Exercise 2 (Bonus)\n",
    "\n",
    "Use the last word-level RNN model we trained to generate another poem starting with the phrase below. You can take advantage of the scripts we used earlier.\n"
   ]
  },
  {
   "cell_type": "code",
   "execution_count": null,
   "metadata": {},
   "outputs": [],
   "source": [
    "input_phrase = \"dear sir I heard you like the sea\"\n",
    "\n",
    "# YOUR CODE COMES HERE"
   ]
  },
  {
   "cell_type": "markdown",
   "metadata": {},
   "source": [
    "---\n",
    "\n",
    "## Advanced Supplementary material\n",
    "\n",
    "Finally, we will touch on a few topics that are beyond the scope of this lecture but worth mentioning.\n",
    "\n",
    "### Training RNNs\n",
    "\n",
    "Especially with long sequence lengths, the gradients during RNN training have a tendency to converge very fast to 0 (_vanishing gradients_) or to grow infinitely large (_exploding gradients_). To address this, it is generally recommended to **clip the gradients** during training: after the forward pass and gradient calculations, we scale each gradient vector which is larger than some threshold to a fixed norm. Some Keras optimizers, such as `Adam`, support the use of a `clipnorm` argument to do just this. There are also various weight initialization strategies to address vanishing and exploding gradients. Modern optimizers, such as Adam, also help compared to vanilla SGD optimization.\n",
    "\n",
    "Another point about training recurrent models on long sequences concerns **computational cost**. Since the model parses each sequence element one after the other, there is much less room for parallel calculations compared to convolutional or fully-connected neural networks. This partly explains why state-of-the-art language models shifted from recurrent architectures.\n",
    "\n",
    "### Bidirectional RNNs\n",
    "\n",
    "The meaning of a word in a sentence often depends on both the preceding and following words. To account for this two-way context in our models, we can run two RNNs, one forward as before and one backward, to process a sentence (or any sequence of data, in general). This means that the state and output for each term in a sequence will depend on both the past and future terms. This is the motivation behind _bidirectional recurrent neural nets_:\n",
    "\n",
    "<img src=\"http://drive.google.com/uc?export=view&id=14ojg_xJIr2ddoB7mgKwawd3HSerAqB7f\" height=400 width=600></img>\n",
    "\n",
    "This is not necessarily applicable in text generation (because we only have access to future tokens at training but not at the generation phase) but machine translation systems or models that aim to complete text can highly benefit from bidirectional context. However, note that this extra processing comes with significant computational overhead."
   ]
  },
  {
   "cell_type": "markdown",
   "metadata": {},
   "source": [
    "### Encoder-decoder models\n",
    "\n",
    "We used RNNs as a _sequence-to-vector model_: based on a sequence of inputs, we predicted a single output. In many applications, such as machine translation or text-to-speech models, we build _sequence-to-sequence models_. In machine translation, we are constructing models that take sentences (in the form of sequences of tokens) from one language and output the same sentence translated into another language. Instead of directly using a single RNN and its output sequence, the most effective architectures separate the input encoding and output decoding completely. In an _encoder-decoder model_, we have an encoder module that processes the input sequence to produce a single vector as a representation for the input. This vector is fed into the decoder module, which generates the output sequence in an auto-regressive fashion. That is, the first-step output of the decoder is fed as the input of the second-step, and so on.\n",
    "\n",
    "<img src=\"http://drive.google.com/uc?export=view&id=14iYh3JU7OiMz2--fPFXrEiagw1juHruI\" height=400 width=600></img>\n",
    "\n",
    "Encoder-decoder models are often extended by a so-called _attention mechanism_ which helps the decoder to focus on different parts of the original input when generating the output. In the example below, as the English sentence was translated to French, the attention aligns the most relevant words (whiter squares), flipping the word order of the \"European Economic Area\".\n",
    "\n",
    "<img src=\"http://drive.google.com/uc?export=view&id=14q7YMqiMREI1Duq9S_Fdy_O_qZ-BHBcd\" height=400 width=600></img>\n",
    "<center> <i>Image source: https://arxiv.org/pdf/1409.0473.pdf</i> </center>\n",
    "\n",
    "\n",
    "\n",
    "### Transformer architectures\n",
    "\n",
    "RNNs, especially deep and bidirectional models, are hard and slow to train. With natural language modeling in particular, the current best architectures still require incredible amounts of data for training to achieve good performance. This prompted research into architectures that can be better parallelized and hence trained faster on a lot of data. The state-of-the-art language models are built around so-called _transformer architectures_, which are still encoder-decoder models but solely based on a version of the original attention mechanism called _self-attention_ (originally introduced in the [Attention is All You Need](https://arxiv.org/abs/1706.03762) paper).\n",
    "\n",
    "<img src=\"http://drive.google.com/uc?export=view&id=14gcWWBQBzD5HJ1m2iTlL19or17eM4vTH\" height=200 width=400></img>\n",
    "\n",
    "<center> <i>Image source: https://arxiv.org/abs/1706.03762</i> </center>\n",
    "\n",
    "There is a large collection of pre-trained transformer models that you can access through the [huggingface](https://huggingface.co/) library."
   ]
  },
  {
   "cell_type": "markdown",
   "metadata": {},
   "source": [
    "---"
   ]
  },
  {
   "cell_type": "markdown",
   "metadata": {
    "colab_type": "text",
    "id": "XJp3V8cwBKaY"
   },
   "source": [
    "<div id=\"container\" style=\"position:relative;\">\n",
    "<div style=\"position:relative; float:right\"><img style=\"height:25px\"\"width: 50px\" src =\"https://drive.google.com/uc?export=view&id=14VoXUJftgptWtdNhtNYVm6cjVmEWpki1\" />\n",
    "</div>\n",
    "</div>"
   ]
  }
 ],
 "metadata": {
  "accelerator": "GPU",
  "colab": {
   "collapsed_sections": [
    "byQreJfoBKaU"
   ],
   "name": "Introduction to Recurrent Neural Networks v2.0.ipynb",
   "provenance": []
  },
  "hide_input": false,
  "kernelspec": {
   "display_name": "Python 3",
   "language": "python",
   "name": "python3"
  },
  "language_info": {
   "codemirror_mode": {
    "name": "ipython",
    "version": 3
   },
   "file_extension": ".py",
   "mimetype": "text/x-python",
   "name": "python",
   "nbconvert_exporter": "python",
   "pygments_lexer": "ipython3",
   "version": "3.8.8"
  },
  "toc": {
   "base_numbering": 1,
   "nav_menu": {},
   "number_sections": false,
   "sideBar": true,
   "skip_h1_title": true,
   "title_cell": "Table of Contents",
   "title_sidebar": "Contents",
   "toc_cell": false,
   "toc_position": {},
   "toc_section_display": true,
   "toc_window_display": false
  }
 },
 "nbformat": 4,
 "nbformat_minor": 4
}
