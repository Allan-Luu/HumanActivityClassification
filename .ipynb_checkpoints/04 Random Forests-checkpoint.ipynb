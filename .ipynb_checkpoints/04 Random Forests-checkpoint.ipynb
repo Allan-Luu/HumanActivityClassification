{
 "cells": [
  {
   "cell_type": "markdown",
   "id": "e12a2d3c-c86d-4fa7-9ae0-25412f44815c",
   "metadata": {},
   "source": [
    "# Random Forests"
   ]
  },
  {
   "cell_type": "code",
   "execution_count": 1,
   "id": "519bffbb-4201-4041-b05f-8931816e81c7",
   "metadata": {},
   "outputs": [],
   "source": [
    "# importing basic libraries\n",
    "import pandas as pd\n",
    "import numpy as np\n",
    "import matplotlib.pyplot as plt\n",
    "import seaborn as sns\n",
    "\n",
    "# importing random forest libraries\n",
    "\n",
    "from sklearn.ensemble import RandomForestClassifier"
   ]
  },
  {
   "cell_type": "code",
   "execution_count": 2,
   "id": "269b2590-3d7e-4e9a-87d5-54ab101f184b",
   "metadata": {},
   "outputs": [],
   "source": [
    "# reading in the data\n",
    "columns = pd.read_csv('data/features2.txt', header = None)\n",
    "\n",
    "X_train_orig = pd.read_csv('data/Train/X_train.txt', names = columns[0], sep=' ')\n",
    "X_test_orig = pd.read_csv('data/Test/X_test.txt', names = columns[0], sep=' ')\n",
    "\n",
    "y_train_orig = pd.read_csv('data/Train/y_train.txt', sep=' ', header = None)\n",
    "y_test_orig = pd.read_csv('data/Test/y_test.txt', sep=' ', header = None)"
   ]
  },
  {
   "cell_type": "code",
   "execution_count": 18,
   "id": "16bb12c6-dd1a-466a-baea-9456343240d2",
   "metadata": {},
   "outputs": [
    {
     "data": {
      "text/plain": [
       "RandomForestClassifier(n_estimators=50)"
      ]
     },
     "execution_count": 18,
     "metadata": {},
     "output_type": "execute_result"
    }
   ],
   "source": [
    "my_random_forest = RandomForestClassifier(n_estimators=50)\n",
    "my_random_forest.fit(X_train_orig, y_train_orig.values.ravel())"
   ]
  },
  {
   "cell_type": "code",
   "execution_count": 11,
   "id": "2de1f95b-5e9f-4b2f-a8a6-e4192c12b42d",
   "metadata": {},
   "outputs": [
    {
     "name": "stdout",
     "output_type": "stream",
     "text": [
      "Performance on fitted data:\n",
      "Average Decision Tree: 0.014528131839835201\n",
      "Random Forest: 1.0\n"
     ]
    }
   ],
   "source": [
    "decision_tree_scores = []\n",
    "for sub_tree in my_random_forest.estimators_:\n",
    "    decision_tree_scores.append(sub_tree.score(X_train_orig, y_train_orig))\n",
    "    \n",
    "print(\"Performance on fitted data:\")\n",
    "print(f\"Average Decision Tree: {np.mean(decision_tree_scores)}\")\n",
    "print(f\"Random Forest: {my_random_forest.score(X_train_orig, y_train_orig)}\")"
   ]
  },
  {
   "cell_type": "markdown",
   "id": "2bf4bec7-e1e5-460e-9d92-e9ecba6536f2",
   "metadata": {},
   "source": [
    "Very Overfit, let's lower estimators"
   ]
  },
  {
   "cell_type": "code",
   "execution_count": 17,
   "id": "52a46b29-7537-44c3-a7d6-f7e9c1d19cbd",
   "metadata": {},
   "outputs": [
    {
     "data": {
      "text/plain": [
       "RandomForestClassifier(n_estimators=20)"
      ]
     },
     "execution_count": 17,
     "metadata": {},
     "output_type": "execute_result"
    }
   ],
   "source": [
    "my_random_forest = RandomForestClassifier(n_estimators=20)\n",
    "my_random_forest.fit(X_train_orig, y_train_orig.values.ravel())"
   ]
  },
  {
   "cell_type": "code",
   "execution_count": 13,
   "id": "2c6bd543-cc62-4e4f-b08d-50cd091593f5",
   "metadata": {},
   "outputs": [
    {
     "name": "stdout",
     "output_type": "stream",
     "text": [
      "Performance on fitted data:\n",
      "Average Decision Tree: 0.014136732329084589\n",
      "Random Forest: 0.9996137504828119\n"
     ]
    }
   ],
   "source": [
    "decision_tree_scores = []\n",
    "for sub_tree in my_random_forest.estimators_:\n",
    "    decision_tree_scores.append(sub_tree.score(X_train_orig, y_train_orig))\n",
    "    \n",
    "print(\"Performance on fitted data:\")\n",
    "print(f\"Average Decision Tree: {np.mean(decision_tree_scores)}\")\n",
    "print(f\"Random Forest: {my_random_forest.score(X_train_orig, y_train_orig)}\")"
   ]
  },
  {
   "cell_type": "code",
   "execution_count": 20,
   "id": "86733346-4080-4ee7-8941-f6dd8090232d",
   "metadata": {
    "tags": []
   },
   "outputs": [
    {
     "name": "stdout",
     "output_type": "stream",
     "text": [
      "1 2 3 4 5 6 7 8 9 10 11 12 13 14 15 16 17 18 19 20 21 22 23 24 25 26 27 28 29 30 31 32 33 34 35 36 37 38 39 40 41 42 43 44 45 46 47 48 49 50 51 52 53 54 55 56 57 58 59 60 61 62 63 64 65 66 67 68 69 70 71 72 73 74 75 76 77 78 79 80 81 82 83 84 85 86 87 88 89 90 91 92 93 94 95 96 97 98 99 1 2 3 4 5 6 7 8 9 10 11 12 13 14 15 16 17 18 19 20 21 22 23 24 25 26 27 28 29 30 31 32 33 34 35 36 37 38 39 40 41 42 43 44 45 46 47 48 49 50 51 52 53 54 55 56 57 58 59 60 61 62 63 64 65 66 67 68 69 70 71 72 73 74 75 76 77 78 79 80 81 82 83 84 85 86 87 88 89 90 91 92 93 94 95 96 97 98 99 1 2 3 4 5 6 7 8 9 10 11 12 13 14 15 16 17 18 19 20 21 22 23 24 25 26 27 28 29 30 31 32 33 34 35 36 37 38 39 40 41 42 43 44 45 46 47 48 49 50 51 52 53 54 55 56 57 58 59 60 61 62 63 64 65 66 67 68 69 70 71 72 73 74 75 76 77 78 79 80 81 82 83 84 85 86 87 88 89 90 91 92 93 94 95 96 97 98 99 "
     ]
    },
    {
     "data": {
      "image/png": "[encoded data removed]",
      "text/plain": [
       "<Figure size 432x288 with 1 Axes>"
      ]
     },
     "metadata": {
      "needs_background": "light"
     },
     "output_type": "display_data"
    }
   ],
   "source": [
    "from sklearn.ensemble import RandomForestClassifier\n",
    "\n",
    "plt.figure()\n",
    "\n",
    "for max_depth in np.arange(1, 4):\n",
    "\n",
    "    scores = list()\n",
    "    \n",
    "    for n_est in np.arange(1, 100):\n",
    "        print(n_est, end=' ')\n",
    "\n",
    "        # Instantiate\n",
    "        rf = RandomForestClassifier(n_estimators=n_est, max_depth=max_depth)\n",
    "\n",
    "        # Fit \n",
    "        rf.fit(X_train_orig, y_train_orig.values.ravel())\n",
    "\n",
    "        # Calculate score and append\n",
    "        scores.append(rf.score(X_test_orig, y_test_orig.values.ravel()))\n",
    "        \n",
    "    plt.plot(np.arange(1, 100), scores, label=max_depth)\n",
    "    \n",
    "plt.legend()\n",
    "plt.show()"
   ]
  },
  {
   "cell_type": "code",
   "execution_count": null,
   "id": "ee939e8c-ec1b-484a-bc8d-fbb26ddaa93d",
   "metadata": {},
   "outputs": [],
   "source": []
  }
 ],
 "metadata": {
  "kernelspec": {
   "display_name": "capstone",
   "language": "python",
   "name": "capstone"
  },
  "language_info": {
   "codemirror_mode": {
    "name": "ipython",
    "version": 3
   },
   "file_extension": ".py",
   "mimetype": "text/x-python",
   "name": "python",
   "nbconvert_exporter": "python",
   "pygments_lexer": "ipython3",
   "version": "3.8.11"
  }
 },
 "nbformat": 4,
 "nbformat_minor": 5
}
