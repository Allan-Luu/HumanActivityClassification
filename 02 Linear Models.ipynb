{
 "cells": [
  {
   "cell_type": "markdown",
   "id": "0442dc35-6ff2-4ed3-9c62-4aa858ee8309",
   "metadata": {},
   "source": [
    "# Linear Modeling"
   ]
  },
  {
   "cell_type": "markdown",
   "id": "04a976ff-e2ca-495e-a225-1542ed12b443",
   "metadata": {},
   "source": [
    "### Introduction "
   ]
  },
  {
   "cell_type": "markdown",
   "id": "333e69fc-ae20-41fb-b57d-e973e3edf70c",
   "metadata": {},
   "source": [
    "This notebook contains some linear modelling performed on the data downloaded from [UCI machine learning repository](http://archive.ics.uci.edu/ml/datasets/Smartphone-Based+Recognition+of+Human+Activities+and+Postural+Transitions)\n",
    "\n",
    "We will be using the train/test data provided in order to use linear classification models to identify which activity is being performed based off of phone sensor data."
   ]
  },
  {
   "cell_type": "markdown",
   "id": "bb900d66-f32a-4c58-9e3a-6b6d687e999e",
   "metadata": {},
   "source": [
    "First, we'll start off by importing our required libraries for this analysis"
   ]
  },
  {
   "cell_type": "code",
   "execution_count": 4,
   "id": "f0e91618-a63b-48a0-9290-684513e95621",
   "metadata": {},
   "outputs": [],
   "source": [
    "# importing basic libraries\n",
    "import pandas as pd\n",
    "import numpy as np\n",
    "import matplotlib.pyplot as plt\n",
    "import seaborn as sns\n",
    "\n",
    "# importing automation libraries\n",
    "from sklearn.pipeline import Pipeline\n",
    "from sklearn.model_selection import GridSearchCV\n",
    "from sklearn.model_selection import cross_val_score\n",
    "\n",
    "# importing dimensionality reduction\n",
    "from sklearn.decomposition import PCA\n",
    "from sklearn.manifold import TSNE\n",
    "\n",
    "# importing models\n",
    "from sklearn import svm\n",
    "from sklearn.linear_model import LogisticRegression\n",
    "from sklearn.tree import DecisionTreeClassifier\n",
    "from sklearn.neighbors import KNeighborsClassifier\n",
    "\n",
    "# Ignore futurewarnings\n",
    "import warnings\n",
    "warnings.filterwarnings('ignore')"
   ]
  },
  {
   "cell_type": "markdown",
   "id": "041a18ce-15df-41c7-b31b-82827d0c8a17",
   "metadata": {},
   "source": [
    "The way this data is read is explained in `01 Basic_EDA.ipynb` "
   ]
  },
  {
   "cell_type": "code",
   "execution_count": 5,
   "id": "b36a1a0e-2056-4b64-862a-3a4e5a4d5689",
   "metadata": {},
   "outputs": [],
   "source": [
    "# reading in the data\n",
    "columns = pd.read_csv('data/features2.txt', header = None)\n",
    "\n",
    "X_train = pd.read_csv('data/Train/X_train.txt', names = columns[0], sep=' ')\n",
    "X_test = pd.read_csv('data/Test/X_test.txt', names = columns[0], sep=' ')\n",
    "\n",
    "y_train = pd.read_csv('data/Train/y_train.txt', sep=' ', header = None)\n",
    "y_test = pd.read_csv('data/Test/y_test.txt', sep=' ', header = None)"
   ]
  },
  {
   "cell_type": "code",
   "execution_count": 6,
   "id": "a6afdc6a-604b-4f26-adb2-e1a8fbfbd479",
   "metadata": {},
   "outputs": [],
   "source": [
    "X = pd.concat([X_train,X_test])\n",
    "y = pd.concat([y_train,y_test])"
   ]
  },
  {
   "cell_type": "markdown",
   "id": "9cd4124d-8dfb-435c-ad4c-c6598d345095",
   "metadata": {},
   "source": [
    "### Plan\n",
    "\n",
    "For the sake of time and efficiency, we'll try a quick pipeline with dimensionality reduction and some linear models to find the best performing model.\n",
    "\n",
    "We'll make use of the method `gridsearchCV` to iterate through different models quickly, perform some hyperparameter optimization and cross validation all at the same time."
   ]
  },
  {
   "cell_type": "markdown",
   "id": "f98cbec4-60f2-40ef-be44-03c71e1c8f9e",
   "metadata": {},
   "source": [
    "### Pipeline"
   ]
  },
  {
   "cell_type": "markdown",
   "id": "fa7b052e-14e0-4e7e-bd3d-0b68419fc9a6",
   "metadata": {},
   "source": [
    "We start off by setting up our estimators and running them through the pipe. Then. with the parameter grid, we throw it into GridSearchCV to iterate through all possible combinations to find the model with the best score.\n",
    "\n",
    "In our grid, we'll be using the following models and dimensionality reduction techniques:\n",
    "\n",
    "**Models**\n",
    "- Support Vector Machine\n",
    "- Decision Tree Classifier\n",
    "- Logistic Regression\n",
    "- K-Nearest Neighbors\n",
    "\n",
    "**Dimensionality Reduction**\n",
    "- t-SNE\n",
    "- Principal Component Analysis\n",
    "\n",
    "We'll also be using a cross validation split of 5."
   ]
  },
  {
   "cell_type": "code",
   "execution_count": 7,
   "id": "49ff5388-9644-4813-967c-07a53e90f43f",
   "metadata": {},
   "outputs": [
    {
     "name": "stdout",
     "output_type": "stream",
     "text": [
      "Fitting 5 folds for each of 110 candidates, totalling 550 fits\n"
     ]
    }
   ],
   "source": [
    "estimators = [\n",
    "    ('dim_reduction', PCA()),\n",
    "    ('model', svm.SVC())\n",
    "]\n",
    "pipe = Pipeline(estimators)\n",
    "\n",
    "param_grid = [\n",
    "            {\n",
    "                'dim_reduction': [TSNE(),PCA()],\n",
    "                'dim_reduction__n_components': [3, 5, 10],\n",
    "                'model': [DecisionTreeClassifier()], \n",
    "                'model__max_depth': range(1, 10),\n",
    "            },\n",
    "            {\n",
    "                'dim_reduction': [TSNE(),PCA()],\n",
    "                'dim_reduction__n_components': [3, 5, 10],\n",
    "                'model': [LogisticRegression()], \n",
    "                'model__C': [0.001, 0.01, 0.1, 1, 10, 100],\n",
    "            },\n",
    "             {\n",
    "                'dim_reduction': [None],\n",
    "                'model': [KNeighborsClassifier()], \n",
    "                'model__n_neighbors': range(1, 40, 2),\n",
    "            }\n",
    "] \n",
    "\n",
    "grid = GridSearchCV(pipe, param_grid, cv=5, verbose=1)\n",
    "\n",
    "fittedgrid = grid.fit(X_train, y_train)"
   ]
  },
  {
   "cell_type": "code",
   "execution_count": 8,
   "id": "f2b8048e-bba3-4e6c-b551-71307ef389c9",
   "metadata": {},
   "outputs": [
    {
     "data": {
      "text/plain": [
       "Pipeline(steps=[('dim_reduction', None),\n",
       "                ('model', KNeighborsClassifier(n_neighbors=9))])"
      ]
     },
     "execution_count": 8,
     "metadata": {},
     "output_type": "execute_result"
    }
   ],
   "source": [
    "fittedgrid.best_estimator_"
   ]
  },
  {
   "cell_type": "markdown",
   "id": "7bb6cecc-d3aa-43ab-9622-7dfb664479c5",
   "metadata": {},
   "source": [
    "Interesting! It seems like the best combination came out to be no dimensionality reduction with K-Nearest Neighbors being the best classifier to use, with 9 n_neighbors. I would have thought that having some dimensionality reduction would have given better results, but that wasn't the case."
   ]
  },
  {
   "cell_type": "markdown",
   "id": "8ce50680-5647-4162-b7db-92deea743a42",
   "metadata": {},
   "source": [
    "We can also take a look at how well each combination scored and how well our best estimator scored using the `.cv_results_` and .score methods respectively. "
   ]
  },
  {
   "cell_type": "code",
   "execution_count": 9,
   "id": "6c2614c5-d361-405c-83a3-d8f493b36767",
   "metadata": {
    "tags": []
   },
   "outputs": [
    {
     "data": {
      "text/plain": [
       "array([       nan,        nan,        nan,        nan,        nan,\n",
       "              nan,        nan,        nan,        nan,        nan,\n",
       "              nan,        nan,        nan,        nan,        nan,\n",
       "              nan,        nan,        nan,        nan,        nan,\n",
       "              nan,        nan,        nan,        nan,        nan,\n",
       "              nan,        nan, 0.34067206, 0.59070558, 0.69383516,\n",
       "       0.69177678, 0.71134683, 0.71778515, 0.71070415, 0.71855627,\n",
       "       0.71121655, 0.34067206, 0.59070558, 0.70709268, 0.70387716,\n",
       "       0.72010067, 0.73812897, 0.75126061, 0.74276408, 0.74173506,\n",
       "       0.34067206, 0.59585359, 0.71340338, 0.73297359, 0.75665922,\n",
       "       0.76593574, 0.76541944, 0.76670785, 0.76529389,        nan,\n",
       "              nan,        nan,        nan,        nan,        nan,\n",
       "              nan,        nan,        nan,        nan,        nan,\n",
       "              nan,        nan,        nan,        nan,        nan,\n",
       "              nan,        nan, 0.71018364, 0.74816758, 0.76104306,\n",
       "       0.76014158, 0.76001412, 0.76271724, 0.76838228, 0.79387295,\n",
       "       0.80275723, 0.79632098, 0.79760914, 0.79683653, 0.80674619,\n",
       "       0.83545916, 0.84692027, 0.84666536, 0.84228889, 0.84357664,\n",
       "       0.86854993, 0.88438676, 0.88528658, 0.88721791, 0.89043674,\n",
       "       0.88940747, 0.88837729, 0.88799119, 0.88811998, 0.88850574,\n",
       "       0.88837671, 0.88541578, 0.88580188, 0.88322697, 0.88309794,\n",
       "       0.88296899, 0.88103724, 0.88090887, 0.88077959, 0.88026529])"
      ]
     },
     "execution_count": 9,
     "metadata": {},
     "output_type": "execute_result"
    }
   ],
   "source": [
    "# all the 110 mean CV scores for the different param combinations\n",
    "fittedgrid.cv_results_['mean_test_score']"
   ]
  },
  {
   "cell_type": "code",
   "execution_count": 10,
   "id": "170d6ad0-f3b3-4f53-bd7e-bbc3fa438f51",
   "metadata": {},
   "outputs": [
    {
     "data": {
      "text/plain": [
       "0.8889943074003795"
      ]
     },
     "execution_count": 10,
     "metadata": {},
     "output_type": "execute_result"
    }
   ],
   "source": [
    "# final reported performance of the best estimator\n",
    "fittedgrid.score(X_test, y_test)"
   ]
  },
  {
   "cell_type": "markdown",
   "id": "e1facc2b-8583-46cd-a527-7fc66dea838e",
   "metadata": {},
   "source": [
    "Although our model scored 88.899%, we can see that there were a few numbers that scored within 1% of this, so there could be other combinations that worked almost just as well, but are more efficient, but so far, I'm pretty happy with this model."
   ]
  },
  {
   "cell_type": "markdown",
   "id": "15d85c3e-3ee0-47f8-bb95-20c47d629a4c",
   "metadata": {},
   "source": [
    "Let's continue to do some more model evaluation on our best estimator!\n",
    "\n",
    "---\n",
    "\n",
    "### Model Evaluation"
   ]
  },
  {
   "cell_type": "markdown",
   "id": "93167859-aa47-4e04-8528-2fc12c3fe2bc",
   "metadata": {},
   "source": [
    "For our model evaluation, we will take a look at the confusion matrix"
   ]
  },
  {
   "cell_type": "code",
   "execution_count": 11,
   "id": "c6b4eba3-884c-4762-8f3e-a7fb81b4b384",
   "metadata": {},
   "outputs": [
    {
     "name": "stdout",
     "output_type": "stream",
     "text": [
      "[[486   1   9   0   0   0   0   0   0   0   0   0]\n",
      " [ 37 430   4   0   0   0   0   0   0   0   0   0]\n",
      " [ 49  46 325   0   0   0   0   0   0   0   0   0]\n",
      " [  0   4   0 406  98   0   0   0   0   0   0   0]\n",
      " [  0   2   0  38 516   0   0   0   0   0   0   0]\n",
      " [  0   1   0   2   2 540   0   0   0   0   0   0]\n",
      " [  1   4   0   1   0   0  17   0   0   0   0   0]\n",
      " [  0   0   0   0   0   0   0  10   0   0   0   0]\n",
      " [  0   0   0   0   0   0   0   0  28   0   4   0]\n",
      " [  0   0   0   0   0   0   0   0   1  21   0   3]\n",
      " [  2   5   0   0   1   0   4   0  16   0  21   0]\n",
      " [  1   0   0   0   0   0   0   0   1  12   2  11]]\n"
     ]
    }
   ],
   "source": [
    "from sklearn.metrics import confusion_matrix\n",
    "\n",
    "y_pred = fittedgrid.best_estimator_.predict(X_test)\n",
    "print(confusion_matrix(y_test, y_pred))"
   ]
  },
  {
   "cell_type": "code",
   "execution_count": 14,
   "id": "78924a4a-a2e5-4c0f-bc7a-4c84ac38a2b0",
   "metadata": {},
   "outputs": [
    {
     "data": {
      "image/png": "[encoded data removed]",
      "text/plain": [
       "<Figure size 432x288 with 2 Axes>"
      ]
     },
     "metadata": {
      "needs_background": "light"
     },
     "output_type": "display_data"
    }
   ],
   "source": [
    "from sklearn.metrics import plot_confusion_matrix\n",
    "# the function expects the estimator, inputs and target as parameters\n",
    "plot_confusion_matrix(fittedgrid, X_test, y_test);"
   ]
  },
  {
   "cell_type": "markdown",
   "id": "177c616a-3a5f-4cb4-a3fe-e4217ddce0ce",
   "metadata": {},
   "source": [
    "From the confusion matrix above, we can see that the most commonly misclassified classes were\n",
    "4: misclassified as 5, 98 times\n",
    "3: misclassified as 2, 46 times\n",
    "1: misclassified as 3 and 2, 49 and 37 times respectively\n",
    "\n",
    "Other than these misclassifications, we can see that there are few others misclassified.\n",
    "\n",
    "We can also see high numbers of classification for classes 1 to 6, this makes sense as these are the main actions. Classes 7 to 12 are the actions in between static movements."
   ]
  },
  {
   "cell_type": "code",
   "execution_count": null,
   "id": "485a5e7e-aaf3-4445-a3fc-f7a80dc38eae",
   "metadata": {},
   "outputs": [],
   "source": []
  }
 ],
 "metadata": {
  "kernelspec": {
   "display_name": "Python 3",
   "language": "python",
   "name": "python3"
  },
  "language_info": {
   "codemirror_mode": {
    "name": "ipython",
    "version": 3
   },
   "file_extension": ".py",
   "mimetype": "text/x-python",
   "name": "python",
   "nbconvert_exporter": "python",
   "pygments_lexer": "ipython3",
   "version": "3.8.8"
  }
 },
 "nbformat": 4,
 "nbformat_minor": 5
}
