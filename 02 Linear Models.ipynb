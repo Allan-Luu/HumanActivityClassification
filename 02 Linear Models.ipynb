{
 "cells": [
  {
   "cell_type": "markdown",
   "id": "0442dc35-6ff2-4ed3-9c62-4aa858ee8309",
   "metadata": {},
   "source": [
    "# Linear Modeling"
   ]
  },
  {
   "cell_type": "code",
   "execution_count": 1,
   "id": "f0e91618-a63b-48a0-9290-684513e95621",
   "metadata": {},
   "outputs": [],
   "source": [
    "# importing basic libraries\n",
    "import pandas as pd\n",
    "import numpy as np\n",
    "import matplotlib.pyplot as plt\n",
    "import seaborn as sns\n",
    "\n",
    "# importing automation libraries\n",
    "from sklearn.pipeline import Pipeline\n",
    "from sklearn.model_selection import GridSearchCV\n",
    "from sklearn.model_selection import cross_val_score\n",
    "\n",
    "# importing dimensionality reduction\n",
    "from sklearn.decomposition import PCA\n",
    "from sklearn.manifold import TSNE\n",
    "\n",
    "# importing models\n",
    "from sklearn import svm\n",
    "from sklearn.linear_model import LogisticRegression\n",
    "from sklearn.tree import DecisionTreeClassifier\n",
    "from sklearn.neighbors import KNeighborsClassifier\n",
    "\n",
    "# Ignore futurewarnings\n",
    "import warnings\n",
    "warnings.filterwarnings('ignore')"
   ]
  },
  {
   "cell_type": "code",
   "execution_count": 2,
   "id": "b36a1a0e-2056-4b64-862a-3a4e5a4d5689",
   "metadata": {},
   "outputs": [],
   "source": [
    "# reading in the data\n",
    "columns = pd.read_csv('data/features2.txt', header = None)\n",
    "\n",
    "X_train = pd.read_csv('data/Train/X_train.txt', names = columns[0], sep=' ')\n",
    "X_test = pd.read_csv('data/Test/X_test.txt', names = columns[0], sep=' ')\n",
    "\n",
    "y_train = pd.read_csv('data/Train/y_train.txt', sep=' ', header = None)\n",
    "y_test = pd.read_csv('data/Test/y_test.txt', sep=' ', header = None)"
   ]
  },
  {
   "cell_type": "code",
   "execution_count": 3,
   "id": "a6afdc6a-604b-4f26-adb2-e1a8fbfbd479",
   "metadata": {},
   "outputs": [],
   "source": [
    "X = pd.concat([X_train,X_test])\n",
    "y = pd.concat([y_train,y_test])"
   ]
  },
  {
   "cell_type": "markdown",
   "id": "9cd4124d-8dfb-435c-ad4c-c6598d345095",
   "metadata": {},
   "source": [
    "**PLAN**\n",
    "\n",
    "try a quick pipeline with dim red and a linear model\n",
    "\n",
    "makes use of what we learned about gridsearchCV to iterate through different models quickly"
   ]
  },
  {
   "cell_type": "code",
   "execution_count": 4,
   "id": "49ff5388-9644-4813-967c-07a53e90f43f",
   "metadata": {},
   "outputs": [
    {
     "name": "stdout",
     "output_type": "stream",
     "text": [
      "Fitting 5 folds for each of 110 candidates, totalling 550 fits\n"
     ]
    }
   ],
   "source": [
    "estimators = [\n",
    "    ('dim_reduction', PCA()),\n",
    "    ('model', svm.SVC())\n",
    "]\n",
    "pipe = Pipeline(estimators)\n",
    "\n",
    "param_grid = [\n",
    "            {\n",
    "                'dim_reduction': [TSNE(),PCA()],\n",
    "                'dim_reduction__n_components': [3, 5, 10],\n",
    "                'model': [DecisionTreeClassifier()], \n",
    "                'model__max_depth': range(1, 10),\n",
    "            },\n",
    "            {\n",
    "                'dim_reduction': [TSNE(),PCA()],\n",
    "                'dim_reduction__n_components': [3, 5, 10],\n",
    "                'model': [LogisticRegression()], \n",
    "                'model__C': [0.001, 0.01, 0.1, 1, 10, 100],\n",
    "            },\n",
    "             {\n",
    "                'dim_reduction': [None],\n",
    "                'model': [KNeighborsClassifier()], \n",
    "                'model__n_neighbors': range(1, 40, 2),\n",
    "            }\n",
    "] \n",
    "\n",
    "grid = GridSearchCV(pipe, param_grid, cv=5, verbose=1)\n",
    "\n",
    "fittedgrid = grid.fit(X_train, y_train)"
   ]
  },
  {
   "cell_type": "code",
   "execution_count": 5,
   "id": "f2b8048e-bba3-4e6c-b551-71307ef389c9",
   "metadata": {},
   "outputs": [
    {
     "data": {
      "text/plain": [
       "Pipeline(steps=[('dim_reduction', None),\n",
       "                ('model', KNeighborsClassifier(n_neighbors=9))])"
      ]
     },
     "execution_count": 5,
     "metadata": {},
     "output_type": "execute_result"
    }
   ],
   "source": [
    "fittedgrid.best_estimator_"
   ]
  },
  {
   "cell_type": "code",
   "execution_count": 6,
   "id": "6c2614c5-d361-405c-83a3-d8f493b36767",
   "metadata": {
    "tags": []
   },
   "outputs": [
    {
     "data": {
      "text/plain": [
       "array([       nan,        nan,        nan,        nan,        nan,\n",
       "              nan,        nan,        nan,        nan,        nan,\n",
       "              nan,        nan,        nan,        nan,        nan,\n",
       "              nan,        nan,        nan,        nan,        nan,\n",
       "              nan,        nan,        nan,        nan,        nan,\n",
       "              nan,        nan, 0.34067206, 0.59070558, 0.69383516,\n",
       "       0.69177678, 0.71108926, 0.71752775, 0.7112192 , 0.71752634,\n",
       "       0.71173185, 0.34067206, 0.59070558, 0.7069639 , 0.70400603,\n",
       "       0.71714016, 0.73825775, 0.7485565 , 0.74559739, 0.73774477,\n",
       "       0.34067206, 0.59598229, 0.71340338, 0.73310237, 0.75627287,\n",
       "       0.76477619, 0.76619214, 0.76632134, 0.76619513,        nan,\n",
       "              nan,        nan,        nan,        nan,        nan,\n",
       "              nan,        nan,        nan,        nan,        nan,\n",
       "              nan,        nan,        nan,        nan,        nan,\n",
       "              nan,        nan, 0.71031242, 0.7472661 , 0.7601415 ,\n",
       "       0.75885433, 0.76117209, 0.76130137, 0.76838228, 0.79413043,\n",
       "       0.80224243, 0.7969649 , 0.7973515 , 0.7972228 , 0.80648862,\n",
       "       0.83558786, 0.8469206 , 0.84550706, 0.8435768 , 0.84357672,\n",
       "       0.86854993, 0.88438676, 0.88528658, 0.88721791, 0.89043674,\n",
       "       0.88940747, 0.88837729, 0.88799119, 0.88811998, 0.88850574,\n",
       "       0.88837671, 0.88541578, 0.88580188, 0.88322697, 0.88309794,\n",
       "       0.88296899, 0.88103724, 0.88090887, 0.88077959, 0.88026529])"
      ]
     },
     "execution_count": 6,
     "metadata": {},
     "output_type": "execute_result"
    }
   ],
   "source": [
    "# all the 110 mean CV scores for the different param combinations\n",
    "fittedgrid.cv_results_['mean_test_score']"
   ]
  },
  {
   "cell_type": "code",
   "execution_count": 7,
   "id": "170d6ad0-f3b3-4f53-bd7e-bbc3fa438f51",
   "metadata": {},
   "outputs": [
    {
     "data": {
      "text/plain": [
       "0.8889943074003795"
      ]
     },
     "execution_count": 7,
     "metadata": {},
     "output_type": "execute_result"
    }
   ],
   "source": [
    "# final reported performance of the best estimator\n",
    "fittedgrid.score(X_test, y_test)"
   ]
  },
  {
   "cell_type": "code",
   "execution_count": null,
   "id": "9e3b67a5-ce00-41f4-99f5-93a9381bdee9",
   "metadata": {},
   "outputs": [],
   "source": []
  }
 ],
 "metadata": {
  "kernelspec": {
   "display_name": "capstone",
   "language": "python",
   "name": "capstone"
  },
  "language_info": {
   "codemirror_mode": {
    "name": "ipython",
    "version": 3
   },
   "file_extension": ".py",
   "mimetype": "text/x-python",
   "name": "python",
   "nbconvert_exporter": "python",
   "pygments_lexer": "ipython3",
   "version": "3.8.11"
  }
 },
 "nbformat": 4,
 "nbformat_minor": 5
}
