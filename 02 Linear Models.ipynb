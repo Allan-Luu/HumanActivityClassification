{
 "cells": [
  {
   "cell_type": "markdown",
   "id": "0442dc35-6ff2-4ed3-9c62-4aa858ee8309",
   "metadata": {},
   "source": [
    "# Linear Modeling"
   ]
  },
  {
   "cell_type": "code",
   "execution_count": 2,
   "id": "f0e91618-a63b-48a0-9290-684513e95621",
   "metadata": {},
   "outputs": [],
   "source": [
    "import pandas as pd\n",
    "import numpy as np\n",
    "import matplotlib.pyplot as plt\n",
    "import seaborn as sns"
   ]
  },
  {
   "cell_type": "code",
   "execution_count": 22,
   "id": "b36a1a0e-2056-4b64-862a-3a4e5a4d5689",
   "metadata": {},
   "outputs": [],
   "source": [
    "# reading in the data\n",
    "columns = pd.read_csv('data/features2.txt', header = None)\n",
    "\n",
    "X_train = pd.read_csv('data/Train/X_train.txt', names = columns[0], sep=' ')\n",
    "X_test = pd.read_csv('data/Test/X_test.txt', names = columns[0], sep=' ')\n",
    "\n",
    "y_train = pd.read_csv('data/Train/y_train.txt', sep=' ')\n",
    "y_test = pd.read_csv('data/Test/y_test.txt', sep=' ')"
   ]
  },
  {
   "cell_type": "markdown",
   "id": "9cd4124d-8dfb-435c-ad4c-c6598d345095",
   "metadata": {},
   "source": [
    "**PLAN**\n",
    "\n",
    "try a quick pipeline with dim red and a linear model\n",
    "\n",
    "makes use of what we learned about gridsearchCV to iterate through different models quickly"
   ]
  },
  {
   "cell_type": "code",
   "execution_count": null,
   "id": "49ff5388-9644-4813-967c-07a53e90f43f",
   "metadata": {},
   "outputs": [],
   "source": []
  }
 ],
 "metadata": {
  "kernelspec": {
   "display_name": "Python 3",
   "language": "python",
   "name": "python3"
  },
  "language_info": {
   "codemirror_mode": {
    "name": "ipython",
    "version": 3
   },
   "file_extension": ".py",
   "mimetype": "text/x-python",
   "name": "python",
   "nbconvert_exporter": "python",
   "pygments_lexer": "ipython3",
   "version": "3.8.8"
  }
 },
 "nbformat": 4,
 "nbformat_minor": 5
}
