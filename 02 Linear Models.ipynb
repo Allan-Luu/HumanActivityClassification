{
 "cells": [
  {
   "cell_type": "markdown",
   "id": "0442dc35-6ff2-4ed3-9c62-4aa858ee8309",
   "metadata": {},
   "source": [
    "# Linear Modeling"
   ]
  },
  {
   "cell_type": "code",
   "execution_count": 41,
   "id": "f0e91618-a63b-48a0-9290-684513e95621",
   "metadata": {},
   "outputs": [],
   "source": [
    "# importing basic libraries\n",
    "import pandas as pd\n",
    "import numpy as np\n",
    "import matplotlib.pyplot as plt\n",
    "import seaborn as sns\n",
    "\n",
    "# importing automation libraries\n",
    "from sklearn.pipeline import Pipeline\n",
    "from sklearn.model_selection import GridSearchCV\n",
    "from sklearn.model_selection import cross_val_score\n",
    "\n",
    "# importing dimensionality reduction\n",
    "from sklearn.decomposition import PCA\n",
    "from sklearn.manifold import TSNE\n",
    "\n",
    "# importing models\n",
    "from sklearn import svm\n",
    "from sklearn.linear_model import LogisticRegression\n",
    "from sklearn.tree import DecisionTreeClassifier\n",
    "from sklearn.neighbors import KNeighborsClassifier\n",
    "\n",
    "# Ignore futurewarnings\n",
    "import warnings\n",
    "warnings.filterwarnings('ignore')"
   ]
  },
  {
   "cell_type": "code",
   "execution_count": 29,
   "id": "b36a1a0e-2056-4b64-862a-3a4e5a4d5689",
   "metadata": {},
   "outputs": [],
   "source": [
    "# reading in the data\n",
    "columns = pd.read_csv('data/features2.txt', header = None)\n",
    "\n",
    "X_train = pd.read_csv('data/Train/X_train.txt', names = columns[0], sep=' ')\n",
    "X_test = pd.read_csv('data/Test/X_test.txt', names = columns[0], sep=' ')\n",
    "\n",
    "y_train = pd.read_csv('data/Train/y_train.txt', sep=' ', header = None)\n",
    "y_test = pd.read_csv('data/Test/y_test.txt', sep=' ', header = None)"
   ]
  },
  {
   "cell_type": "code",
   "execution_count": 56,
   "id": "a6afdc6a-604b-4f26-adb2-e1a8fbfbd479",
   "metadata": {},
   "outputs": [],
   "source": [
    "X = pd.concat([X_train,X_test])\n",
    "y = pd.concat([y_train,y_test])"
   ]
  },
  {
   "cell_type": "markdown",
   "id": "9cd4124d-8dfb-435c-ad4c-c6598d345095",
   "metadata": {},
   "source": [
    "**PLAN**\n",
    "\n",
    "try a quick pipeline with dim red and a linear model\n",
    "\n",
    "makes use of what we learned about gridsearchCV to iterate through different models quickly"
   ]
  },
  {
   "cell_type": "code",
   "execution_count": 73,
   "id": "49ff5388-9644-4813-967c-07a53e90f43f",
   "metadata": {},
   "outputs": [
    {
     "name": "stdout",
     "output_type": "stream",
     "text": [
      "Fitting 5 folds for each of 110 candidates, totalling 550 fits\n"
     ]
    }
   ],
   "source": [
    "estimators = [\n",
    "    ('dim_reduction', PCA()),\n",
    "    ('model', svm.SVC())\n",
    "]\n",
    "pipe = Pipeline(estimators)\n",
    "\n",
    "param_grid = [\n",
    "            {\n",
    "                'dim_reduction': [TSNE(),PCA()],\n",
    "                'dim_reduction__n_components': [3, 5, 10],\n",
    "                'model': [DecisionTreeClassifier()], \n",
    "                'model__max_depth': range(1, 10),\n",
    "            },\n",
    "            {\n",
    "                'dim_reduction': [TSNE(),PCA()],\n",
    "                'dim_reduction__n_components': [3, 5, 10],\n",
    "                'model': [LogisticRegression()], \n",
    "                'model__C': [0.001, 0.01, 0.1, 1, 10, 100],\n",
    "            },\n",
    "             {\n",
    "                'dim_reduction': [None],\n",
    "                'model': [KNeighborsClassifier()], \n",
    "                'model__n_neighbors': range(1, 40, 2),\n",
    "            }\n",
    "] \n",
    "\n",
    "grid = GridSearchCV(pipe, param_grid, cv=5, verbose=1)\n",
    "\n",
    "fittedgrid = grid.fit(X_train, y_train)"
   ]
  },
  {
   "cell_type": "code",
   "execution_count": 74,
   "id": "f2b8048e-bba3-4e6c-b551-71307ef389c9",
   "metadata": {},
   "outputs": [
    {
     "data": {
      "text/plain": [
       "Pipeline(steps=[('dim_reduction', None),\n",
       "                ('model', KNeighborsClassifier(n_neighbors=9))])"
      ]
     },
     "execution_count": 74,
     "metadata": {},
     "output_type": "execute_result"
    }
   ],
   "source": [
    "fittedgrid.best_estimator_"
   ]
  },
  {
   "cell_type": "code",
   "execution_count": 75,
   "id": "6c2614c5-d361-405c-83a3-d8f493b36767",
   "metadata": {
    "tags": []
   },
   "outputs": [
    {
     "data": {
      "text/plain": [
       "array([       nan,        nan,        nan,        nan,        nan,\n",
       "              nan,        nan,        nan,        nan,        nan,\n",
       "              nan,        nan,        nan,        nan,        nan,\n",
       "              nan,        nan,        nan,        nan,        nan,\n",
       "              nan,        nan,        nan,        nan,        nan,\n",
       "              nan,        nan, 0.34067206, 0.59070558, 0.69383516,\n",
       "       0.69177678, 0.71108926, 0.71752775, 0.7112192 , 0.71829854,\n",
       "       0.71121663, 0.34067206, 0.59070558, 0.7069639 , 0.70387716,\n",
       "       0.71932806, 0.73825725, 0.74598216, 0.74521087, 0.7380006 ,\n",
       "       0.34067206, 0.59585359, 0.71353216, 0.73297359, 0.75730313,\n",
       "       0.76245934, 0.76529083, 0.76876697, 0.76246025,        nan,\n",
       "              nan,        nan,        nan,        nan,        nan,\n",
       "              nan,        nan,        nan,        nan,        nan,\n",
       "              nan,        nan,        nan,        nan,        nan,\n",
       "              nan,        nan, 0.71005494, 0.74791009, 0.76065696,\n",
       "       0.76039939, 0.76104372, 0.76052884, 0.76838228, 0.79413051,\n",
       "       0.80121258, 0.79735141, 0.79709426, 0.79773793, 0.80661741,\n",
       "       0.83558786, 0.84704905, 0.84666561, 0.84241767, 0.84254687,\n",
       "       0.86854993, 0.88438676, 0.88528658, 0.88721791, 0.89043674,\n",
       "       0.88940747, 0.88837729, 0.88799119, 0.88811998, 0.88850574,\n",
       "       0.88837671, 0.88541578, 0.88580188, 0.88322697, 0.88309794,\n",
       "       0.88296899, 0.88103724, 0.88090887, 0.88077959, 0.88026529])"
      ]
     },
     "execution_count": 75,
     "metadata": {},
     "output_type": "execute_result"
    }
   ],
   "source": [
    "# all the 110 mean CV scores for the different param combinations\n",
    "fittedgrid.cv_results_['mean_test_score']"
   ]
  },
  {
   "cell_type": "code",
   "execution_count": 76,
   "id": "170d6ad0-f3b3-4f53-bd7e-bbc3fa438f51",
   "metadata": {},
   "outputs": [
    {
     "data": {
      "text/plain": [
       "0.8889943074003795"
      ]
     },
     "execution_count": 76,
     "metadata": {},
     "output_type": "execute_result"
    }
   ],
   "source": [
    "# final reported performance of the best estimator\n",
    "fittedgrid.score(X_test, y_test)"
   ]
  },
  {
   "cell_type": "code",
   "execution_count": null,
   "id": "d2a5961d-e441-4978-8e80-17d5d285d7fe",
   "metadata": {},
   "outputs": [],
   "source": []
  },
  {
   "cell_type": "code",
   "execution_count": null,
   "id": "d5afa4b2-e962-47b6-bdbc-45ca8e480a84",
   "metadata": {},
   "outputs": [],
   "source": []
  },
  {
   "cell_type": "code",
   "execution_count": null,
   "id": "586e68c9-7997-4611-8cc7-76d2042c1bc2",
   "metadata": {},
   "outputs": [],
   "source": []
  },
  {
   "cell_type": "code",
   "execution_count": null,
   "id": "e3872cce-1731-455b-8bfd-1326a2f782ab",
   "metadata": {},
   "outputs": [],
   "source": []
  },
  {
   "cell_type": "code",
   "execution_count": null,
   "id": "1b1a0e77-3ff4-46bb-831e-986eb39902c0",
   "metadata": {},
   "outputs": [],
   "source": []
  },
  {
   "cell_type": "code",
   "execution_count": null,
   "id": "7d9859a3-fd19-4f29-8044-86a532872058",
   "metadata": {},
   "outputs": [],
   "source": []
  },
  {
   "cell_type": "code",
   "execution_count": null,
   "id": "1e911024-0b71-4473-9705-d265cf34ff82",
   "metadata": {},
   "outputs": [],
   "source": []
  },
  {
   "cell_type": "code",
   "execution_count": null,
   "id": "2850b502-bf00-4b33-a85a-3db2837c89a5",
   "metadata": {},
   "outputs": [],
   "source": []
  },
  {
   "cell_type": "code",
   "execution_count": 46,
   "id": "d19b76b1-6d71-46e2-9950-7b611ebac62f",
   "metadata": {},
   "outputs": [],
   "source": [
    "def PlotBoundaries(model, X, Y, plotsize=(6,4)) :\n",
    "    '''\n",
    "    Helper function that plots the decision boundaries of a model and data (X,Y)\n",
    "    code modified from: https://scikit-learn.org/stable/auto_examples/neighbors/plot_classification.html\n",
    "    '''\n",
    "    \n",
    "    x_min, x_max = X[:, 0].min() - 1, X[:, 0].max() + 1\n",
    "    y_min, y_max = X[:, 1].min() - 1,X[:, 1].max() + 1\n",
    "    xx, yy = np.meshgrid(np.arange(x_min, x_max, 0.01), np.arange(y_min, y_max, 0.01))\n",
    "\n",
    "    Z = model.predict(np.c_[xx.ravel(), yy.ravel()])\n",
    "    Z = Z.reshape(xx.shape)\n",
    "\n",
    "    plt.figure(figsize=plotsize)\n",
    "    plt.contourf(xx, yy, Z, alpha=0.4)\n",
    "\n",
    "    #Plot\n",
    "    plt.scatter(X[:, 0], X[:, 1], c=Y,s=20, edgecolor='k')\n",
    "    plt.show()"
   ]
  },
  {
   "cell_type": "code",
   "execution_count": null,
   "id": "524b99a4-65b8-4e7d-8919-18a400f74bd3",
   "metadata": {},
   "outputs": [],
   "source": [
    "KNN_model = KNeighborsClassifier(n_neighbors=3)\n",
    "KNN_model.fit(X_train, y_train)\n",
    "\n",
    "# Score the model on the test set\n",
    "test_predictions = KNN_model.predict(X_test)\n",
    "test_accuracy = accuracy_score(test_predictions, y_test)\n",
    "print(f\"Test set accuracy: {test_accuracy}\")\n",
    "\n",
    "PlotBoundaries(KNN_model, X, y, plotsize=(10,7))"
   ]
  }
 ],
 "metadata": {
  "kernelspec": {
   "display_name": "Python 3",
   "language": "python",
   "name": "python3"
  },
  "language_info": {
   "codemirror_mode": {
    "name": "ipython",
    "version": 3
   },
   "file_extension": ".py",
   "mimetype": "text/x-python",
   "name": "python",
   "nbconvert_exporter": "python",
   "pygments_lexer": "ipython3",
   "version": "3.8.8"
  }
 },
 "nbformat": 4,
 "nbformat_minor": 5
}
